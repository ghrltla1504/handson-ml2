{
 "cells": [
  {
   "cell_type": "markdown",
   "metadata": {
    "slideshow": {
     "slide_type": "slide"
    }
   },
   "source": [
    "# 머신러닝(소프트웨어융합전공) 강의 소개"
   ]
  },
  {
   "cell_type": "markdown",
   "metadata": {
    "slideshow": {
     "slide_type": "slide"
    }
   },
   "source": [
    "## 목표\n",
    "\n",
    "* 머신러닝 기초이론 학습 및 프로그래밍 능력 개발"
   ]
  },
  {
   "cell_type": "markdown",
   "metadata": {
    "slideshow": {
     "slide_type": "slide"
    }
   },
   "source": [
    "## 내용\n",
    "\n",
    "* 강의계획서 참조"
   ]
  },
  {
   "cell_type": "markdown",
   "metadata": {
    "slideshow": {
     "slide_type": "slide"
    }
   },
   "source": [
    "## 인공지능, 데이터과학, 머신러닝, 딥러닝의 관계\n",
    "\n",
    "* 인공지능: 사고나 학습 등 인간이 가진 지적능력을 컴퓨터를 통해 구현하는 기술\n",
    "* 데이터과학: 수학과 통계 지식을 활용하여 데이터로부터 특정 정보를 추출하는 과학\n",
    "* 머신러닝: 컴퓨터가 데이터를 스스로 학습하여 인공지능의 성능을 향상시키는 기법\n",
    "* 딥러닝: 인공신경망 이론을 기반으로 복잡한 비선형 문제를 기계 스스로 학습하도록 하는 기법"
   ]
  },
  {
   "cell_type": "markdown",
   "metadata": {
    "slideshow": {
     "slide_type": "slide"
    }
   },
   "source": [
    "## 데이터과학, 머신러닝/딥러닝 학습을 위한 필수 요소\n",
    "\n",
    "* 수학 및 통계: 선형대수, 확률과통계, 미적분학\n",
    "* 컴퓨터 프로그래밍, 특히 파이썬 프로그래밍 기초"
   ]
  },
  {
   "cell_type": "markdown",
   "metadata": {
    "slideshow": {
     "slide_type": "slide"
    }
   },
   "source": [
    "## 전제조건\n",
    "\n",
    "* 파이썬 프로그래밍에 어느 정도 익숙해야 함. \n",
    "* 파이썬 프로그래밍 기초 이외에 numpy, pandas 패키지를 어느 정도 알고 있어야 함."
   ]
  },
  {
   "cell_type": "markdown",
   "metadata": {
    "slideshow": {
     "slide_type": "slide"
    }
   },
   "source": [
    "## 교재\n",
    "\n",
    "아래 세 권의 책을 적절히 조합해서 다룰 것임. 온라인으로 강의노트 제공 예정.\n",
    "\n",
    "1. 핸즈온 머신러닝(2판), 오렐리앙 제롱, 한빛미디어\n",
    "1. 기타 추가 자료"
   ]
  },
  {
   "cell_type": "markdown",
   "metadata": {},
   "source": [
    "```\n",
    "\n",
    "\n",
    "\n",
    "\n",
    "\n",
    "\n",
    "\n",
    "\n",
    "\n",
    "```"
   ]
  },
  {
   "cell_type": "markdown",
   "metadata": {},
   "source": [
    "# 머신러닝(소프트웨어융합전공) 강의 예비학습 안내"
   ]
  },
  {
   "cell_type": "markdown",
   "metadata": {},
   "source": [
    "### 예비학습 목적\n",
    "\n",
    "학기가 시작하기 전에 아래 내용을 미리 공부할 것을 강력히 추천합니다.\n",
    "이유와 목적은 다음과 같습니다. \n",
    "\n",
    "* 파이썬 프로그래밍 기초 학습\n",
    "* numpy, pandas 패키지 기본 활용 학습\n",
    "* 앞서 언급한 내용에 대한 기초지식이 부족하면 많은 어려움을 겪을 수 있음.\n",
    "\n",
    "### 예비학습 1\n",
    "\n",
    "* 구글 코랩(Google Colab) 활용법을 만드시 익혀두어야 함.\n",
    "* 구글 코랩만 이용하여 강의 진행 예정\n",
    "* 참조: [구글 코랩 기초 사용법 안내 동영상](https://bit.ly/2L1NAcE)\n",
    "\n",
    "### 예비학습 2\n",
    "\n",
    "* 파이썬 기초지식이 거의 없는 경우에 해당\n",
    "* __파이썬 데이터과학 입문__ 강좌에서 소개하는 파이썬 프로그래밍 왕기초 학습\n",
    "    * 참조: [파이썬 데이터과학 입문](https://formal.hknu.ac.kr/Gongsu-DataSci/)\n",
    "* 실습환경: [구글 코랩(Google Colab)](https://colab.research.google.com/)\n",
    "\n",
    "### 예비학습 3\n",
    "\n",
    "* pandas에 대한 기초지식이 별로 없는 경우에 해당\n",
    "* 예비학습2 과정을 마친 후 아래 동영상 시리즈 시청 추천\n",
    "    * 참조: [Data analysis in Python with Pandas](http://bit.ly/3ov40rn)\n",
    "    * 내용: 다양한 판다스 실전 활용법 소개\n",
    "\n",
    "* 자동번역 한글자막 수준이 매우 우수함.\n",
    "    * 설정 => 자막 => 자동 번역 => 한국어.\n",
    "\n",
    "* 참조: [강의노트](http://bit.ly/3osVCJ7)\n",
    "\n",
    "### 예비학습 4\n",
    "\n",
    "* 파이썬 객체지향 프로그래밍 지식이 약한 경우 해당\n",
    "* 클래스, 깨체, 상속 등에 대한 개념을 잘 다져야 함.\n",
    "    * 참조: [파이썬 프로그래밍 기초](https://formal.hknu.ac.kr/ProgInPython/) (8장에서 10장 내용은 필수)\n",
    "    * [유튜브 파이썬 프로그래밍 기초](http://bit.ly/2YmDMwP)에서 9장까지 강의 동영상 제공함.\n",
    "        * pip08-1 동영상부터 8장에 해당함.\n",
    "* 실습환경: [레플릿](https://repl.it) 또는 [구글 코랩(Google Colab)](https://colab.research.google.com/)\n",
    "\n",
    "### 학습법\n",
    "\n",
    "* 학습법: 강의노트에서 소개하고 설명하는 내용을 레플릿 또는 구글 코랩에서 직접 타이핑 하면서 따라해볼 것.\n",
    "\n",
    "* __주의사항:__ 강의노트에 실린 코드를 단순히 실행만 하면 제대로 학습되지 않을 것임."
   ]
  }
 ],
 "metadata": {
  "kernelspec": {
   "display_name": "Python 3",
   "language": "python",
   "name": "python3"
  },
  "language_info": {
   "codemirror_mode": {
    "name": "ipython",
    "version": 3
   },
   "file_extension": ".py",
   "mimetype": "text/x-python",
   "name": "python",
   "nbconvert_exporter": "python",
   "pygments_lexer": "ipython3",
   "version": "3.8.3"
  }
 },
 "nbformat": 4,
 "nbformat_minor": 4
}
