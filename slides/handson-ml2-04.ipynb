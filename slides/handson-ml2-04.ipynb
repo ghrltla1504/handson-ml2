{
 "cells": [
  {
   "cell_type": "markdown",
   "metadata": {
    "slideshow": {
     "slide_type": "slide"
    }
   },
   "source": [
    "# 4장 모델 훈련"
   ]
  },
  {
   "cell_type": "markdown",
   "metadata": {
    "slideshow": {
     "slide_type": "slide"
    }
   },
   "source": [
    "* 모델 훈련 작동과정 이해\n",
    "    * 디버깅, 에러 분석 등에 도움\n",
    "* 딥러닝의 신경망 이해, 구축, 훈련에 필요한 주제 포함"
   ]
  },
  {
   "cell_type": "markdown",
   "metadata": {},
   "source": [
    "## 개요\n",
    "\n",
    "* 선형 회귀 모델\n",
    "    * 수학적으로 모델 파라미터 구하기\n",
    "    * 경사하강법 적용 모델 훈련\n",
    "\n",
    "* 경사하강법 종류\n",
    "    * 배치 경사하강법\n",
    "    * 미니배치 경사하강법\n",
    "    * 확률적 경사하강법(SGD)\n",
    "\n",
    "* 다항 회귀\n",
    "    * 비선형 모델 훈련법\n",
    "    \n",
    "* 학습 곡선\n",
    "    * 과대적합 감지\n",
    "    \n",
    "* 규제 기법\n",
    "    * 과대적합 위험 감소\n",
    "    \n",
    "* 로지스틱 회귀와 소프트맥스 회귀\n",
    "    * 분류 모델"
   ]
  },
  {
   "cell_type": "markdown",
   "metadata": {
    "slideshow": {
     "slide_type": "slide"
    }
   },
   "source": [
    "## 목차\n",
    "\n",
    "1. 선형 회귀\n",
    "2. 경사하강법\n",
    "3. 다항 회귀\n",
    "4. 학습 곡선\n",
    "5. 규제가 있는 선형 모델\n",
    "6. 로지스틱 회귀와 소프트맥스 회귀"
   ]
  },
  {
   "cell_type": "markdown",
   "metadata": {
    "colab_type": "text",
    "id": "cu97Fkqb1JRm",
    "slideshow": {
     "slide_type": "slide"
    }
   },
   "source": [
    "## 4.1 선형 회귀"
   ]
  },
  {
   "cell_type": "markdown",
   "metadata": {
    "colab_type": "text",
    "id": "cu97Fkqb1JRm"
   },
   "source": [
    "- 한 개의 특성 $x_1$을 사용하는 $i$번째 훈련 샘플에 대한 예측값을 구하는 선형 회귀 모델은 아래와 같음\n",
    "\n",
    "$$\\hat y^{(i)} = \\theta_0 + \\theta_1\\, x_1^{(i)}$$\n",
    "\n",
    "\n",
    "- $n\\ge 1$ 개의 특성을 사용하는 $i$번째 훈련 샘플에 대한 예측값을 구하는 일반적인 선형 회귀 모델은 아래와 같음\n",
    "\n",
    "$$\\hat y^{(i)} = \\theta_0 + \\theta_1\\, x_1^{(i)} + \\cdots + \\theta_n\\, x_n^{(i)}$$\n",
    "\n",
    "\n",
    "- 사용된 기호들의 의미\n",
    "  * $\\hat y^{(i)}$: $i$ 번째 훈련 샘플에 대한 **예측값**(타깃)\n",
    "  * $n$: 특성 **개수**\n",
    "  * $x_k^{(i)}$: $i$ 번째 훈련 샘플의 $k$ 번째 **특성값**\n",
    "  * $\\theta_i$\n",
    "    * $i > 0$: $i$ 번째 특성에 대한 **가중치** 파라미터\n",
    "    * $\\theta_0$: **편향**을 의미함."
   ]
  },
  {
   "cell_type": "markdown",
   "metadata": {
    "colab_type": "text",
    "id": "xAEi2esm5CSh"
   },
   "source": [
    "## 1.1 **정규 방정식**\n",
    "---\n",
    "- 선형 모델의 비용 함수를 최소화하는 $\\theta$를 수학적으로 해결이 가능\n",
    "- 선형회귀의 경우 아래 방정식이 만족되면 평균 제곱 오차(**MSE**)**가 0**이 되면서 최솟값을 가짐\n",
    "\n",
    "$$\\theta^{T}\\, {\\mathbf X}_b^T - {\\mathbf y}^T = 0$$\n",
    "\n",
    "- **정규방정식**: 위 방정식을 만족시키는 **가중치들의 리스트** $\\hat\\theta$를 찾는데 활용되는 아래의 방정식을 의미\n",
    "\n",
    "$$\\hat\\theta = (\\mathbf{X}_b^T \\mathbf{X}_b)^{-1} \\mathbf{X}_b^T \\mathbf{y}$$\n"
   ]
  },
  {
   "cell_type": "markdown",
   "metadata": {
    "colab_type": "text",
    "id": "Xct1w61Y8E1B"
   },
   "source": [
    "#### **사이키런의 선형 회귀**\n",
    "* 사이킷런의**` LinearRegression 클래스`**가 선형 회귀 모델의 **근사치**를 계산"
   ]
  },
  {
   "cell_type": "markdown",
   "metadata": {
    "colab_type": "text",
    "id": "zXDh5zlU8lqf"
   },
   "source": [
    "* **`LinearRegression.fit()`** 메서드는 정규방정식을 이용 X\n",
    "  * 행렬 계산 비용이 매우 비싸기 때문\n",
    "\n",
    "* **`LinearRegression.fit()`** 메서드는 **특잇값 분해**(singular value decomposition, SVD)라는 **표준 행렬 분해** 기법을 사용하여 아래 성질을 만족하는 행렬 $\\mathbf X^+$를 계산\n",
    "\n",
    "$$\\hat\\theta \\cong \\mathbf X^+ \\, \\mathbf y$$\n",
    "\n",
    "* $\\mathbf X^+$: $\\mathbf X$의 **유사역행렬**(pseudoinverse)"
   ]
  },
  {
   "cell_type": "markdown",
   "metadata": {
    "colab_type": "text",
    "id": "ho5NaX3z9y95"
   },
   "source": [
    "## 1.2 **계산 복잡도**\n",
    "---\n",
    "- 정규방정식에 사용되는 $(n+1)\\times (n+1)$ 모양의 $\\mathbf{X}_b^T \\mathbf{X}_b$의 **역행렬을 계산**해야함\n",
    "- 역행렬 계산 복잡도는 $O(n^{2.4}) \\sim O(n^3)$ 정도로 **비용이 많이 듦**\n",
    "-  즉, 특성 수가 두 배로 늘면 계산 시간은 $2^{2.4}=5.3 \\sim 2^3 = 8$ 배 정도 증가\n",
    "\n",
    "- 반면에 `LinearRegression` 에서 사용하는 **SVD 방식**의 시간 복잡도는 $O(n^2)$으로 상대적으로 저렴\n",
    "  * 하지만 그래도 **특성 수가 크면 실용성이 떨어짐**\n",
    "\n",
    "- 특성 수가 매우 많거나 훈련 세트의 크기가 너무 큰 경우 하나의 행렬로 지정한 후 매우 큰 수의 계산 과정을 실행하는 것은 **시간 뿐만 아니라 메모리 관련 문제**도 발생\n",
    "\n",
    "- 따라서 이럴 때는 정규방정식 방법 대신에 **경사 하강법**을 사용"
   ]
  },
  {
   "cell_type": "markdown",
   "metadata": {
    "colab_type": "text",
    "id": "eZwuDuPs-mNN"
   },
   "source": [
    "**!주의!**\n",
    "* 이미 선형 모델 학습이 되었다면 **예측**을 위한 시간 복잡도는 $O(n)$, 즉, **특성 수에 선형적**"
   ]
  },
  {
   "cell_type": "markdown",
   "metadata": {
    "colab_type": "text",
    "id": "3BbE04h8-tOu"
   },
   "source": [
    "# 2. 경사 하강법\n",
    "\n",
    "- 경사 하강법(gradient descent, GD)의 기본 아이디어는 훈련 세트를 이용한 학습 과정을 통해 가중치 등의 **파라미터를 조금씩 조정해 가는 것**\n",
    "\n",
    "## 2.1 경사 하강법에 사용되는 **주요 개념** \n",
    "--- \n",
    "1. **최적 학습 모델**\n",
    "  * 경사 하강법의 목표는 최적의 학습 모델을 점진적으로 찾아가는 것\n",
    "\n",
    "2. **파라미터**\n",
    "  * 최적의 학습 모델을 찾으려면 학습 모델을 결정하는 최적의 파라미터를 찾아야 함\n",
    "  * **선형** 회귀 모델의 경우, 파라미터는 **편형과 가중치**를 의미\n",
    "    * 편향($\\theta_0$)과 가중치($\\theta_i$)가 결정되면 선형 회귀 모델이 결정되기 때문\n",
    "\n",
    "  $$\\hat {\\mathbf y}^T = h_\\theta (\\mathbf X) = \\theta^{T}\\, \\mathbf X_b^T$$\n",
    "\n",
    "3. **비용 함수**\n",
    "  * 최적의 학습 모델은 **비용 함수가 최소**가 되도록 하는 모델\n",
    "  * **선형** 회귀 모델의 경우 평균 제곱 오차(**MSE**)가 비용 함수이며, 파라미터 $\\theta_i$에 의존\n",
    "\n",
    "$$\n",
    "\\mathrm{MSE}(\\mathbf X, h_\\theta) = \n",
    "\\frac 1 m \\sum_{i=0}^{m-1} (\\theta^{T}\\, \\mathbf (\\mathbf x_b^{(i)})^T - y^{(i)})^2\n",
    "$$\n",
    "\n",
    "4. **전역 최솟값**\n",
    "  * **비용 함수가 갖는 최소값**을 전역 최솟값이라 하며, 전역 최솟값이 되도록 하는 파라미터를 찾아야 함\n",
    "  * **선형** 회귀 모델의 경우 평균 제곱 오차(**MSE**) 함수가 **최소**가 되도록 하는 파라미터 $\\theta_i$를 찾아야 함\n",
    "\n",
    "5. **그레이디언트 벡터**\n",
    "  * 그레이디언트(gradient) 벡터는 **다변수 함수의 미분값**을 의미\n",
    "  * 다변수 함수의 미분값은 하나의 값이 아닌 **여러 개의 값**으로 이루어진 벡터를 이룸\n",
    "  * **선형** 회귀의 경우 **$n+1$개의 파라미터($\\theta_i$)**가 평균 제곱 오차(MSE) 함수의 매개변수로 사용\n",
    "  * **다변수 함수**: 두 개 이상의 매개변수를 사용하는 함수\n",
    "\"\n",
    "  * 다변수 함수의 미분값은 **편미분**을 이용\n",
    "    * 비용 함수의 **전역 최솟값**은 **그레이디언트가 0 벡터**가 되도록 하는 지점에서 비용 함수가 갖는 값\n",
    "    * 선형 회귀의 경우 $\\nabla_\\theta \\textrm{MSE}(\\theta)=0$이 되게하는 파라미터 $\\theta$를 찾아야 함\n",
    "    * 행렬의 곱셈은 비용이 많이 드므로 **임의의 파라미터($\\theta$)로 시작**해서 최적의 $\\theta$를 찾아가는 방식을 사용\n",
    "  \n",
    "  * $\\nabla_\\theta \\textrm{MSE}(\\theta)$에 담긴 내용\n",
    "    * 지점 $\\theta$에서의 편미분 값들로 이루어진 벡터\n",
    "    * 벡터는 **방향과 크기**에 대한 정보를 갖고 있음\n",
    "    * 비용 함수의 **전역 최솟값**은 그레이디언트가 가리키는 방향의 **반대쪽**으로 움직여야 가장 빠르게 접근할 수 있음"
   ]
  },
  {
   "cell_type": "markdown",
   "metadata": {
    "colab_type": "text",
    "id": "9vcJYAPEC0nA"
   },
   "source": [
    "6. **학습률**\n",
    "  * 비용 함수의 파라미터를 임의의 값으로 지정한 후 학습과정에서 **반복적으로 그레이디언트를 계산**하여 계산 결과에 따라 **파라미터 값을 조정**해야 하며, 이 조정 과정을 **비용 함수가 특정 값에 수렴할 때**까지 반복\n",
    "  * 파라미터를 조정할 때마다 조정되는 값의 **크기를 제한**해야함\n",
    "    * 너무 **크게** 움직이면 비용 함수가 **수렴 X**\n",
    "    * 너무 **작게** 움직이면 비용 함수가 전역 최소값에 너무 **느리게 수렴**하거나, 아니면 전역 최솟값이 아닌 **지역 최솟값에 수렴**할 수도 있음\n",
    "      * **지역 최솟값**: 특정 영역 내에서 최솟값\n",
    "  * 파라미터 조정의 크기를 정하는 값이 **학습률**(learning rate)이며, 보통 그리스어 알파벳인 $\\eta$(에타)로 표기\n",
    "  * 파라미터 조정은 해당 지점의 **그레이디언트 벡터가 가리키는 반대 방향**으로 움직여야함\n",
    "    * 예를 들어, 선형 회귀의 경우 새로운 파라미터 $\\theta^{(\\text{next step})}$을 학습률을 이용하여 아래와 같이 계산\n",
    "    * 즉, **그레이디어트 벡터가 가리키는 반대 방향으로 학습률이 지정하는 만큼 파라미터를 조정**\n",
    "$$\\theta^{(\\text{new})} = \\theta^{(\\text{old})}\\, -\\, \\eta\\cdot \\nabla_\\theta \\textrm{MSE}(\\theta^{(\\text{old})})$$\n",
    "\n",
    "  * 선형 회귀의 경우 학습률이 너무 크지만 않으면 언젠가는 전역 최솟값에 수렴한다는 것이 보장되지만 학습률이 너무 크면 수렴하지 않고 무한으로 발산할 수 있음\n",
    "음\n",
    "    * 비용함수가 항상 **볼록 함수**이기 때문\n",
    "    * 볼록 함수는 지역 최솟값을 갖지 않음\n"
   ]
  },
  {
   "cell_type": "markdown",
   "metadata": {
    "colab_type": "text",
    "id": "XpnLVyOXJoaU"
   },
   "source": [
    "7. **하이퍼파라미터**\n",
    "* **하이퍼파라미터**(hyperparameter): 모델 학습 과정에서 변하는 값이 아니라 학습 **시작 전에 지정**되어야 하는 값\n",
    "* 대표적인 하이퍼파라미터는 전체 훈련 세트를 몇 번 학습할지를 결정하는 **반복횟수**이며, **에포크**(epoch)라고 부름\n",
    "* 학습률과 에포크는 모든 모델 학습에 기본으로 사용되는 하이퍼파라미터\n",
    "\n",
    "* 학습 모델에 따라 하이퍼파라미터가 추가될 수 있음\n",
    "  * 예를 들어, 몇 개의 훈련 샘플을 학습한 뒤에 **그레이디언트 벡터를 계산할지를 결정**하는 **배치 크기**(batch size)가 하이퍼파라미터로 종종 사용됨\n",
    "    * **배치 경사 하강법**\n",
    "      * 배치 크기: 훈련 세트의 크기\n",
    "      * 즉, 하나의 에포크가 지날 때마다 한 번씩 그레이디언트를 계산해서 파라미터를 조정\n",
    "      * 주의: 여기서 사용되는 '배치'의 의미가 '배치 크기'의 '배치'와 다른 의미\n",
    "    * **확률적 경사 하강법**\n",
    "      * 배치 크기: 1\n",
    "      * 즉, 하나의 훈련 샘플을 학습할 때마다 그레이디언트를 계산해서 파라미터를 조정\n",
    "    * **미니배치 경사 하강법**\n",
    "      * 배치 크기: 2에서 수백 사이\n",
    "      * 최적 배치 크기: 경우에 따라 다름. 여러 논문이 32 이하 추천"
   ]
  },
  {
   "cell_type": "markdown",
   "metadata": {
    "colab_type": "text",
    "id": "Ujg1xWgTK9kB"
   },
   "source": [
    "**!참고!**\n",
    "* **스텝**(step)\n",
    "  * 지정된 배치 크기의 샘플을 학습한 후에 파라미터를 조정하는 단계\n",
    "  * 예를 들어, 훈련 세트의 크기가 1,000이고 배치 크기가 10이면, 하나의 에포크 기간동안 총 100번의 스텝이 지나감\n",
    "  * 즉, **하나의 에포크 기간동안 파라미터 조정이 100번 발생**\n",
    "  * **배치** 경사하강법의 경우 **스텝의 크기는 1**이며 **확률적** 경사 하강법의 경우 스텝의 크기는 **전체 훈련 세트의 크기**\n",
    "\n",
    "* **특성 스케일링**의 중요성\n",
    "  * 사용되는 모든 특성을 **동일한 크기**로 스케일링을 한 후에 경사 하강법을 적용해야함\n",
    "  * 스케일링을 통해 모든 특성의 크기를 통일한 후의 학습이 빠르게 이루어짐\n",
    "\n",
    "* **차원**(dimension)과 **파라미터 공간**(parameter space)\n",
    "  * 사용되는 특성 수가 많아지면, 비용함수에 사용되는 파라미터 수도 늘어남\n",
    "  * 즉, 조사해야 하는 파라미터들의 공간 또한 커지며, 따라서 검색도 어려워짐\n",
    "  * 행렬 연산 등도 제곱 배 이상($O(n^2)$)으로 많은 시간을 요구\n",
    "  * **차원**: 특성 수"
   ]
  },
  {
   "cell_type": "markdown",
   "metadata": {
    "colab_type": "text",
    "id": "pEegSK8KMzhA"
   },
   "source": [
    "## 2.2 **배치 경사 하강법**\n",
    "---\n",
    "\n",
    "* 배치 경사 하강법은 **전체 훈련 샘플을 모두 학습할 때**마다 평균 제곱 오차(**MSE**)를 계산하고 파라미터를 조정\n",
    "  * 즉, **하나의 에포크 마다 파라미터를 조정**\n",
    "\n",
    "* 사이킷런은 배치 경사 하강법을 활용한 선형 회귀는 기본으로 지원하지는 않음"
   ]
  },
  {
   "cell_type": "markdown",
   "metadata": {
    "colab_type": "text",
    "id": "854ojx1fOtqk"
   },
   "source": [
    "* **에포크와 허용오차**\n",
    "  * 적절한 학습률은 사용되는 모델과 훈련 세트의 데이터에 따라 달라지기 때문에 정해진 기준이 없음\n",
    "    * 보통 그리드 탐색 등을 사용하여 적절한 학습률을 찾지만 그리드 탐색은 **많은 학습**을 시도하기 때문에 **에포크(반복횟수)를 제한**해야함\n",
    "\n",
    "  * 학습이 얼마나 잘 되는가를 미리 알 수 없기 때문에, 에포크(반복횟수)를 얼마로 제한해야 할지 알 수 없으므로 **에포크**는 **크게 설정**하고 대신에 **허용오차**(tolerance, 보통 tol로 줄여서 사용)를 활용\n",
    "    * 즉, **그레이디언트 벡터의 크기**(노름, norm)가 **허용오차 보다 작아지면** 학습을 멈추도록 설정\n",
    "    * 파라미터가 **최적점**에 가까워지면 그레이디언트 벡터의 크기가 **0**에 가까워지기 때문\n",
    "    * 예를 들어, 포물선의 최소점에서의 접선의 기울기는 0이어야 하며, **최소점에 가까워질 수록 접선의 기울기가 0**에 수렴\n",
    "\n",
    "  * 허용오차($\\varepsilon$)와 에포크(반복횟수)는 **서로 반비례**의 관계\n",
    "    * 즉, **에포크는 $(1/\\varepsilon)$에 의존** \n",
    "    * 따라서 오차를 1/10로 줄이려 하면 에포크를 10배 늘려야함"
   ]
  },
  {
   "cell_type": "markdown",
   "metadata": {
    "colab_type": "text",
    "id": "ywTb5DJhPwJD"
   },
   "source": [
    "## 2.3 **확률적 경사 하강법**\n",
    "---\n",
    "* **배치** 경사 하강법은 훈련 세트의 크기가 그레이디언트를 계산하는 데에 **많은 시간**이 걸린다는 단점이 있음\n",
    "* 또한 아주 많은 데이터를 저장해야 하는 **메모리 문제**도 발생할 수 있음\n",
    "\n",
    "* **확률적** 경사 하강법은 훈련 샘플 하나를 학습할 때마다 평균 제곱 오차(MSE)를 계산하고 파라미터를 조정\n",
    "* 즉, 파라미터 조정 스텝이 **샘플을 하나 학습할 때**마다 이루어짐\n",
    "* 확률적 경사 하강법의 장단점\n",
    "  * 매우 큰 훈련 세트를 다룰 수 있음\n",
    "    * **하나의 샘플**을 대상으로 학습이 이루어지기 때문\n",
    "    * 예를 들어, **외부 메모리**(out-of-core) 학습을 활용할 수 있음\n",
    "  * 학습 과정이 매우 **빠름**\n",
    "  * 학습 과정에서 **파라미터의 동요**가 심할 수 있음\n",
    "  * 파라미터 조정이 불안정 할 수 있기 때문에 지역 최솟값에 상대적으로 덜 민감\n",
    "  * 경우에 따라 전역 최솟값에 **수렴하지 못하고** 계속해서 발산할 가능성도 높음"
   ]
  },
  {
   "cell_type": "markdown",
   "metadata": {
    "colab_type": "text",
    "id": "50b_hRZTRMW6"
   },
   "source": [
    "#### **학습 스케줄**\n",
    "* 요동치는 파라미터를 제어하기 위해 학습률을 학습 과정 동안 천천히 줄어들게 만들 수 있음\n",
    "* 하지만 학습률이 너무 **빨리 줄어들면**, 지역 최솟값에 갇힐 수 있음\n",
    "* 학습률이 너무 **느리게 줄어들면** 전역 최솟값에 제대로 수렴하지 못하고 맴돌 수 있음"
   ]
  },
  {
   "cell_type": "markdown",
   "metadata": {
    "colab_type": "text",
    "id": "oVXwxMY-SimN"
   },
   "source": [
    "#### **사이킷런의 `SGDRegressor`**\n",
    "* 사이킷런의 `SGDRegressor` 예측기가 확률적 경사 하강법을 바로 지원\n",
    "\n",
    "* 사용되는 하이퍼파라미터\n",
    "  * **`max_iter`**: 에포크 수 제한\n",
    "  * **`tol`**: 허용 오차\n",
    "  * **`eta0=0,1`**: `SGDRegressor`가 사용하는 **학습 스케줄 함수**에 사용되는 매개 변수\n",
    "    * 일종의 학습률 역할을 수행하지만 엄밀히 따지면 다름\n",
    "  * **`penalty=None`**: 규제를 사용하지 않음\n",
    "\n",
    "**!주의!**\n",
    "* `SGDRegressor`는의 `fit()` 추정기는 타깃 벡터 **y를 1차원 어레이**일 때만 다룸\n",
    "* y는 원래 (100,1) 모양의 **2차원 어레이**\n",
    "* 따라서 **`ravel()`** 메서드를 이용하여 **1차원 어레이로 변환**시킨 후 `fit()` 추정기를 실행\n"
   ]
  },
  {
   "cell_type": "markdown",
   "metadata": {
    "colab_type": "text",
    "id": "fvRVtI5lTcnB"
   },
   "source": [
    "* 학습된 파라미터는 **편향과 가중치**로 구분되어 각각 아래 두 인스턴스 속성에 저장\n",
    "  * **`intercept_`**: 편향 저장\n",
    "  * **`coef_`**: 가중치 저장"
   ]
  },
  {
   "cell_type": "markdown",
   "metadata": {
    "colab_type": "text",
    "id": "JuFhsxFZTzvi"
   },
   "source": [
    "## 2.4 **미니배치 경사 하강법**\n",
    "---\n",
    "* **미니매치 경사 하강법**: 각 스텝에서 학습하는 샘플의 개수를 지정하여 사용하는 경사 하강법\n",
    "  * 배치 크기를 어느 정도 크게 하면 확률적 경사 하강법(SGD) 보다 파라미터의 움직임이 덜 불규칙적이 됨\n",
    "  * 반면에 배치 경사 하강법보다 **빠르게 학습**\n",
    "  * 지역 최솟값을 피하기가 어려워짐\n",
    "\n",
    "* 사용된 하이퍼파라미터\n",
    "  * **`n_iterations`**: 에포크 수\n",
    "  * **`minibatch_size`**: 배치 크기, 즉, 하나의 스텝에 사용되는 샘플 수\n",
    "\n",
    "* **학습 스케줄**을 사용하며, 에포크가 달라질 때마다 전체 훈련 세트를 무작위로 섞음\n",
    "* 각 학습법의 비교를 위해 여기서도 학습 과정에서 조정되는 파라미터(theta)의 변화를 추적 (**`theta_path_mgd`** 활용)"
   ]
  },
  {
   "cell_type": "markdown",
   "metadata": {
    "colab_type": "text",
    "id": "6IvmA4ZvU3EJ"
   },
   "source": [
    "#### **경사 하강법 비교**\n",
    "* 배치 경사 하강법, 확률적 경사 하강법, 미니배치 경사 하강법 실행 과정에서 **파라미터가 변하는 과정**을 각각 아래 세 개의 리스트에 저장\n",
    "  * **`theta_path_bgd`**: **배치** 경사 하강법 파라미터 리스트\n",
    "  * **`theta_path_sgd`**: **확률**적 경사 하강법 파라미터 리스트\n",
    "  * **`theta_path_mgd`**: **미니배치** 경사 하강법 파라미터 리스트\n",
    "\n",
    "\n",
    "* 세 리스트를 **어레이로 변환**하여 사용."
   ]
  },
  {
   "cell_type": "markdown",
   "metadata": {
    "colab_type": "text",
    "id": "0o7WeAwTVVDF"
   },
   "source": [
    "* 저장되는 파라리터는 **편향과 가중치**로 구성\n",
    "  * 편향($\\theta_0$): 0번 열\n",
    "  * 가중치($\\theta_1$): 1번 열\n",
    "\n",
    "* **편향을 수평축, 가중치를 수직축으로 사용**하여 그래프를 그리면 각각의 모델이 학습되는 과정에서 파라미터가 어떻게 변하는가를 한 눈에 확인 가능\n",
    "  * **배치** 경사 하강법(파란색): 부드럽게 전역 최솟값으로 **수렴**\n",
    "  * **확률적** 경사 하강법(빨간색): 전역 최솟값 근처에서 많이 **요동침**\n",
    "  * **미니배치** 경사 하강법(녹색): 확률적 경사 하강법 보다 덜 요동치지만, 여전히 전역 최솟값 근처에서 **요동침**\n",
    "\n",
    "![그래프](data:image/png;base64,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)"
   ]
  },
  {
   "cell_type": "markdown",
   "metadata": {
    "colab_type": "text",
    "id": "wni6v8aeWSI9"
   },
   "source": [
    "# 3. 다항 회귀\n",
    "* 다항 회귀(polynomial regression)는 **선형 회귀**를 이용하여 **비선형 데이터**를 학습하는 기법\n",
    "\n",
    "* 기본 아이디어\n",
    "  * **특성 조합**을 이용\n",
    "  * 추가되는 특성은 기존의 특성값들의 **거듭제곱**, 특성값들 사이의 **곱** 등으로 이루어짐\n",
    "  * 즉, 특성 변수들의 **다항을 조합 특성**으로 추가"
   ]
  },
  {
   "cell_type": "markdown",
   "metadata": {
    "colab_type": "text",
    "id": "XC9ZZdvUXjkH"
   },
   "source": [
    "#### **`PolynomialFeatures` 변환기**\n",
    "* 주어진 특성들의 **거듭제곱을 특성으로 추가**하여 선형 회귀를 적용하면 위 경우와 같은 문제 해결이 가능\n",
    "\n",
    "* 사이킷런의 **`PolynomialFeatures`** 변환기: 주어진 특성들의 **거듭제곱**과 특성들 사이의 **곱셈**을 실행하여 **특성을 추가**하는 기능을 제공\n",
    "\n",
    "* **`degree=d`**: $d\\ge 2$에 대해 `PolynomialFeatures` 변환기가 하는 일은 아래와 같음\n",
    "  * $x_1, \\dots, x_n$가 n개의 특성 변수라 하면\n",
    "    * 아래 다항식에 사용되는 모든 항들에 대한 **특성 변수가 추가**됨\n",
    "$$\\sum_{k=2}^d(x_1 + \\cdots + x_n)^k$$\n",
    "\n",
    "    * $n, d \\ge 2$인 경우 정확히 **다음 숫자 만큼**의 특성이 추가됨 => **높은 차수를 선택하면 매우 많은 수의 특성이 추가됨**에 주의\n",
    "$$\\frac{(n+d)!}{n! \\, d!}-n$$\n",
    "\n",
    "  * 예를 들어 $n=2, d=3$인 경우 $(x_1+x_2)^2 + (x_1+x_2)^3$ 에 사용된 아래 항들에 대한 특성 6개가 추가됨\n",
    "$$x_1^2,\\,\\, x_1 x_2,\\,\\, x_2^2,\\,\\, x_1^3,\\,\\, x_1^2 x_2,\\,\\, x_1 x_2^2,\\,\\, x_2^3$$\n",
    "\n",
    "* **`include_bias=False`**: 기본값은 True\n",
    "  * `include_bias=True`인 경우 편향(bias) 특성이 0번 열에 추가된 후 변환 과정이 실행\n",
    "  * 하지만 `LinearRegression`과 함께 사용될 경우 자동으로 **0번 열에 1**이 추가\n",
    "  * 따라서 여기서는 **False**를 사용\n",
    "  * **다른 모델**과 함께 사용될 경우는 **True 옵션을 그대로 사용하는 것**을 추천"
   ]
  },
  {
   "cell_type": "markdown",
   "metadata": {
    "colab_type": "text",
    "id": "Mt1fZDkqcCSM"
   },
   "source": [
    "# 4. 학습 곡선\n",
    "* 고차 다항 회귀를 적용하면 주어진 데이터에 잘 적응\n",
    "* 아래 코드는 기본 선형 회귀 모델과 2차, 300차 다항 회귀 모델의 학습 결과를 보여줌 \n",
    "  * 빨간색, 파란색, 녹색 선은 새로운 데이터에 대한 예측 결과를 각각의 모델에 대한 그래프로 보여줌\n",
    "\n",
    "![학습결과](data:image/png;base64,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)"
   ]
  },
  {
   "cell_type": "markdown",
   "metadata": {
    "colab_type": "text",
    "id": "8gNZoFFRcpbT"
   },
   "source": [
    "## 4.1 **과소적합, 과대적합**\n",
    "---\n",
    "* 기본 선형 회귀의 경우 고차 항을 전혀 사용하지 않으므로 **빨간색 직선**으로 예측\n",
    "  * **과소적합**: 학습 과정에서 훈련 세트에 제대로 **적응하지 않았음**을 의미\n",
    "\n",
    "* **과대적합**: 주어진 훈련 세트에 **과하게 적응**함을 의미\n",
    "  * 과대적합 모델의 알고 있는 데이터에 너무 적응이 되어서 새로운 데이터에 대한 예측을 제대로 하지 못함\n"
   ]
  },
  {
   "cell_type": "markdown",
   "metadata": {
    "colab_type": "text",
    "id": "sOUg9u0Kd0kv"
   },
   "source": [
    "#### **훈련 세트, 검증 세트, 테스트 세트의 구분**\n",
    "* 머신러닝 모델 학습에 사용되는 데이터셋은 역할에 따라 다음 세 종류로 구분\n",
    "  * **훈련 세트**\n",
    "    * 모델 훈련 과정에 사용되는 데이터 샘플들의 집합\n",
    "    * 즉, **비용함수를 계산**하는데 직접 사용되는 데이터 샘플들의 집합\n",
    "    * 훈련 세트와 테스트 세트로 나뉘어질 때 생성된 **전체 훈련 세트**를 가리키거나, 아니면, 교차 검증 등에서처럼 **반복 학습 과정에서 사용되는 훈련 세트**를 가리키기도 함\n",
    "  \n",
    "  * **검증 세트**\n",
    "    * 전체 훈련 세트를 여러 개의 세트로 나뉘어진 부분 집합 중의 하나\n",
    "    * 다른 훈련 세트를 통해 **학습된 모델의 성능을 측정**하기 위해 사용되는 데이터 샘플 집합\n",
    "    * 다음 번 학습 과정에서는 **훈련 세트에 포함될 수도 있는** 전체 훈련 세트의 일부\n",
    "\n",
    "  * **테스트 세트**\n",
    "    * 처음부터 전체 훈련 세트로부터 분리된 데이터셋\n",
    "    * 모델 **학습** 과정에 관여 X\n",
    "    * **검증** 과정에도 관여 X\n",
    "    * 모든 훈련이 끝난 후에 구현된 모델의 **실전 성능**을 테스트 하기위해 사용되는 데이터셋을 가리킴\n"
   ]
  },
  {
   "cell_type": "markdown",
   "metadata": {
    "colab_type": "text",
    "id": "nVKHqiqLdPIn"
   },
   "source": [
    "## 4.2 **학습 곡선**\n",
    "---\n",
    "* 학습된 모델의 과소적합 또는 과대적합 여부 확인 방법\n",
    "  *  **교차 검증**을 사용\n",
    "    * 훈련 세트에 대한 **검증은 우수하지만 교차 검증 점수가 낮으면** 모델이 **과대적합**\n",
    "    * 훈련 세트와 교차 검증 점수 **모두 낮으면** 모델이 **과소적합**\n",
    "\n",
    "  * **학습 곡선** 분석\n",
    "    * 학습 곡선: 훈련 세트와 검증 세트에 대한 모델 성능을 **모델이 학습하는 과정을 반복하여 추적한 결과**를 그래프로 그린 결과"
   ]
  },
  {
   "cell_type": "markdown",
   "metadata": {
    "colab_type": "text",
    "id": "kWg4z3s7f_Iu"
   },
   "source": [
    "#### **과소적합** 모델의 학습 곡선 특징\n",
    "* 기본 선형 회귀 모델을 대상으로 하면 과소적합이 발생하며, 과소적합에 대한 학습 곡선은 기본적으로 아래와 같은 특성을 보임\n",
    "  * 훈련 데이터에 대한 성능\n",
    "    * 훈련 세트가 커지면서 **RMSE(평균 제곱근 오차)가 커짐**\n",
    "      * 2차 다항 회귀가 아닌 **기본 선형** 회귀이기 때문에 어쩔 수 없음\n",
    "    * 훈련 세트가 어느 정도 커지면 **더 이상 RMSE가 변하지 않음**\n",
    "  * 검증 데이터에 대한 성능\n",
    "    * **검증 세트**에 대한 성능이 **훈련 세트**에 대한 성능과 거의 **비슷**해짐"
   ]
  }
 ],
 "metadata": {
  "celltoolbar": "Slideshow",
  "colab": {
   "collapsed_sections": [],
   "name": "핸즈온머신러닝_4장.ipynb",
   "provenance": []
  },
  "kernelspec": {
   "display_name": "Python 3",
   "language": "python",
   "name": "python3"
  },
  "language_info": {
   "codemirror_mode": {
    "name": "ipython",
    "version": 3
   },
   "file_extension": ".py",
   "mimetype": "text/x-python",
   "name": "python",
   "nbconvert_exporter": "python",
   "pygments_lexer": "ipython3",
   "version": "3.7.6"
  }
 },
 "nbformat": 4,
 "nbformat_minor": 1
}
