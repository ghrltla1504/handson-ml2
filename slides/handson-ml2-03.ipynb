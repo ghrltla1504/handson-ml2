{
 "cells": [
  {
   "cell_type": "markdown",
   "metadata": {
    "slideshow": {
     "slide_type": "slide"
    }
   },
   "source": [
    "# 3장 분류"
   ]
  },
  {
   "cell_type": "markdown",
   "metadata": {
    "slideshow": {
     "slide_type": "slide"
    }
   },
   "source": [
    "#### 감사의 글\n",
    "\n",
    "자료를 공개한 저자 오렐리앙 제롱과 강의자료를 지원한 한빛아카데미에게 진심어린 감사를 전합니다."
   ]
  },
  {
   "cell_type": "markdown",
   "metadata": {
    "colab_type": "text",
    "id": "_6ptLsZo9knQ",
    "slideshow": {
     "slide_type": "slide"
    }
   },
   "source": [
    "## 목차\n",
    "\n",
    "1. MNIST\n",
    "2. 이진 분류기 훈련\n",
    "3. 성능 측정\n",
    "4. 다중 클래스 분류\n",
    "5. 에러 분석\n",
    "6. 다중 레이블 분류\n",
    "7. 다중 출력 분류"
   ]
  },
  {
   "cell_type": "markdown",
   "metadata": {
    "colab_type": "text",
    "id": "uWLIes9W-hTI",
    "slideshow": {
     "slide_type": "slide"
    }
   },
   "source": [
    "# 3.1 MNIST"
   ]
  },
  {
   "cell_type": "markdown",
   "metadata": {
    "colab_type": "text",
    "id": "uWLIes9W-hTI",
    "slideshow": {
     "slide_type": "slide"
    }
   },
   "source": [
    "### MNIST 데이터셋\n",
    "\n",
    "* 미국 고등학생과 인구조사국 직원들이 손으로 쓴 70,000개의 숫자 이미지로 구성된 데이터셋\n",
    "* 사용된 0부터 9까지의 숫자는 각각 28*28= 784크기의 픽셀로 구성된 이미지 데이터\n",
    "  * 2차원 어레이가 아닌 길이가 784인 1차원 어레이로 제공\n",
    "\n",
    "* 레이블: 총 70,000개의 사진 샘플이 표현하는 값"
   ]
  },
  {
   "cell_type": "markdown",
   "metadata": {
    "slideshow": {
     "slide_type": "subslide"
    }
   },
   "source": [
    "<div align=\"center\"><img src=\"images/homl03-01.png\" width=\"400\"/></div>"
   ]
  },
  {
   "cell_type": "markdown",
   "metadata": {
    "slideshow": {
     "slide_type": "slide"
    }
   },
   "source": [
    "### 문제 정의"
   ]
  },
  {
   "cell_type": "markdown",
   "metadata": {
    "colab_type": "text",
    "id": "B564-YgL_CeX",
    "slideshow": {
     "slide_type": "fragment"
    }
   },
   "source": [
    "* 지도학습: 각 이미지가 담고 있는 숫자가 레이블로 지정됨."
   ]
  },
  {
   "cell_type": "markdown",
   "metadata": {
    "colab_type": "text",
    "id": "B564-YgL_CeX",
    "slideshow": {
     "slide_type": "fragment"
    }
   },
   "source": [
    "* 분류: 이미지 데이터를 분석하여 0부터 9까지의 숫자로 분류\n",
    "    * 이미지 그림을 총 10개의 클래스로 분류하는 다중 클래스 분류(multiclass classification)\n",
    "    * 다항 분류(multinomial classification)라고도 불림"
   ]
  },
  {
   "cell_type": "markdown",
   "metadata": {
    "colab_type": "text",
    "id": "B564-YgL_CeX",
    "slideshow": {
     "slide_type": "fragment"
    }
   },
   "source": [
    "* 배치 또는 온라인 학습: 둘 다 가능\n",
    "  * 모델에 따라 처리 방법이 다름\n",
    "      * 확률적 경사하강법(stochastic gradient descent, SGD):  배치와 온라인 학습 모두 지원\n",
    "      * 랜덤 포레스트 분류기: 배치 학습"
   ]
  },
  {
   "cell_type": "markdown",
   "metadata": {
    "colab_type": "text",
    "id": "nr3yBFsJDyb_",
    "slideshow": {
     "slide_type": "slide"
    }
   },
   "source": [
    "### 훈련 셋과 데이터 셋 나누기\n",
    "\n",
    "* MNIST 데이터셋 이미 6:1 분류되어 있음\n",
    "* 훈련 세트: 앞쪽 60,000개 이미지\n",
    "* 테스트 세트: 나머지 10,000개의 이미지"
   ]
  },
  {
   "cell_type": "markdown",
   "metadata": {
    "colab_type": "text",
    "id": "nhGzfHVBENHD",
    "slideshow": {
     "slide_type": "slide"
    }
   },
   "source": [
    "## 3.2 이진 분류기 훈련"
   ]
  },
  {
   "cell_type": "markdown",
   "metadata": {
    "colab_type": "text",
    "id": "nhGzfHVBENHD",
    "slideshow": {
     "slide_type": "slide"
    }
   },
   "source": [
    "### 예제: 5-감지기\n",
    "\n",
    "* 이미지 샘플이 5를 표현하는지 여부를 판단하는 이진 분류기"
   ]
  },
  {
   "cell_type": "markdown",
   "metadata": {
    "colab_type": "text",
    "id": "nhGzfHVBENHD",
    "slideshow": {
     "slide_type": "fragment"
    }
   },
   "source": [
    "* 이를 위해 레이블을 0 또는 1로 수정\n",
    "    * 기존에 0부터 9까지의 숫자 대신 0, 1 두 값으로만 구성된 새로운 타깃 벡터를 생성해서 학습에 사용\n",
    "    * 숫자 5를 가리키는 이미지 레이블: 1\n",
    "    * 숫자 5 이외의 수를 가리키는 이미지 레이블: 0"
   ]
  },
  {
   "cell_type": "markdown",
   "metadata": {
    "colab_type": "text",
    "id": "7FzWU46mEung",
    "slideshow": {
     "slide_type": "slide"
    }
   },
   "source": [
    "### SGD 분류기 활용 학습"
   ]
  },
  {
   "cell_type": "markdown",
   "metadata": {
    "colab_type": "text",
    "id": "7FzWU46mEung",
    "slideshow": {
     "slide_type": "subslide"
    }
   },
   "source": [
    "* SGDClassifier(SGD 분류기)\n",
    "  * 확률적 경사 하강법(stochastic gradient descent) 사용\n",
    "  * 한 번에 하나씩 훈련 샘플 처리 후 파라미터 조정\n",
    "  * 매우 큰 데이터셋 처리에 효율적이며 온라인 학습에도 적합함."
   ]
  },
  {
   "cell_type": "markdown",
   "metadata": {
    "colab_type": "text",
    "id": "cqybhlf6FSci",
    "slideshow": {
     "slide_type": "subslide"
    }
   },
   "source": [
    "* 학습\n",
    "\n",
    "```python\n",
    "from sklearn.linear_model import SGDClassifier\n",
    "\n",
    "sgd_clf = SGDClassifier(max_iter=1000, tol=1e-3, random_state=42)\n",
    "sgd_clf.fit(X_train, y_train_5)\n",
    "```"
   ]
  },
  {
   "cell_type": "markdown",
   "metadata": {
    "colab_type": "text",
    "id": "HKzlrc2OFwkQ",
    "slideshow": {
     "slide_type": "slide"
    }
   },
   "source": [
    "## 3.3 성능 측정"
   ]
  },
  {
   "cell_type": "markdown",
   "metadata": {
    "colab_type": "text",
    "id": "HKzlrc2OFwkQ",
    "slideshow": {
     "slide_type": "slide"
    }
   },
   "source": [
    "### 성능 측정 세가지 방법\n",
    "\n",
    "* 교차 검증을 활용한 정확도 측정\n",
    "* 정밀도/재현율 조율\n",
    "* AUC 측정"
   ]
  },
  {
   "cell_type": "markdown",
   "metadata": {
    "colab_type": "text",
    "id": "CBkbkKOcGA4G",
    "slideshow": {
     "slide_type": "slide"
    }
   },
   "source": [
    "### 교차 검증을 사용한 정확도 측정"
   ]
  },
  {
   "cell_type": "markdown",
   "metadata": {
    "colab_type": "text",
    "id": "CBkbkKOcGA4G",
    "slideshow": {
     "slide_type": "fragment"
    }
   },
   "source": [
    "* 2장에서 배운 교차검증 기술을 이용하여 SGD 분류기의 성능을 측정\n",
    "* 성능 측정 기준: 정확도"
   ]
  },
  {
   "cell_type": "markdown",
   "metadata": {
    "colab_type": "text",
    "id": "CBkbkKOcGA4G",
    "slideshow": {
     "slide_type": "subslide"
    }
   },
   "source": [
    "* 정확도: 전체 샘플을 대상으로 정확하게 예측한 비율 \n",
    "  * 여기서는 숫자 5를 표현하는 이미지를 True로 예측한 비율"
   ]
  },
  {
   "cell_type": "markdown",
   "metadata": {
    "colab_type": "text",
    "id": "CBkbkKOcGA4G",
    "slideshow": {
     "slide_type": "fragment"
    }
   },
   "source": [
    "```python\n",
    "from sklearn.model_selection import cross_val_score\n",
    "\n",
    "cross_val_score(sgd_clf, X_train, y_train_5, cv=3, scoring=\"accuracy\")\n",
    "```"
   ]
  },
  {
   "cell_type": "markdown",
   "metadata": {
    "colab_type": "text",
    "id": "NtvFM0j-Gzy8",
    "slideshow": {
     "slide_type": "subslide"
    }
   },
   "source": [
    "* 교차 검증 결과가 95% 이상으로 매우 우수한 것으로 나옴.\n",
    "\n",
    "* 하지만 무조건 '5 아님'이라고 찍는 분류기도 90%의 정확도를 보임.\n",
    "\n",
    "* 훈련 세트의 샘플이 불균형적으로 구성되었다면, 정확도를 분류기의 성능 측정 기준으로 사용하는 것은 피해야 함"
   ]
  },
  {
   "cell_type": "markdown",
   "metadata": {
    "colab_type": "text",
    "id": "PAQQy0I2It_j",
    "slideshow": {
     "slide_type": "slide"
    }
   },
   "source": [
    "### 오차 행렬, 정밀도, 재현율\n",
    "\n",
    "* 오차 행렬을 조사하여 분류기의 성능을 평가할 수 있음\n",
    "* 정밀도와 재현율 확인"
   ]
  },
  {
   "cell_type": "markdown",
   "metadata": {
    "slideshow": {
     "slide_type": "slide"
    }
   },
   "source": [
    "#### 오차 행렬(confusion matrix)\n",
    "\n",
    "* 오차 행렬: 클래스 별 예측 결과를 정리한 행렬\n",
    "* 오차 행렬의 행은 실제 클래스를, 열은 예측된 클래스를 가리킴\n",
    "    * 클래스 A의 샘플이 클래스 B의 샘플로 분류된 횟수를 알고자 하면 A행 B열의 값을 확인 \n",
    "* 예제: 숫자 5의 이미지 샘플을 3으로 잘못 예측한 횟수를 알고 싶다면?\n",
    "    * 6행 4열, 즉, (6,4) 인덱스에 위치한 값을 확인 (0부터 9까지의 숫자임에 주의)\n"
   ]
  },
  {
   "cell_type": "markdown",
   "metadata": {
    "slideshow": {
     "slide_type": "subslide"
    }
   },
   "source": [
    "* 예제: '숫자 5-감지기'에 대한 오차 행렬 생성\n",
    "    * 결과는 2x2 모양의 2차원 어레이\n",
    "    * 레이블의 값이 0과 1 두 개의 값으로 구성되기 때문\n",
    "\n",
    "<div align=\"center\"><img src=\"images/homl03-02.png\" width=\"500\"/></div>"
   ]
  },
  {
   "cell_type": "markdown",
   "metadata": {
    "colab_type": "text",
    "id": "NeAUnMABGFp1",
    "slideshow": {
     "slide_type": "slide"
    }
   },
   "source": [
    "#### 정밀도(precision)\n",
    "\n",
    "* 양성 예측의 정확도\n",
    "* 여기서는 숫자 5라고 예측된 값들 중에서 진짜로 5인 숫자들의 비율\n",
    "\n",
    "$$\\text{precision} = \\frac{TP}{TP+FP} = \\frac{3530}{3530+687} = 0.8370$$"
   ]
  },
  {
   "cell_type": "markdown",
   "metadata": {
    "colab_type": "text",
    "id": "r62OTyHiHNhg",
    "slideshow": {
     "slide_type": "subslide"
    }
   },
   "source": [
    "* 정밀도 하나만으로 분류기의 성능을 평가할 수는 없음\n",
    "    * 숫자 5를 가리키는 이미지 중에 숫자 5가 아니라고 판명한 경우를 함께 고려하지 않기 때문\n",
    "\n",
    "* 분류기가 정확하게 예측한 양성 샘플의 비율인 재현율을 함께 다루어야 함"
   ]
  },
  {
   "cell_type": "markdown",
   "metadata": {
    "colab_type": "text",
    "id": "RvbwFTjiHiMA",
    "slideshow": {
     "slide_type": "slide"
    }
   },
   "source": [
    "#### 재현율(recall)\n",
    "\n",
    "* 양성 샘플에 대한 정확도, 즉, 분류기가 정확하게 감지한 양성 샘플의 비율\n",
    "* 재현율을 민감도(sensitivity) 또는 참 양성 비율(true positive rate)로도 부름\n",
    "\n",
    "$$\\text{recall} = \\frac{TP}{TP+FN} = \\frac{3530}{3530+1891} = 0.6512$$"
   ]
  },
  {
   "cell_type": "markdown",
   "metadata": {
    "colab_type": "text",
    "id": "ieAo6YLdIbbD",
    "slideshow": {
     "slide_type": "subslide"
    }
   },
   "source": [
    "#### $F_1$ 점수($F_1$ score)\n",
    "\n",
    "* 정밀도와 재현율의 조화 평균:\n",
    "\n",
    "$$F_1 = \\frac{2}{\\frac{1}{precision} + \\frac{1}{recall}} = \\frac{2\\cdot precision\\cdot recall}{precision + recall}$$"
   ]
  },
  {
   "cell_type": "markdown",
   "metadata": {
    "colab_type": "text",
    "id": "ieAo6YLdIbbD",
    "slideshow": {
     "slide_type": "subslide"
    }
   },
   "source": [
    "* $F_1$ 점수가 높을 수록 분류기의 성능을 좋게 평가하지만, 경우에 따라 조심할 필요가 있음\n",
    "  * 경우에 따라 재현율과 정밀도 둘 중의 하나에 높은 가중치를 두어야 할 때가 있기 때문"
   ]
  },
  {
   "cell_type": "markdown",
   "metadata": {
    "colab_type": "text",
    "id": "ieAo6YLdIbbD",
    "slideshow": {
     "slide_type": "fragment"
    }
   },
   "source": [
    "* 앞서 정의된 $F_1$ 점수는 재현율과 정밀도의 중요도가 동일하다고 가정한 결과"
   ]
  },
  {
   "cell_type": "markdown",
   "metadata": {
    "colab_type": "text",
    "id": "ieAo6YLdIbbD",
    "slideshow": {
     "slide_type": "fragment"
    }
   },
   "source": [
    "* 예를 들어, 암 진단 결과와 관련해서 아래 두 경우에 발생하는 비용이 다름\n",
    "  * 실제로 음성지만 양성으로 오진(정밀도)\n",
    "  * 실제로 양성이지만 음성으로 오진(재현율)"
   ]
  },
  {
   "cell_type": "markdown",
   "metadata": {
    "colab_type": "text",
    "id": "_pW5m4MRJz0N",
    "slideshow": {
     "slide_type": "slide"
    }
   },
   "source": [
    "### 정밀도/재현율 트레이드오프\n",
    "\n",
    "* 정밀도와 재현율 상호 반비례 관계\n",
    "* 정밀도와 재현율 사이의 적절한 비율 찾기"
   ]
  },
  {
   "cell_type": "markdown",
   "metadata": {
    "colab_type": "text",
    "id": "_pW5m4MRJz0N",
    "slideshow": {
     "slide_type": "subslide"
    }
   },
   "source": [
    "#### 결정 함수와 결정 임곗값\n",
    "\n",
    "* 결정 함수(decision function): 분류기가 각 샘플의 점수를 계산할 때 사용\n",
    "* 결정 임계값(decision threshold): 결정 함수의 값이 이 값보다 갖거나 크면 양성 클래스로 분류, 아니면 음성 클래스"
   ]
  },
  {
   "cell_type": "markdown",
   "metadata": {
    "slideshow": {
     "slide_type": "fragment"
    }
   },
   "source": [
    "<div align=\"center\"><img src=\"images/homl03-03.png\" width=\"500\"/></div>"
   ]
  },
  {
   "cell_type": "markdown",
   "metadata": {
    "slideshow": {
     "slide_type": "subslide"
    }
   },
   "source": [
    "* 임곗값 커질 수록\n",
    "    * 정밀도 올라감\n",
    "    * 재현율 떨어짐"
   ]
  },
  {
   "cell_type": "markdown",
   "metadata": {
    "slideshow": {
     "slide_type": "fragment"
    }
   },
   "source": [
    "<div align=\"center\"><img src=\"images/homl03-04.png\" width=\"500\"/></div>"
   ]
  },
  {
   "cell_type": "markdown",
   "metadata": {
    "slideshow": {
     "slide_type": "subslide"
    }
   },
   "source": [
    "<div align=\"center\"><img src=\"images/homl03-05.png\" width=\"500\"/></div>"
   ]
  },
  {
   "cell_type": "markdown",
   "metadata": {
    "colab_type": "text",
    "id": "FwsLOHJpP9m3",
    "slideshow": {
     "slide_type": "slide"
    }
   },
   "source": [
    "### ROC 곡선과 AUC\n",
    "\n",
    "* 수신기 조작 특성(receiver operating characteristic, ROC) 곡선을 활용하여 이진 분류기의 성능 측정 가능"
   ]
  },
  {
   "cell_type": "markdown",
   "metadata": {
    "colab_type": "text",
    "id": "FwsLOHJpP9m3",
    "slideshow": {
     "slide_type": "subslide"
    }
   },
   "source": [
    "#### ROC 곡선\n",
    "\n",
    "* 결정 임곗값에 따른 거짓 양성 비율(false positive rate, FPR)에 대한 참 양성 비율(true positive rate, TPR)의 관계를 나타낸 곡선"
   ]
  },
  {
   "cell_type": "markdown",
   "metadata": {
    "colab_type": "text",
    "id": "FwsLOHJpP9m3",
    "slideshow": {
     "slide_type": "fragment"
    }
   },
   "source": [
    "* 참 양성 비율: 재현율"
   ]
  },
  {
   "cell_type": "markdown",
   "metadata": {
    "colab_type": "text",
    "id": "FwsLOHJpP9m3",
    "slideshow": {
     "slide_type": "fragment"
    }
   },
   "source": [
    "* 거짓 양성 비율: 원래 음성인 샘플 중에서 양성이라고 잘못 분류된 샘플들의 비율\n",
    "    * 예를 들어, 손글씨 숫자 분류기가 결정 임곗값이 0일 때 정해진 거짓 양성 비율은 아래와 같음\n",
    "  \n",
    "$$\\text{FPR} = \\frac{FP}{FP+TN}$$"
   ]
  },
  {
   "cell_type": "markdown",
   "metadata": {
    "slideshow": {
     "slide_type": "subslide"
    }
   },
   "source": [
    "<div align=\"center\"><img src=\"images/homl03-06.png\" width=\"500\"/></div>"
   ]
  },
  {
   "cell_type": "markdown",
   "metadata": {
    "colab_type": "text",
    "id": "WJ0XiKfpSloy",
    "slideshow": {
     "slide_type": "subslide"
    }
   },
   "source": [
    "#### AUC와 분류기 성능\n",
    "\n",
    "* 재현율(TPR)과 거짓 양성 비율(FPR) 사이에도 서로 상쇄하는 기능이 있다는 것을 확인 가능\n",
    "    * 재현율(TPR)을 높이고자 하면 거짓 양성 비율(FPR)도 함께 증가\n",
    "\n",
    "* 따라서 좋은 분류기는 재현율은 높으면서 거짓 양성 비율은 최대한 낮게 유지해야함\n",
    "\n",
    "* ROC 곡선이 y축에 최대한 근접하는 결과가 나오도록 해야함.\n",
    "\n",
    "* AUC: ROC 곡선 아래의 면적\n",
    "  * 이 면적이 1에 가까울 수록 성능이 좋은 분류기로 평가\n"
   ]
  },
  {
   "cell_type": "markdown",
   "metadata": {
    "slideshow": {
     "slide_type": "subslide"
    }
   },
   "source": [
    "* SGD와 랜덤 포레스트의 AUC 비교"
   ]
  },
  {
   "cell_type": "markdown",
   "metadata": {
    "slideshow": {
     "slide_type": ""
    }
   },
   "source": [
    "<div align=\"center\"><img src=\"images/homl03-07.png\" width=\"500\"/></div>"
   ]
  },
  {
   "cell_type": "markdown",
   "metadata": {
    "colab_type": "text",
    "id": "dBV19Og0V81i",
    "slideshow": {
     "slide_type": "slide"
    }
   },
   "source": [
    "## 3.4 다중 클래스 분류"
   ]
  },
  {
   "cell_type": "markdown",
   "metadata": {
    "colab_type": "text",
    "id": "dBV19Og0V81i",
    "slideshow": {
     "slide_type": "slide"
    }
   },
   "source": [
    "### 다중 클래스 분류기(multiclass classifier)\n",
    "\n",
    "* 세 개 이상의 클래스로 샘플을 분류하는 예측기"
   ]
  },
  {
   "cell_type": "markdown",
   "metadata": {
    "colab_type": "text",
    "id": "dBV19Og0V81i",
    "slideshow": {
     "slide_type": "fragment"
    }
   },
   "source": [
    "* 다항 분류기(multinomial classifier)라고도 부름"
   ]
  },
  {
   "cell_type": "markdown",
   "metadata": {
    "colab_type": "text",
    "id": "dBV19Og0V81i",
    "slideshow": {
     "slide_type": "fragment"
    }
   },
   "source": [
    "* 예를 들어, 손글씨 숫자 분류의 경우 0부터 9까지 10개의 클래스로 분류해야 함"
   ]
  },
  {
   "cell_type": "markdown",
   "metadata": {
    "colab_type": "text",
    "id": "dBV19Og0V81i",
    "slideshow": {
     "slide_type": "slide"
    }
   },
   "source": [
    "#### 다중 클래스 분류 지원 분류기\n",
    "\n",
    "* SGD 분류기\n",
    "* 랜덤 포레스트 분류기\n",
    "* 나이브 베이즈(naive Bayes) 분류기"
   ]
  },
  {
   "cell_type": "markdown",
   "metadata": {
    "colab_type": "text",
    "id": "dBV19Og0V81i",
    "slideshow": {
     "slide_type": "subslide"
    }
   },
   "source": [
    "#### 이진 분류만 지원하는 분류기\n",
    "\n",
    "* 로지스틱 회귀\n",
    "* 서포트 벡터 머신"
   ]
  },
  {
   "cell_type": "markdown",
   "metadata": {
    "slideshow": {
     "slide_type": "slide"
    }
   },
   "source": [
    "### 이진 분류기 활용"
   ]
  },
  {
   "cell_type": "markdown",
   "metadata": {
    "slideshow": {
     "slide_type": "fragment"
    }
   },
   "source": [
    "* 이진 분류기를 활용하여 다중 클래스 분류 가능\n",
    "    * 일대다(OvR 또는 OvA)\n",
    "    * 일대일(OvO)"
   ]
  },
  {
   "cell_type": "markdown",
   "metadata": {
    "colab_type": "text",
    "id": "9CDar7P2XEs6",
    "slideshow": {
     "slide_type": "subslide"
    }
   },
   "source": [
    "#### 일대다 방식(OvA 또는 OvR)\n",
    "\n",
    "* OvA(One-versus-All) 또는 OvR(One-versus-Rest)"
   ]
  },
  {
   "cell_type": "markdown",
   "metadata": {
    "colab_type": "text",
    "id": "9CDar7P2XEs6",
    "slideshow": {
     "slide_type": "fragment"
    }
   },
   "source": [
    "* 숫자 5 예측하기에서 사용했던 이진 분류 방식을 동일하게 모든 숫자에 대해서 실행"
   ]
  },
  {
   "cell_type": "markdown",
   "metadata": {
    "colab_type": "text",
    "id": "9CDar7P2XEs6",
    "slideshow": {
     "slide_type": "fragment"
    }
   },
   "source": [
    "* 각 샘플에 대해 총 10번 각기 다른 이진 분류기를 실행"
   ]
  },
  {
   "cell_type": "markdown",
   "metadata": {
    "colab_type": "text",
    "id": "9CDar7P2XEs6",
    "slideshow": {
     "slide_type": "fragment"
    }
   },
   "source": [
    "* 이후 각 분류기의 결정 점수 중에서 가장 높은 점수를 받은 클래스를 선택"
   ]
  },
  {
   "cell_type": "markdown",
   "metadata": {
    "colab_type": "text",
    "id": "T2PfXBQhXZ5O",
    "slideshow": {
     "slide_type": "subslide"
    }
   },
   "source": [
    "#### 일대일 방식 (OvO)\n",
    "\n",
    "* One-versus-One"
   ]
  },
  {
   "cell_type": "markdown",
   "metadata": {
    "colab_type": "text",
    "id": "T2PfXBQhXZ5O",
    "slideshow": {
     "slide_type": "fragment"
    }
   },
   "source": [
    "* 조합 가능한 모든 일대일 분류 방식을 진행하여 가장 많은 결투(duell)를 이긴 숫자를 선택"
   ]
  },
  {
   "cell_type": "markdown",
   "metadata": {
    "colab_type": "text",
    "id": "T2PfXBQhXZ5O",
    "slideshow": {
     "slide_type": "fragment"
    }
   },
   "source": [
    "*  MNIST의 경우, 아래와 같이 총 9+8+...+1 = 45개의 결투를 판별하는 분류기를 이용\n",
    "\n",
    "    * 훈련 세트의 각 샘플에 대해 총 45번 결투가 벌어지며 그중에서 가장 높은 점수를 얻는 숫자 $k$가 선택됨"
   ]
  },
  {
   "cell_type": "markdown",
   "metadata": {
    "colab_type": "text",
    "id": "5c0kfA86YITr",
    "slideshow": {
     "slide_type": "subslide"
    }
   },
   "source": [
    "#### 예제: OvO 활용\n",
    "\n",
    "* 서프트 벡터 머신(SVC)\n",
    "  * OvO 선호"
   ]
  },
  {
   "cell_type": "markdown",
   "metadata": {
    "colab_type": "text",
    "id": "5c0kfA86YITr",
    "slideshow": {
     "slide_type": "fragment"
    }
   },
   "source": [
    "* 대부분의 이진 분류기는 일대다 전략을 선호"
   ]
  },
  {
   "cell_type": "markdown",
   "metadata": {
    "colab_type": "text",
    "id": "duhbLw7saEf5",
    "slideshow": {
     "slide_type": "subslide"
    }
   },
   "source": [
    "#### 예제: OvR 활용\n",
    "\n",
    "* 이진 분류기를 일대일 전략 또는 일대다 전략으로 지정해서 학습하도록 만들 수 있음."
   ]
  },
  {
   "cell_type": "markdown",
   "metadata": {
    "colab_type": "text",
    "id": "duhbLw7saEf5",
    "slideshow": {
     "slide_type": "fragment"
    }
   },
   "source": [
    "* 사이킷런의 경우: `OneVsOneClassifier` 또는 `OneVsRestClassifier` 사용"
   ]
  },
  {
   "cell_type": "markdown",
   "metadata": {
    "colab_type": "text",
    "id": "WSTDISA7bGX_",
    "slideshow": {
     "slide_type": "slide"
    }
   },
   "source": [
    "### 다중 클래스 지원 분류기"
   ]
  },
  {
   "cell_type": "markdown",
   "metadata": {
    "colab_type": "text",
    "id": "WSTDISA7bGX_",
    "slideshow": {
     "slide_type": "fragment"
    }
   },
   "source": [
    "* SGD 분류기는 다중 클래스 분류를 직접 지원"
   ]
  },
  {
   "cell_type": "markdown",
   "metadata": {
    "colab_type": "text",
    "id": "WSTDISA7bGX_",
    "slideshow": {
     "slide_type": ""
    }
   },
   "source": [
    "* 따라서 사이킷런의 OvR, OvO 등을 적용할 필요 없음"
   ]
  },
  {
   "cell_type": "markdown",
   "metadata": {
    "colab_type": "text",
    "id": "YdS9bBCvfuRC",
    "slideshow": {
     "slide_type": "subslide"
    }
   },
   "source": [
    "#### 다중 클래스 분류기 성능 측정\n",
    "\n",
    "* 다중 클래스 분류기의 성능 평가는 교차검증을 이용하여 정확도를 측정"
   ]
  },
  {
   "cell_type": "markdown",
   "metadata": {
    "colab_type": "text",
    "id": "YdS9bBCvfuRC",
    "slideshow": {
     "slide_type": ""
    }
   },
   "source": [
    "* MNIST의 경우 0부터 9까지 숫자가 균형 있게 분포되어 있어서 데이터 불균형의 문제가 발생하지 않음."
   ]
  },
  {
   "cell_type": "markdown",
   "metadata": {
    "colab_type": "text",
    "id": "1gLSYZqWgxyu",
    "slideshow": {
     "slide_type": "slide"
    }
   },
   "source": [
    "## 3.5 에러 분석"
   ]
  },
  {
   "cell_type": "markdown",
   "metadata": {
    "slideshow": {
     "slide_type": "slide"
    }
   },
   "source": [
    "* 가능성이 높은 모델을 하나 찾았다고 가정하고 이 모델의 성능을 향상시킬 방법 모색"
   ]
  },
  {
   "cell_type": "markdown",
   "metadata": {
    "slideshow": {
     "slide_type": ""
    }
   },
   "source": [
    "* 예제: 에러 종류 분석하기"
   ]
  },
  {
   "cell_type": "markdown",
   "metadata": {
    "slideshow": {
     "slide_type": "slide"
    }
   },
   "source": [
    "### 오차 행렬 활용"
   ]
  },
  {
   "cell_type": "markdown",
   "metadata": {
    "slideshow": {
     "slide_type": ""
    }
   },
   "source": [
    "* 손글씨 클래스 분류 모델의 오차 행렬을 이미지로 표현 가능\n",
    "* 대체로 잘 분류됨: 대각선이 밝음.\n",
    "* 5행은 좀 어두움. 숫자 5의 분류 정확도가 상대적으로 낮음"
   ]
  },
  {
   "cell_type": "markdown",
   "metadata": {
    "slideshow": {
     "slide_type": ""
    }
   },
   "source": [
    "#### <div align=\"center\"><img src=\"images/homl03-08.png\" width=\"400\"/></div>"
   ]
  },
  {
   "cell_type": "markdown",
   "metadata": {
    "slideshow": {
     "slide_type": "subslide"
    }
   },
   "source": [
    "#### 오차율 이미지\n",
    "* 8행이 전반적으로 어두움. \n",
    "    * 8은 잘 분류되었다는 의미임.\n",
    "* (3, 5)와 (5,3)의 위치가 상대적으로 밝음.\n",
    "    * 3과 5가 서로 많이 혼동됨."
   ]
  },
  {
   "cell_type": "markdown",
   "metadata": {
    "slideshow": {
     "slide_type": ""
    }
   },
   "source": [
    "#### <div align=\"center\"><img src=\"images/homl03-09.png\" width=\"400\"/></div>"
   ]
  },
  {
   "cell_type": "markdown",
   "metadata": {
    "slideshow": {
     "slide_type": "subslide"
    }
   },
   "source": [
    "* 3과 5의 오차행렬 그려보기\n",
    "    * 음성: 3으로 판정\n",
    "    * 양성: 5로 판정"
   ]
  },
  {
   "cell_type": "markdown",
   "metadata": {
    "slideshow": {
     "slide_type": "fragment"
    }
   },
   "source": [
    "<div align=\"center\"><img src=\"images/homl03-10.png\" width=\"400\"/></div>"
   ]
  },
  {
   "cell_type": "markdown",
   "metadata": {
    "slideshow": {
     "slide_type": "subslide"
    }
   },
   "source": [
    "* 3과 5의 구분이 어려운 이유\n",
    "    * 선형 모델인 SGD 분류기를 사용했기 때문\n",
    "    * 픽셀마다 가중치를 적용하여 단순히 픽셀 강도에만 의존하기 때문"
   ]
  },
  {
   "cell_type": "markdown",
   "metadata": {
    "slideshow": {
     "slide_type": "fragment"
    }
   },
   "source": [
    "* 이미지 분류기의 한계\n",
    "    * 이미지의 위치나 회전 방향에 민감함\n",
    "    * 이미지를 중앙에 위치시키고 회전되지 않도록 전처리하면 좀 더 좋은 성능 가능"
   ]
  },
  {
   "cell_type": "markdown",
   "metadata": {
    "colab_type": "text",
    "id": "iLrym21JhMm7",
    "slideshow": {
     "slide_type": "slide"
    }
   },
   "source": [
    "## 3.6 다중 레이블 분류"
   ]
  },
  {
   "cell_type": "markdown",
   "metadata": {
    "slideshow": {
     "slide_type": "subslide"
    }
   },
   "source": [
    "* 샘플마다 여러 개의 클래스 출력"
   ]
  },
  {
   "cell_type": "markdown",
   "metadata": {
    "slideshow": {
     "slide_type": "subslide"
    }
   },
   "source": [
    "### 예제: 얼굴 인식 분류기\n",
    "\n",
    "* 한 사진에 여러 사람이 포함된 경우, 인식된 사람마다 하나씩 꼬리표(tag)를 붙여야 함. \n",
    "* 앨리스, 밥, 찰리의 포함여부를 확인 할 때, 밥이 없는 경우: \n",
    "    * `[True, False, True]` 출력"
   ]
  },
  {
   "cell_type": "markdown",
   "metadata": {
    "slideshow": {
     "slide_type": "fragment"
    }
   },
   "source": [
    "### 예제: 숫자 분류\n",
    "\n",
    "* 7 이상인지 여부와 함께 홀수 여부도 동시 출력\n",
    "* 5가 입력될 때: \n",
    "    * `[False, True]` 출력"
   ]
  },
  {
   "cell_type": "markdown",
   "metadata": {
    "slideshow": {
     "slide_type": "slide"
    }
   },
   "source": [
    "### 다중 레이블 분류 지원 모델\n",
    "\n",
    "* k-최근접 이웃 분류기"
   ]
  },
  {
   "cell_type": "markdown",
   "metadata": {
    "slideshow": {
     "slide_type": "fragment"
    }
   },
   "source": [
    "* 사이킷런의 `KNeighborsClassifier`"
   ]
  },
  {
   "cell_type": "markdown",
   "metadata": {
    "slideshow": {
     "slide_type": "fragment"
    }
   },
   "source": [
    "* 다중 레이블 분류기를 평가하는 방법은 다양함\n",
    "    * 모든 레이블의 가중치가 같다고 가정: 각 레이블의 F1 점수를 구하고 평균 점수를 계산\n",
    "    * 가중치: 레이블에 클래스의 지지도(즉, 타깃 레이블에 속한 샘플 수)를 가중치로 사용 가능"
   ]
  },
  {
   "cell_type": "markdown",
   "metadata": {
    "colab_type": "text",
    "id": "O24fcDgXiIdh",
    "slideshow": {
     "slide_type": "slide"
    }
   },
   "source": [
    "## 3.7 다중 출력 분류"
   ]
  },
  {
   "cell_type": "markdown",
   "metadata": {
    "slideshow": {
     "slide_type": "slide"
    }
   },
   "source": [
    "* 원래 다중 출력 다중 클래스 분류라고 불림"
   ]
  },
  {
   "cell_type": "markdown",
   "metadata": {
    "slideshow": {
     "slide_type": "fragment"
    }
   },
   "source": [
    "* 다중 레이블 분류에서 한 레이블이 다중 클래스가 될 수 있도록 일반화한 것"
   ]
  },
  {
   "cell_type": "markdown",
   "metadata": {
    "slideshow": {
     "slide_type": "fragment"
    }
   },
   "source": [
    "* 다중 레이블 분류기 지원 모델: k-최근접 이웃 분류기\n",
    "    * 사이킷런의 `KNeighborsClassifier`"
   ]
  },
  {
   "cell_type": "markdown",
   "metadata": {
    "slideshow": {
     "slide_type": "slide"
    }
   },
   "source": [
    "### 예제: 이미지에서 잡음을 제거하는 시스템\n",
    "\n",
    "* 잡음이 많은 숫자 이미지를 입력으로 받고, 깨끗한 숫자 이미지를 MNIST 이미지처럼 픽셀의 강도를 담은 배열로 출력\n",
    "* 아래 왼쪽: 잡음 포함된 사진\n",
    "* 아래 오른쪽: 깨끗한 타깃 이미지"
   ]
  },
  {
   "cell_type": "markdown",
   "metadata": {
    "slideshow": {
     "slide_type": "fragment"
    }
   },
   "source": [
    "<div align=\"center\"><img src=\"images/homl03-11.png\" width=\"400\"/></div>"
   ]
  },
  {
   "cell_type": "markdown",
   "metadata": {
    "slideshow": {
     "slide_type": "subslide"
    }
   },
   "source": [
    "* 다중 레이블: 각각의 픽셀이 레이블 역할 수행"
   ]
  },
  {
   "cell_type": "markdown",
   "metadata": {
    "slideshow": {
     "slide_type": "fragment"
    }
   },
   "source": [
    "* 다중 클래스: 레이블이 0부터 255까지 픽셀 강도를 가짐."
   ]
  },
  {
   "cell_type": "markdown",
   "metadata": {
    "slideshow": {
     "slide_type": "fragment"
    }
   },
   "source": [
    "* 분류기를 훈련시켜 잡음이 섞인 입력 이미지를 깨끗한 타깃 이미지로 만들어 보기 "
   ]
  },
  {
   "cell_type": "markdown",
   "metadata": {
    "slideshow": {
     "slide_type": "fragment"
    }
   },
   "source": [
    "* 아래 사진: 분류기가 만들어낸 이미지"
   ]
  },
  {
   "cell_type": "markdown",
   "metadata": {
    "slideshow": {
     "slide_type": "fragment"
    }
   },
   "source": [
    "<div align=\"center\"><img src=\"images/homl03-12.png\" width=\"140\"/></div>"
   ]
  }
 ],
 "metadata": {
  "celltoolbar": "Slideshow",
  "colab": {
   "collapsed_sections": [],
   "name": "핸즈온머신러닝_3장.ipynb",
   "provenance": []
  },
  "kernelspec": {
   "display_name": "Python 3",
   "language": "python",
   "name": "python3"
  },
  "language_info": {
   "codemirror_mode": {
    "name": "ipython",
    "version": 3
   },
   "file_extension": ".py",
   "mimetype": "text/x-python",
   "name": "python",
   "nbconvert_exporter": "python",
   "pygments_lexer": "ipython3",
   "version": "3.8.3"
  }
 },
 "nbformat": 4,
 "nbformat_minor": 1
}
