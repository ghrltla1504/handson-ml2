{
 "cells": [
  {
   "cell_type": "markdown",
   "metadata": {
    "slideshow": {
     "slide_type": "slide"
    }
   },
   "source": [
    "# 18장 강화학습 (2부)"
   ]
  },
  {
   "cell_type": "markdown",
   "metadata": {
    "slideshow": {
     "slide_type": "slide"
    }
   },
   "source": [
    "#### 감사의 글\n",
    "\n",
    "자료를 공개한 저자 오렐리앙 제롱과 강의자료를 지원한 한빛아카데미에게 진심어린 감사를 전합니다."
   ]
  },
  {
   "cell_type": "markdown",
   "metadata": {
    "slideshow": {
     "slide_type": "slide"
    }
   },
   "source": [
    "## 7절 마르코프 결정과정"
   ]
  },
  {
   "cell_type": "markdown",
   "metadata": {
    "slideshow": {
     "slide_type": "slide"
    }
   },
   "source": [
    "* PG 알고리즘: 보상을 증가시키기 위해 정책을 직접 최적화하는 방향으로 학습"
   ]
  },
  {
   "cell_type": "markdown",
   "metadata": {},
   "source": [
    "* 다른 알고리즘: PG 보다 덜 직접적으로 학습\n",
    "    * 에이전트가 새로운 스텝을 실행하기 전의 (환경)상태에서 기대할 수 있는 대가를 추정하거나,\n",
    "        취할 수 있는 각각의 행동에 대한 대가를 추정함.\n",
    "    * 예제:\n",
    "        * 가치 반복 알고리즘\n",
    "        * 시간차 학습\n",
    "        * Q-러닝"
   ]
  },
  {
   "cell_type": "markdown",
   "metadata": {},
   "source": [
    "* 마르코프 결정과정(Markov Decision Process, MDP)\n",
    "    * 가치 반복 알고리즘, 시간차 학습, Q-러닝 등에 사용되는 행동 결정과정"
   ]
  },
  {
   "cell_type": "markdown",
   "metadata": {
    "slideshow": {
     "slide_type": "slide"
    }
   },
   "source": [
    "### 마르코프 체인"
   ]
  },
  {
   "cell_type": "markdown",
   "metadata": {},
   "source": [
    "* 20세기 초에 마르코프의 메모리 없는 확률과정 연구에 사용된 개념\n",
    "    * 확률과정(stochastic process): \n",
    "        * 확률공간에서 정의되는 확률변수들의 모임\n",
    "        * 확률변수의 인덱스는 정수를 취하여 이산적일 수도 있고, 실수를 취하여 연속적일 수도 있음.\n",
    "        * 확률변수 사이의 이동은 확률적으로 이루어짐."
   ]
  },
  {
   "cell_type": "markdown",
   "metadata": {
    "slideshow": {
     "slide_type": "slide"
    }
   },
   "source": [
    "* 예제\n",
    "    * 확률변수: 상태(state)\n",
    "        * $\\mathsf{S}_0, \\mathsf{S}_1, \\mathsf{S}_2, \\mathsf{S}_3$\n",
    "    * 상태 사이의 이동확률: 두 개의 상태에만 의존함. (메모리 없음)\n",
    "        * $\\mathsf{S}_0$ 상태인 경우\n",
    "            * 70%의 확률로 자신의 상태에 머무름\n",
    "            * 20%의 확률로 $\\mathsf{S}_1$ 상태로 이동\n",
    "            * 10%의 확률로 $\\mathsf{S}_3$ 상태로 이동\n",
    "        * 기타 등등(아래 그림 참조)"
   ]
  },
  {
   "cell_type": "markdown",
   "metadata": {},
   "source": [
    "<div align=\"center\"><img src=\"images/ch18/homl18-06.png\" width=\"300\"/></div>"
   ]
  },
  {
   "cell_type": "markdown",
   "metadata": {
    "slideshow": {
     "slide_type": "slide"
    }
   },
   "source": [
    "### 마르코프 결정과정(MDP)"
   ]
  },
  {
   "cell_type": "markdown",
   "metadata": {},
   "source": [
    "* 1950년대에 Bellman에 의해 소개됨"
   ]
  },
  {
   "cell_type": "markdown",
   "metadata": {},
   "source": [
    "* 마르코프 체인과 유사하지만, 각 상태에서 에이전트가 다양한 행동 중에 하나의 행동을 취할 수 있음.\n",
    "    * 다른 상태로의 이동은 취한 행동에 의존함.\n",
    "    * 다른 상태로 이동하면서 경우레 따라 보상을 받기도 함."
   ]
  },
  {
   "cell_type": "markdown",
   "metadata": {},
   "source": [
    "* 에이전트의 목표: 최대의 보상을 받는 정책 개발"
   ]
  },
  {
   "cell_type": "markdown",
   "metadata": {
    "slideshow": {
     "slide_type": "slide"
    }
   },
   "source": [
    "#### MDP 예제"
   ]
  },
  {
   "cell_type": "markdown",
   "metadata": {},
   "source": [
    "<div align=\"center\"><img src=\"images/ch18/homl18-07.png\" width=\"400\"/></div>"
   ]
  },
  {
   "cell_type": "markdown",
   "metadata": {
    "slideshow": {
     "slide_type": ""
    }
   },
   "source": [
    "* 각 상태에서 시간이 흐르면서 최고의 보상을 받을 수 있는 전략은?\n",
    "    * $\\mathsf{S}_0$: 행동 $a_0$ 선택하기\n",
    "    * $\\mathsf{S}_1$: 보상이 전혀 없는 행동 $a_0$ 또는 \n",
    "        위험하지만 궁극적으로 높은 보상의 가능성을 갖는 행동 $a_2$ 선택 가능\n",
    "    * $\\mathsf{S}_2$: 선택의 여지 없음"
   ]
  },
  {
   "cell_type": "markdown",
   "metadata": {
    "slideshow": {
     "slide_type": "slide"
    }
   },
   "source": [
    "### 최적의 상태 가치(optimal state value)"
   ]
  },
  {
   "cell_type": "markdown",
   "metadata": {},
   "source": [
    "* 정책 평가 용도로 중요"
   ]
  },
  {
   "cell_type": "markdown",
   "metadata": {},
   "source": [
    "* $V^*(s)$: 상태 $s$ 에서 에이전트가 최적의 행동을 선택한다고 가정했을 때\n",
    "    얻을 수 있는 할인된 미래 보상에 대한 기대치의 최댓값\n",
    "    \n",
    "    $$\n",
    "    V^*(s) = \\max_a \\sum_{s'} T(s, a, s')\\cdot \\big [R(s, a, s') + \\gamma \\cdot V(s') \\big]\n",
    "    $$\n",
    "    \n",
    "    * $T(s, a, s')$: 행동 $a$를 선택했을 때 상태 $s$에서 상태 $s'$로 전이될 확률\n",
    "    * $R(s, a, s')$: 행동 $a$를 선택했을 때 상태 $s$에서 상태 $s'$로 이동되었을 때 받을 수 있는 보상\n",
    "    * $\\gamma$: 할인계수"
   ]
  },
  {
   "cell_type": "markdown",
   "metadata": {
    "slideshow": {
     "slide_type": "slide"
    }
   },
   "source": [
    "* 동적계획법 활용: $V^*(s)$를 동적계획법으로 빠르게 계산 가능\n",
    "\n",
    "    $$\n",
    "    V_{k+1}^*(s) \\leftarrow \\max_a \\sum_{s'} T(s, a, s')\\cdot \\big [R(s, a, s') + \\gamma \\cdot V_k(s') \\big]\n",
    "    $$\n",
    "    \n",
    "    * $V_k^*(s)$: 동적계획법 알고리즘의 $k$번째 반복에서 상태 $s$의 추정 상태 가치\n",
    "    * $V_0^*(s) = 0$\n"
   ]
  },
  {
   "cell_type": "markdown",
   "metadata": {
    "slideshow": {
     "slide_type": "slide"
    }
   },
   "source": [
    "### Q-가치"
   ]
  },
  {
   "cell_type": "markdown",
   "metadata": {},
   "source": [
    "* 최적의 상태-행동(state-action) 가치 계산"
   ]
  },
  {
   "cell_type": "markdown",
   "metadata": {},
   "source": [
    "* $Q^*(s, a)$: 에이전트가 상태 $s$에 도착한 후에 행동 $a$를 선택할 때 얻을 수 있는 \n",
    "    할인된 미래 보상에 대한 기대치\n",
    "    * 에이전트를 위한 최적의 정책을 결정하는 데에 활용될 수 있음"
   ]
  },
  {
   "cell_type": "markdown",
   "metadata": {},
   "source": [
    "* 동적계획법 활용: $Q^*(a, s)$를 동적계획법으로 빠르게 계산 가능\n",
    "\n",
    "    $$\n",
    "    Q_{k+1}^*(a, s) \\leftarrow \\sum_{s'} T(s, a, s')\\cdot \\big [R(s, a, s') + \\gamma \\cdot \\max_{a'}Q_k(s', a') \\big]\n",
    "    $$\n",
    "    \n",
    "    * $Q_0^*(a, s) = 0$"
   ]
  },
  {
   "cell_type": "markdown",
   "metadata": {},
   "source": [
    "* $\\pi^*(s)$: 상태 $s$에 도착했을 때 취할 수 있는 최선의 정책은 최고의 Q-가치를 갖는 행동 선택하기\n",
    "\n",
    "    $$\n",
    "    \\textrm{argmax}_a\\, Q^*(s, a)\n",
    "    $$"
   ]
  },
  {
   "cell_type": "markdown",
   "metadata": {
    "slideshow": {
     "slide_type": "slide"
    }
   },
   "source": [
    "#### 적용 예제"
   ]
  },
  {
   "cell_type": "markdown",
   "metadata": {},
   "source": [
    "* $\\pi^*()$ 함수를 위 그림에 있는 MDP에 적용하기"
   ]
  },
  {
   "cell_type": "markdown",
   "metadata": {
    "slideshow": {
     "slide_type": "slide"
    }
   },
   "source": [
    "* MDP 정의"
   ]
  },
  {
   "cell_type": "markdown",
   "metadata": {},
   "source": [
    "```python\n",
    "transition_probabilities = [ # 모양=[s, a, s']\n",
    "        [[0.7, 0.3, 0.0], [1.0, 0.0, 0.0], [0.8, 0.2, 0.0]],\n",
    "        [[0.0, 1.0, 0.0], None, [0.0, 0.0, 1.0]],\n",
    "        [None, [0.8, 0.1, 0.1], None]]\n",
    "\n",
    "rewards = [ # 모양=[s, a, s']\n",
    "        [[+10, 0, 0], [0, 0, 0], [0, 0, 0]],\n",
    "        [[0, 0, 0], [0, 0, 0], [0, 0, -50]],\n",
    "        [[0, 0, 0], [+40, 0, 0], [0, 0, 0]]]\n",
    "\n",
    "possible_actions = [[0, 1, 2], [0, 2], [1]]\n",
    "```"
   ]
  },
  {
   "cell_type": "markdown",
   "metadata": {
    "slideshow": {
     "slide_type": "slide"
    }
   },
   "source": [
    "* Q-가치 초기화"
   ]
  },
  {
   "cell_type": "markdown",
   "metadata": {},
   "source": [
    "```python\n",
    "Q_values = np.full((3, 3), -np.inf) # 불가능한 행동: -np.inf\n",
    "\n",
    "for state, actions in enumerate(possible_actions):\n",
    "    Q_values[state, actions] = 0.0  # 가능한 행동: 0\n",
    "```"
   ]
  },
  {
   "cell_type": "markdown",
   "metadata": {
    "slideshow": {
     "slide_type": "slide"
    }
   },
   "source": [
    "* Q-가치 반복\n",
    "    * 할인계수: `gamma` = 0.90"
   ]
  },
  {
   "cell_type": "markdown",
   "metadata": {},
   "source": [
    "```python\n",
    "for iteration in range(50):\n",
    "    Q_prev = Q_values.copy()\n",
    "    for s in range(3):\n",
    "        for a in possible_actions[s]:\n",
    "            Q_values[s, a] = np.sum([\n",
    "                    transition_probabilities[s][a][sp]\n",
    "                    * (rewards[s][a][sp] + gamma * np.max(Q_prev[sp]))\n",
    "                for sp in range(3)])\n",
    "```"
   ]
  },
  {
   "cell_type": "markdown",
   "metadata": {
    "slideshow": {
     "slide_type": "slide"
    }
   },
   "source": [
    "* 결과: Q-가치"
   ]
  },
  {
   "cell_type": "markdown",
   "metadata": {},
   "source": [
    "```python\n",
    "array([[18.91891892, 17.02702702, 13.62162162],\n",
    "       [ 0. , -inf, -4.87971488], \n",
    "       [ -inf, 50.13365013, -inf]])\n",
    "```"
   ]
  },
  {
   "cell_type": "markdown",
   "metadata": {
    "slideshow": {
     "slide_type": "slide"
    }
   },
   "source": [
    "* `gamma=0.90`인 경우: `np.argmax(Q_values, axis=1)`\n",
    "\n",
    "    ```python\n",
    "    array([0, 0, 1])\n",
    "    ```"
   ]
  },
  {
   "cell_type": "markdown",
   "metadata": {
    "slideshow": {
     "slide_type": "fragment"
    }
   },
   "source": [
    "* `gamma=0.95`인 경우: `np.argmax(Q_values, axis=1)`\n",
    "    * 에이전트가 미래에 대한 보상을 보다 높게 간주함. \n",
    "    * 상태 $s_1$에서 당장의 고통(불길, -50)을 감수하고 행동 $a_2$ 선택\n",
    "\n",
    "    ```python\n",
    "    array([0, 2, 1])\n",
    "    ```"
   ]
  },
  {
   "cell_type": "markdown",
   "metadata": {
    "slideshow": {
     "slide_type": "slide"
    }
   },
   "source": [
    "## 8절 시간차 학습"
   ]
  },
  {
   "cell_type": "markdown",
   "metadata": {
    "slideshow": {
     "slide_type": "slide"
    }
   },
   "source": [
    "* 학습 초기에 에이전트는 MDP에 대한 사전정보를 최소한만 알고 있음.\n",
    "    * 가능한 상태와 가능한 행동은 안다고 가정.\n",
    "    * 반면에 행동에 대한 보상과 전이확률은 모름."
   ]
  },
  {
   "cell_type": "markdown",
   "metadata": {},
   "source": [
    "* 시간차 학습(Time Difference Learning, TD 학습)을 통해 보상과 전이확률 추정\n",
    "    * 보상: 한 번 이상 각각의 상태와 전이를 경험해서 확인\n",
    "    * 전이 확률: 여러 번의 경험을 통해 추정"
   ]
  },
  {
   "cell_type": "markdown",
   "metadata": {
    "slideshow": {
     "slide_type": "slide"
    }
   },
   "source": [
    "### TD 알고리즘"
   ]
  },
  {
   "cell_type": "markdown",
   "metadata": {},
   "source": [
    "* 탐험 정책: 완전히 랜덤한 정책 등을 이용하여 MDP를 탐험하는 정책"
   ]
  },
  {
   "cell_type": "markdown",
   "metadata": {
    "slideshow": {
     "slide_type": "slide"
    }
   },
   "source": [
    "* 탐험이 진행하면서 실제로 관측된 전이와 보상에 근거하여 상태 가치 추정값 업데이트\n",
    "\n",
    "    $$\n",
    "    V_{k+1}(s) \\leftarrow (1-\\alpha) V_k(s) + \\alpha \\big( r + \\gamma\\cdot V_k(s') \\big)\n",
    "    $$"
   ]
  },
  {
   "cell_type": "markdown",
   "metadata": {
    "slideshow": {
     "slide_type": "slide"
    }
   },
   "source": [
    "* 아래와 같이 표현 가능:\n",
    "\n",
    "    $$\n",
    "    V_{k+1}(s) \\leftarrow V_k(s) + \\alpha \\cdot \\delta_k(s, r, s')\n",
    "    $$\n",
    "    \n",
    "    단, \n",
    "    \n",
    "    $$\n",
    "    \\delta_k(s, r, s') = r + \\gamma\\cdot V_k(s') - V_k(s)\n",
    "    $$\n",
    "\n",
    "    * $\\alpha$: 학습률 (0.01 정도로 작게)\n",
    "    * $r + \\gamma\\cdot V_k(s')$: TD 타깃\n",
    "    * $\\delta_k(s, r, s')$: TD 오차"
   ]
  },
  {
   "cell_type": "markdown",
   "metadata": {
    "slideshow": {
     "slide_type": "slide"
    }
   },
   "source": [
    "* 아래 식을\n",
    "\n",
    "    $$\n",
    "    V_{k+1}(s) \\leftarrow (1-\\alpha) V_k(s) + \\alpha \\big( r + \\gamma\\cdot V_k(s') \\big)\n",
    "    $$\n",
    "\n",
    "    다음과 같이 표현하는 것 선호됨\n",
    "\n",
    "    $$\n",
    "    V(s) \\,\\underset{\\alpha}{\\leftarrow}\\, r + \\gamma\\cdot V(s')\n",
    "    $$"
   ]
  },
  {
   "cell_type": "markdown",
   "metadata": {
    "slideshow": {
     "slide_type": "slide"
    }
   },
   "source": [
    "## 9절 Q-러닝"
   ]
  },
  {
   "cell_type": "markdown",
   "metadata": {
    "slideshow": {
     "slide_type": "slide"
    }
   },
   "source": [
    "* TD 학습 방식을 Q-가치를 추청하는 데에 사용함.\n",
    "\n",
    "    $$\n",
    "    Q(s, a) \\,\\underset{\\alpha}{\\leftarrow}\\, r + \\gamma\\cdot \\max_{a'} Q_(s', a')\n",
    "    $$"
   ]
  },
  {
   "cell_type": "markdown",
   "metadata": {},
   "source": [
    "* TD 학습을 통해 알아낸 보상과 전이확률을 이용하여 Q-러닝을 반복실행하면 최적의 Q-가치에 수렴함.\n",
    "    대신, 보다 훨씬 많은 반복이 요구됨."
   ]
  },
  {
   "cell_type": "markdown",
   "metadata": {},
   "source": [
    "<div align=\"center\"><img src=\"images/ch18/homl18-08.png\" width=\"600\"/></div>"
   ]
  },
  {
   "cell_type": "markdown",
   "metadata": {
    "slideshow": {
     "slide_type": "slide"
    }
   },
   "source": [
    "### off-policy 대 on-policy"
   ]
  },
  {
   "cell_type": "markdown",
   "metadata": {},
   "source": [
    "* off-policy 알고리즘: 학습 과정중에 사용되는 정책이 반드시 최종 적으로 실행되는 정책이 아닐 수도 있는 알고리즘\n",
    "    * 예제: Q-러닝 알고리즘"
   ]
  },
  {
   "cell_type": "markdown",
   "metadata": {},
   "source": [
    "* on-policy 알고리즘: 학습 과정에 사용되는 정책이 항상 사용되는 알고리즘\n",
    "    * 예제: PG 알고리즘"
   ]
  },
  {
   "cell_type": "markdown",
   "metadata": {
    "slideshow": {
     "slide_type": "slide"
    }
   },
   "source": [
    "### 탐험 정책"
   ]
  },
  {
   "cell_type": "markdown",
   "metadata": {
    "slideshow": {
     "slide_type": "slide"
    }
   },
   "source": [
    "* $\\varepsilon$-탐욕 정책\n",
    "* 탐험함수 적용 정책"
   ]
  },
  {
   "cell_type": "markdown",
   "metadata": {
    "slideshow": {
     "slide_type": "slide"
    }
   },
   "source": [
    "#### $\\varepsilon$-탐욕 정책"
   ]
  },
  {
   "cell_type": "markdown",
   "metadata": {
    "slideshow": {
     "slide_type": "slide"
    }
   },
   "source": [
    "* 각 스텝에서 $\\varepsilon$ 확률로 랜덤하게 행동을 선택하거나 $(1-\\varepsilon)$의 확률로\n",
    "    그 순간 가장 최선인 행동을 선택하는 정책"
   ]
  },
  {
   "cell_type": "markdown",
   "metadata": {
    "slideshow": {
     "slide_type": "slide"
    }
   },
   "source": [
    "#### 탐험함수 적용 정책"
   ]
  },
  {
   "cell_type": "markdown",
   "metadata": {
    "slideshow": {
     "slide_type": "slide"
    }
   },
   "source": [
    "* 이전에 많이 시도하지 않았던 행동을 시도하도록 유도하는 정책\n",
    "\n",
    "    $$\n",
    "    Q(s, a) \\,\\underset{\\alpha}{\\leftarrow}\\, r + \\gamma\\cdot \\max_{a'} f(Q_(s', a'), N(s',a'))\n",
    "    $$   \n",
    "\n",
    "* $N(s',a')$: 상태 $s'$에서 행동 $a'$을 선택한 횟수\n",
    "* $f(Q, N)$은 아래와 같은 탐험 함수\n",
    "\n",
    "    $$f(Q, N) = Q + \\frac{\\kappa}{1+N}$$\n",
    "\n",
    "    * $\\kappa$: 탐험 호기심 정도를 나타내는 하이퍼파라미터"
   ]
  },
  {
   "cell_type": "markdown",
   "metadata": {
    "slideshow": {
     "slide_type": "slide"
    }
   },
   "source": [
    "### 근사 Q-러닝과 심층 Q-러닝"
   ]
  },
  {
   "cell_type": "markdown",
   "metadata": {
    "slideshow": {
     "slide_type": "slide"
    }
   },
   "source": [
    "#### 근사 Q-러닝"
   ]
  },
  {
   "cell_type": "markdown",
   "metadata": {},
   "source": [
    "* Q-러닝의 문제점: 중간규모 이상의 MDP에 적용하기 어려움.\n",
    "    이유: 너무 많은 상태의 수"
   ]
  },
  {
   "cell_type": "markdown",
   "metadata": {},
   "source": [
    "* 임의의 상태-행동 $(s, a)$에 대한 근사 Q-가치 $Q_\\theta(s,a)$를 대신 계산하여 활용"
   ]
  },
  {
   "cell_type": "markdown",
   "metadata": {
    "slideshow": {
     "slide_type": "slide"
    }
   },
   "source": [
    "#### 심층 Q-러닝"
   ]
  },
  {
   "cell_type": "markdown",
   "metadata": {},
   "source": [
    "* 2013년 딥마인드가 제시한 심층신경망을 활용한 $Q_\\theta(s,a)$ 추정 기법"
   ]
  },
  {
   "cell_type": "markdown",
   "metadata": {},
   "source": [
    "* 심층 Q-네트워크(DQN, Deep Q-Network): Q-가치를 추정하기 위해 사용하는 DNN"
   ]
  },
  {
   "cell_type": "markdown",
   "metadata": {},
   "source": [
    "* 심층 Q-러닝: 근사 Q-러닝을 위해 DQN을 활용하는 학습법"
   ]
  },
  {
   "cell_type": "markdown",
   "metadata": {
    "slideshow": {
     "slide_type": "slide"
    }
   },
   "source": [
    "#### DQN 훈련 알고리즘"
   ]
  },
  {
   "cell_type": "markdown",
   "metadata": {},
   "source": [
    "* 행동을 결정해야 하는 매 순간(상태)에 이전 경험을 바탕으로 정해진 타깃 Q-가치를 목표로 지도학습 실행\n",
    "    * 타깃 Q-가치는 정해진 배치(batch) 크기 만큼 무작위적으로 선택된 이전 경험으로 결정.\n",
    "    \n",
    "    $$\n",
    "    Q_{\\textit{target}}(s, a) = r + \\gamma\\cdot \\max_{a'} Q_\\theta(s', a')\n",
    "    $$       \n",
    "    "
   ]
  },
  {
   "cell_type": "markdown",
   "metadata": {
    "slideshow": {
     "slide_type": "slide"
    }
   },
   "source": [
    "* 다수의 에피소드를 통한 업데이트 반복 알고리즘으로 이해하려면 아래 식이 보다 적절함.\n",
    "    $Q_{\\textit{target}}(s, a)$은 매 에피소드마다 업데이트됨.\n",
    "\n",
    "    $$\n",
    "    Q_{\\textit{target}}(s, a) \\leftarrow r + \\gamma\\cdot \\max_{a'} Q_\\theta(s', a')\n",
    "    $$           "
   ]
  },
  {
   "cell_type": "markdown",
   "metadata": {
    "slideshow": {
     "slide_type": "slide"
    }
   },
   "source": [
    "## 10절 심층 Q-러닝 구현하기"
   ]
  },
  {
   "cell_type": "markdown",
   "metadata": {
    "slideshow": {
     "slide_type": "slide"
    }
   },
   "source": [
    "##### 구현: DQN 설정"
   ]
  },
  {
   "cell_type": "markdown",
   "metadata": {},
   "source": [
    "```python\n",
    "env = gym.make(\"CartPole-v1\")\n",
    "input_shape = [4] # 관측 자료형 모양\n",
    "n_outputs = 2 # 행동 종류 2개\n",
    "\n",
    "# 출력층 뉴련 수: 2개. \n",
    "# 즉, 현재 상태에서 취할 수 있는 모든 행동에 대한 확률값 반환\n",
    "model = keras.models.Sequential([\n",
    "    keras.layers.Dense(32, activation=\"elu\", input_shape=input_shape),\n",
    "    keras.layers.Dense(32, activation=\"elu\"),\n",
    "    keras.layers.Dense(n_outputs)\n",
    "    ])\n",
    "```"
   ]
  },
  {
   "cell_type": "markdown",
   "metadata": {
    "slideshow": {
     "slide_type": "slide"
    }
   },
   "source": [
    "##### 구현: $\\varepsilon$-탐욕 정책 알고리즘\n",
    "\n",
    "* DQN 모델 활용"
   ]
  },
  {
   "cell_type": "markdown",
   "metadata": {},
   "source": [
    "```python\n",
    "def epsilon_greedy_policy(state, epsilon=0):\n",
    "    if np.random.rand() < epsilon:\n",
    "        return np.random.randint(2)\n",
    "    else:\n",
    "        Q_values = model.predict(state[np.newaxis])\n",
    "        return np.argmax(Q_values[0])\n",
    "```"
   ]
  },
  {
   "cell_type": "markdown",
   "metadata": {
    "slideshow": {
     "slide_type": "slide"
    }
   },
   "source": [
    "##### 구현: 지정된 크기의 경험 선택 알고리즘"
   ]
  },
  {
   "cell_type": "markdown",
   "metadata": {},
   "source": [
    "```python\n",
    "def sample_experiences(batch_size):\n",
    "    indices = np.random.randint(len(replay_memory), size=batch_size)\n",
    "    batch = [replay_memory[index] for index in indices]\n",
    "    states, actions, rewards, next_states, dones = [\n",
    "        np.array([experience[field_index] for experience in batch])\n",
    "        for field_index in range(5)]\n",
    "    return states, actions, rewards, next_states, dones\n",
    "```"
   ]
  },
  {
   "cell_type": "markdown",
   "metadata": {
    "slideshow": {
     "slide_type": "slide"
    }
   },
   "source": [
    "##### 구현: 스텝 실행 알고리즘\n",
    "\n",
    "* DQN 모델을 활용하는 $\\varepsilon$-탐욕 정책을 활용하여 한 스템 실행하기"
   ]
  },
  {
   "cell_type": "markdown",
   "metadata": {},
   "source": [
    "```python\n",
    "def play_one_step(env, state, epsilon):\n",
    "    action = epsilon_greedy_policy(state, epsilon)\n",
    "    next_state, reward, done, info = env.step(action)\n",
    "    replay_memory.append((state, action, reward, next_state, done))\n",
    "    return next_state, reward, done, info\n",
    "```"
   ]
  },
  {
   "cell_type": "markdown",
   "metadata": {
    "slideshow": {
     "slide_type": "slide"
    }
   },
   "source": [
    "##### 구현: 지정된 batch 크기의 경험을 이용하여 설정된 타깃 Q-가치를 활용한 경사하강법 실행 알고리즘"
   ]
  },
  {
   "cell_type": "markdown",
   "metadata": {},
   "source": [
    "```python\n",
    "batch_size = 32\n",
    "discount_rate = 0.95\n",
    "optimizer = keras.optimizers.Adam(lr=1e-3)\n",
    "loss_fn = keras.losses.mean_squared_error\n",
    "\n",
    "def training_step(batch_size):\n",
    "    experiences = sample_experiences(batch_size)\n",
    "    states, actions, rewards, next_states, dones = experiences\n",
    "    next_Q_values = model.predict(next_states)\n",
    "    max_next_Q_values = np.max(next_Q_values, axis=1)\n",
    "    target_Q_values = (rewards +\n",
    "                       (1 - dones) * discount_rate * max_next_Q_values)\n",
    "    target_Q_values = target_Q_values.reshape(-1, 1)\n",
    "    mask = tf.one_hot(actions, n_outputs)\n",
    "    with tf.GradientTape() as tape:\n",
    "        all_Q_values = model(states)\n",
    "        Q_values = tf.reduce_sum(all_Q_values * mask, axis=1, keepdims=True)\n",
    "        loss = tf.reduce_mean(loss_fn(target_Q_values, Q_values))\n",
    "    grads = tape.gradient(loss, model.trainable_variables)\n",
    "    optimizer.apply_gradients(zip(grads, model.trainable_variables))\n",
    "```"
   ]
  },
  {
   "cell_type": "markdown",
   "metadata": {
    "slideshow": {
     "slide_type": "slide"
    }
   },
   "source": [
    "#### CartPole의 DQN 모델 훈련"
   ]
  },
  {
   "cell_type": "markdown",
   "metadata": {},
   "source": [
    "```python\n",
    "for episode in range(600):\n",
    "    obs = env.reset()    \n",
    "    for step in range(200):\n",
    "        epsilon = max(1 - episode / 500, 0.01)\n",
    "        obs, reward, done, info = play_one_step(env, obs, epsilon)\n",
    "        if done:\n",
    "            break\n",
    "    if episode > 50:\n",
    "        training_step(batch_size)\n",
    "```"
   ]
  },
  {
   "cell_type": "markdown",
   "metadata": {
    "slideshow": {
     "slide_type": "slide"
    }
   },
   "source": [
    "* DQN 알고리즘의 학습곡선\n",
    "    * 240 번의 에피소드 동안 발전이 전혀 없다가 갑자기 좋아짐.\n",
    "    * 이전 Q-러닝 알고리즘보다 훨씬 빠르기 학습함\n",
    "    * 단, 에피소드가 더 지마면 망각현상이 발생하여 성능이 오르락내리락 함.\n",
    "        이런 현상을 **재해성 망각**(catastrophic forgetting)이라 부름."
   ]
  },
  {
   "cell_type": "markdown",
   "metadata": {},
   "source": [
    "<div align=\"center\"><img src=\"images/ch18/homl18-09a.png\" width=\"600\"/></div>"
   ]
  },
  {
   "cell_type": "markdown",
   "metadata": {
    "slideshow": {
     "slide_type": "slide"
    }
   },
   "source": [
    "### DQN 모델의 한계"
   ]
  },
  {
   "cell_type": "markdown",
   "metadata": {},
   "source": [
    "* 훈련이 매우 어렵고 불안정한 경우가 일반적임"
   ]
  },
  {
   "cell_type": "markdown",
   "metadata": {},
   "source": [
    "* 초기 하이퍼파라미터 값과 랜덤 시드에 영향을 많이 받음.즉, 운이 매우 좋아야 함.\n",
    "    * 예제: CartPole의 경우 은닉층의 뉴런 수를 30 또는 34로 정하면 성능이 100 이상 나오지 않음."
   ]
  },
  {
   "cell_type": "markdown",
   "metadata": {},
   "source": [
    "* 그럼에도 불구하고 알파고와 아타리 게임 등 몇몇 실전 앱에서 훌륭하게 활용됨."
   ]
  },
  {
   "cell_type": "markdown",
   "metadata": {
    "slideshow": {
     "slide_type": "slide"
    }
   },
   "source": [
    "## 11절 심층 Q-러닝의 변종"
   ]
  },
  {
   "cell_type": "markdown",
   "metadata": {},
   "source": [
    "* 앞서 설명한 CartPole의 DQN 모델은 너무 불안정함."
   ]
  },
  {
   "cell_type": "markdown",
   "metadata": {},
   "source": [
    "* 안정적이면서 빠른 훈련을 지원하는 심층 Q-러닝 알고리즘 존재"
   ]
  },
  {
   "cell_type": "markdown",
   "metadata": {
    "slideshow": {
     "slide_type": "slide"
    }
   },
   "source": [
    "### 고정 Q-가치 타깃"
   ]
  },
  {
   "cell_type": "markdown",
   "metadata": {},
   "source": [
    "* 앞서 설명한 모델은 하나의 모델이 타깃 Q-가치와 현재 상태에서의 예측을 함께 실행함.\n",
    "    따라서 자기 꼬리를 물려고 하는 강아지처럼 불안정한 피드백의 요인으로 작용하여 발산, 진동, 동경 등의 문제 발생 유발."
   ]
  },
  {
   "cell_type": "markdown",
   "metadata": {},
   "source": [
    "* 2013년 딥마인드 팀에서 아타리 게임 구현에 활용."
   ]
  },
  {
   "cell_type": "markdown",
   "metadata": {},
   "source": [
    "* 타깃 Q-가치를 정하는 모델을 별도로 사용\n",
    "    * 온라인 모델: 각 스텝에서 학습하고 에이전트를 움직임에 사용되는 행동을 선택하는 모델\n",
    "    * 타깃 모델: 타깃을 정의하기 위해서만 사용되는 모델. 온라인 모델의 복사본 사용.\n",
    "\n",
    "    ```python\n",
    "    next_Q_values = target.predict(next_states)\n",
    "    ```"
   ]
  },
  {
   "cell_type": "markdown",
   "metadata": {},
   "source": [
    "* 일정 숫자의 에피소드를 진행할 때마다 경사하강법을 적용하여 파라미터 조정함."
   ]
  },
  {
   "cell_type": "markdown",
   "metadata": {
    "slideshow": {
     "slide_type": "slide"
    }
   },
   "source": [
    "#### 2013년 딥마인드 모델 (아타리 게임)"
   ]
  },
  {
   "cell_type": "markdown",
   "metadata": {},
   "source": [
    "* 학습률: 0.00025"
   ]
  },
  {
   "cell_type": "markdown",
   "metadata": {},
   "source": [
    "* 타깃 모델 업데이트 주기: 10,000 에피소드"
   ]
  },
  {
   "cell_type": "markdown",
   "metadata": {},
   "source": [
    "* 경험 저장 버퍼 크기: 100만"
   ]
  },
  {
   "cell_type": "markdown",
   "metadata": {},
   "source": [
    "* $\\epsilon$: 100만 스텝동안 1에서 0.1까지 매우 천천히 감소시킴."
   ]
  },
  {
   "cell_type": "markdown",
   "metadata": {},
   "source": [
    "* 매 에피소드에서의 스텝 수: 5천만"
   ]
  },
  {
   "cell_type": "markdown",
   "metadata": {
    "slideshow": {
     "slide_type": "slide"
    }
   },
   "source": [
    "### 더블 DQN"
   ]
  },
  {
   "cell_type": "markdown",
   "metadata": {},
   "source": [
    "* 2015년 딥마이드가 2013년 모델을 개선해서 제시함"
   ]
  },
  {
   "cell_type": "markdown",
   "metadata": {},
   "source": [
    "* 2013년도 모델에서 사용된 타깃 모델의 타깃 Q-가치 계산 방법을 조금 수정함.\n",
    "    * 온라인 모델이 선정한 최적의 행동을 기준으로 타깃 모델에서 타깃 Q-가치 계산"
   ]
  },
  {
   "cell_type": "markdown",
   "metadata": {
    "slideshow": {
     "slide_type": "slide"
    }
   },
   "source": [
    "```python\n",
    "def training_step(batch_size):\n",
    "    experiences = sample_experiences(batch_size)\n",
    "    states, actions, rewards, next_states, dones = experiences\n",
    "    next_Q_values = model.predict(next_states)\n",
    "    best_next_actions = np.argmax(next_Q_values, axis=1)\n",
    "    next_mask = tf.one_hot(best_next_actions, n_outputs).numpy()\n",
    "    next_best_Q_values = (target.predict(next_states) * next_mask).sum(axis=1)\n",
    "    target_Q_values = (rewards + \n",
    "                       (1 - dones) * discount_rate * next_best_Q_values)\n",
    "    target_Q_values = target_Q_values.reshape(-1, 1)\n",
    "    mask = tf.one_hot(actions, n_outputs)\n",
    "    [...] # 이전과 동일\n",
    "```"
   ]
  },
  {
   "cell_type": "markdown",
   "metadata": {
    "slideshow": {
     "slide_type": "slide"
    }
   },
   "source": [
    "* 보다 안정적으로 학습됨을 확인 할 수 있음."
   ]
  },
  {
   "cell_type": "markdown",
   "metadata": {
    "slideshow": {
     "slide_type": ""
    }
   },
   "source": [
    "<div align=\"center\"><img src=\"images/ch18/homl18-10.png\" width=\"600\"/></div>"
   ]
  },
  {
   "cell_type": "markdown",
   "metadata": {
    "slideshow": {
     "slide_type": "slide"
    }
   },
   "source": [
    "### 우선순위 기반 경험 재생"
   ]
  },
  {
   "cell_type": "markdown",
   "metadata": {},
   "source": [
    "* 2015년 딥마인드에서 제시한 개선 모델"
   ]
  },
  {
   "cell_type": "markdown",
   "metadata": {
    "slideshow": {
     "slide_type": ""
    }
   },
   "source": [
    "* 타깃 Q-가치 계산에 사용되는 이전 경험을 무작위적으로 선택하는 것 대신에 \n",
    "    중요한 경험을 보다 자주 선택하도록 유도하는 기법 적용"
   ]
  },
  {
   "cell_type": "markdown",
   "metadata": {
    "slideshow": {
     "slide_type": ""
    }
   },
   "source": [
    "* 중요도 평가 기준: TD-오차"
   ]
  },
  {
   "cell_type": "markdown",
   "metadata": {
    "slideshow": {
     "slide_type": ""
    }
   },
   "source": [
    "* 모델에 따라 중요도를 어떻게 활용할지 달라짐."
   ]
  },
  {
   "cell_type": "markdown",
   "metadata": {
    "slideshow": {
     "slide_type": "slide"
    }
   },
   "source": [
    "### 듀얼링 DQN"
   ]
  },
  {
   "cell_type": "markdown",
   "metadata": {},
   "source": [
    "* 보통 DDQN 이라 부름.\n",
    "    * 주의: 더블 DQN과 혼동하지 말 것."
   ]
  },
  {
   "cell_type": "markdown",
   "metadata": {},
   "source": [
    "* 2015년 딥마인드에서 제시한 개선 모델"
   ]
  },
  {
   "cell_type": "markdown",
   "metadata": {
    "slideshow": {
     "slide_type": "slide"
    }
   },
   "source": [
    "#### 기본 아이디어"
   ]
  },
  {
   "cell_type": "markdown",
   "metadata": {},
   "source": [
    "* Q-가치가 아래처럼 계산될 수 있음에 주목함.\n",
    "\n",
    "    $$\n",
    "    Q(s,a) = V(s) + A(s, a)\n",
    "    $$\n",
    "    \n",
    "    * $V(s)$: 상태 $s$의 가치\n",
    "    * $A(s, a)$: 상태 $s$에서 다른 가능한 모든 행동과 비교하여 행동 $a$를 취했을 때 얻는 이득(advantage)"
   ]
  },
  {
   "cell_type": "markdown",
   "metadata": {},
   "source": [
    "* 아래 식을 만족시키는 행동 $a^*$ 존재\n",
    "    \n",
    "    $$V(s) = Q(s,a^*) \\quad\\text{이고}\\quad A(s, a^*) = 0$$"
   ]
  },
  {
   "cell_type": "markdown",
   "metadata": {},
   "source": [
    "* DDQN 모델: 상태의 가치($V(s)$)와 모든 가능한 행동의 이득($A(s,a)$)을 계산하여 Q-가치 추정치 계산"
   ]
  },
  {
   "cell_type": "markdown",
   "metadata": {
    "slideshow": {
     "slide_type": "slide"
    }
   },
   "source": [
    "```python\n",
    "K = keras.backend\n",
    "input_states = keras.layers.Input(shape=[4])\n",
    "\n",
    "hidden1 = keras.layers.Dense(32, activation=\"elu\")(input_states)\n",
    "hidden2 = keras.layers.Dense(32, activation=\"elu\")(hidden1)\n",
    "\n",
    "state_values = keras.layers.Dense(1)(hidden2)\n",
    "raw_advantages = keras.layers.Dense(n_outputs)(hidden2)\n",
    "\n",
    "advantages = raw_advantages - K.max(raw_advantages, axis=1, keepdims=True)\n",
    "\n",
    "Q_values = state_values + advantages\n",
    "\n",
    "model = keras.models.Model(inputs=[input_states], outputs=[Q_values])\n",
    "\n",
    "target = keras.models.clone_model(model)\n",
    "target.set_weights(model.get_weights())\n",
    "```"
   ]
  },
  {
   "cell_type": "markdown",
   "metadata": {
    "slideshow": {
     "slide_type": "slide"
    }
   },
   "source": [
    "### 강화학습 모델 활용법 소개"
   ]
  },
  {
   "cell_type": "markdown",
   "metadata": {},
   "source": [
    "* 여러 모델을 조합하여 새로운 모델 생성하여 많이 활용됨."
   ]
  },
  {
   "cell_type": "markdown",
   "metadata": {},
   "source": [
    "* 딥마인드(2017년)\n",
    "    * 6개의 기법을 조합하여 레인보우(Rainbow)라는 에이전트에 적용."
   ]
  },
  {
   "cell_type": "markdown",
   "metadata": {},
   "source": [
    "* 하지만 강화학습 모델을 훈련시키는 일은 일반적으로 매우 어려움."
   ]
  },
  {
   "cell_type": "markdown",
   "metadata": {},
   "source": [
    "* 따라서 TF-Agents 등 높은 확장성과 성능이 검증된 라이브러리 활용을 추천함."
   ]
  }
 ],
 "metadata": {
  "celltoolbar": "Slideshow",
  "colab": {
   "collapsed_sections": [],
   "name": "핸즈온머신러닝_7장.ipynb",
   "provenance": []
  },
  "kernelspec": {
   "display_name": "Python 3",
   "language": "python",
   "name": "python3"
  },
  "language_info": {
   "codemirror_mode": {
    "name": "ipython",
    "version": 3
   },
   "file_extension": ".py",
   "mimetype": "text/x-python",
   "name": "python",
   "nbconvert_exporter": "python",
   "pygments_lexer": "ipython3",
   "version": "3.8.3"
  }
 },
 "nbformat": 4,
 "nbformat_minor": 1
}
