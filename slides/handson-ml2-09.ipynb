{
 "cells": [
  {
   "cell_type": "markdown",
   "metadata": {
    "slideshow": {
     "slide_type": "slide"
    }
   },
   "source": [
    "# 9장 비지도학습"
   ]
  },
  {
   "cell_type": "markdown",
   "metadata": {
    "slideshow": {
     "slide_type": "slide"
    }
   },
   "source": [
    "* 레이블이 없는 데이터 학습"
   ]
  },
  {
   "cell_type": "markdown",
   "metadata": {
    "slideshow": {
     "slide_type": "fragment"
    }
   },
   "source": [
    "* 예제: 사진에 포함된 사람들 분류하기"
   ]
  },
  {
   "cell_type": "markdown",
   "metadata": {
    "slideshow": {
     "slide_type": "fragment"
    }
   },
   "source": [
    "* 용도\n",
    "    * 군집(clustering)\n",
    "    * 이상치 탐지\n",
    "    * 밀도 추정"
   ]
  },
  {
   "cell_type": "markdown",
   "metadata": {
    "slideshow": {
     "slide_type": "slide"
    }
   },
   "source": [
    "* 군집(clustering): 비슷한 샘플끼리 군집 형성하기\n",
    "    * 데이터 분석\n",
    "    * 고객분류\n",
    "    * 추천 시스템\n",
    "    * 검색 엔진\n",
    "    * 이미지 분할\n",
    "    * 준지도 학습\n",
    "    * 차원 축소"
   ]
  },
  {
   "cell_type": "markdown",
   "metadata": {
    "slideshow": {
     "slide_type": "slide"
    }
   },
   "source": [
    "* 이상치 탐지: 정상 테이터 학습 후 이상치 탐지.\n",
    "    * 제조 라인에서 결함 제품 탐지\n",
    "    * 시계열 데이터에서 새로운 트렌드 찾기"
   ]
  },
  {
   "cell_type": "markdown",
   "metadata": {
    "slideshow": {
     "slide_type": "slide"
    }
   },
   "source": [
    "* 밀도 추정: 데이터셋 생성확률과정의 확률밀도함수 추정 가능 \n",
    "    * 이상치 분류: 밀도가 낮은 지역에 위치한 샘플\n",
    "    * 데이터분석\n",
    "    * 시각화"
   ]
  },
  {
   "cell_type": "markdown",
   "metadata": {
    "slideshow": {
     "slide_type": "slide"
    }
   },
   "source": [
    "## 주요 내용"
   ]
  },
  {
   "cell_type": "markdown",
   "metadata": {
    "colab_type": "text",
    "id": "LYbSTqz67D9H",
    "slideshow": {
     "slide_type": "slide"
    }
   },
   "source": [
    "* 군집\n",
    "* k-평균\n",
    "* DBSCAN\n",
    "* 가우시안 혼합\n",
    "* 이상치/특이치 탐지용 알고리즘"
   ]
  },
  {
   "cell_type": "markdown",
   "metadata": {
    "colab_type": "text",
    "id": "l-Y7yrhc7cM6",
    "slideshow": {
     "slide_type": "slide"
    }
   },
   "source": [
    "## 9.1 군집화"
   ]
  },
  {
   "cell_type": "markdown",
   "metadata": {
    "slideshow": {
     "slide_type": "slide"
    }
   },
   "source": [
    "* 군집화(clustering): 유사한 부류의 대상들로 그룹 만들기\n",
    "* 클러스터(cluster): 유사한 샘플들의 그룹"
   ]
  },
  {
   "cell_type": "markdown",
   "metadata": {},
   "source": [
    "### 분류 대 군집화"
   ]
  },
  {
   "cell_type": "markdown",
   "metadata": {
    "slideshow": {
     "slide_type": "slide"
    }
   },
   "source": [
    "* 유사점: 각 샘플에 하나의 그룹에 할당\n",
    "* 차이점: 클러스터가 미리 레이블(타깃)로 지정되지 않고 예측기 스스로 적절한 클러스터를 찾아내야 함."
   ]
  },
  {
   "cell_type": "markdown",
   "metadata": {
    "slideshow": {
     "slide_type": "slide"
    }
   },
   "source": [
    "#### 예제"
   ]
  },
  {
   "cell_type": "markdown",
   "metadata": {
    "slideshow": {
     "slide_type": "slide"
    }
   },
   "source": [
    "* 왼편: 분류\n",
    "* 오른편: 군집화\n",
    "    * 4개의 특성 모두 사용"
   ]
  },
  {
   "cell_type": "markdown",
   "metadata": {
    "slideshow": {
     "slide_type": ""
    }
   },
   "source": [
    "<img src=\"images/ch09/homl09-01.png\" width=\"600\"/>"
   ]
  },
  {
   "cell_type": "markdown",
   "metadata": {
    "slideshow": {
     "slide_type": "slide"
    }
   },
   "source": [
    "* 가우시안 혼합 모델 적용하면 매우 정확한 군집화 가능\n",
    "    * 4개의 특성 모두 사용할 경우\n",
    "    * 꽃잎의 너비/길이, 꽃받침의 너비/길이"
   ]
  },
  {
   "cell_type": "markdown",
   "metadata": {
    "slideshow": {
     "slide_type": ""
    }
   },
   "source": [
    "<img src=\"images/ch09/homl09-02.png\" width=\"400\"/>"
   ]
  },
  {
   "attachments": {},
   "cell_type": "markdown",
   "metadata": {
    "slideshow": {
     "slide_type": "slide"
    }
   },
   "source": [
    "### 군집화 활용 예제\n",
    "\n",
    "* 고객 분류 \n",
    "* 데이터 분석 \n",
    "* 차원 축소 기법 \n",
    "* 이상치 탐지 \n",
    "* 준지도 학습 \n",
    "* 검색 엔진 \n",
    "* 이미지 분할 "
   ]
  },
  {
   "cell_type": "markdown",
   "metadata": {
    "slideshow": {
     "slide_type": "slide"
    }
   },
   "source": [
    "### 클러스터 정의"
   ]
  },
  {
   "cell_type": "code",
   "execution_count": null,
   "metadata": {},
   "outputs": [],
   "source": []
  }
 ],
 "metadata": {
  "celltoolbar": "Slideshow",
  "colab": {
   "collapsed_sections": [],
   "name": "핸즈온머신러닝_7장.ipynb",
   "provenance": []
  },
  "kernelspec": {
   "display_name": "Python 3",
   "language": "python",
   "name": "python3"
  },
  "language_info": {
   "codemirror_mode": {
    "name": "ipython",
    "version": 3
   },
   "file_extension": ".py",
   "mimetype": "text/x-python",
   "name": "python",
   "nbconvert_exporter": "python",
   "pygments_lexer": "ipython3",
   "version": "3.8.3"
  }
 },
 "nbformat": 4,
 "nbformat_minor": 1
}
