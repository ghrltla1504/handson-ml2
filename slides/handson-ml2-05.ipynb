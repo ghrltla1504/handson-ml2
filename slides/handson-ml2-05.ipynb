{
 "cells": [
  {
   "cell_type": "markdown",
   "metadata": {
    "colab_type": "text",
    "id": "tu5GtCghdaqn",
    "slideshow": {
     "slide_type": "slide"
    }
   },
   "source": [
    "# 5장 서포트 벡터 머신"
   ]
  },
  {
   "cell_type": "markdown",
   "metadata": {
    "slideshow": {
     "slide_type": "slide"
    }
   },
   "source": [
    "#### 감사의 글\n",
    "\n",
    "자료를 공개한 저자 오렐리앙 제롱과 강의자료를 지원한 한빛아카데미에게 진심어린 감사를 전합니다."
   ]
  },
  {
   "cell_type": "markdown",
   "metadata": {
    "slideshow": {
     "slide_type": "slide"
    }
   },
   "source": [
    "* 선형 분류/회귀 지원 모델\n",
    "* 비선형 분류/회귀 지원 가능 \n",
    "* 이상치 탐색 가능\n",
    "* 복잡한 분류 문제 가능\n",
    "* 작거나 중간 크기의 데이터셋에 적합"
   ]
  },
  {
   "cell_type": "markdown",
   "metadata": {
    "colab_type": "text",
    "id": "tu5GtCghdaqn",
    "slideshow": {
     "slide_type": "slide"
    }
   },
   "source": [
    "## 개요\n",
    "\n",
    "* 선형 SVM 분류\n",
    "    * 라지 마진 분류\n",
    "    * 하드/소프트 마진 분류"
   ]
  },
  {
   "cell_type": "markdown",
   "metadata": {
    "colab_type": "text",
    "id": "tu5GtCghdaqn",
    "slideshow": {
     "slide_type": "fragment"
    }
   },
   "source": [
    "* 비선형 SVM 분류\n",
    "  * 선형 SVM + 다항 특성\n",
    "  * SVC + 커널 트릭"
   ]
  },
  {
   "cell_type": "markdown",
   "metadata": {
    "colab_type": "text",
    "id": "tu5GtCghdaqn",
    "slideshow": {
     "slide_type": "fragment"
    }
   },
   "source": [
    "* SVM 회귀"
   ]
  },
  {
   "cell_type": "markdown",
   "metadata": {
    "colab_type": "text",
    "id": "tu5GtCghdaqn",
    "slideshow": {
     "slide_type": "slide"
    }
   },
   "source": [
    "* SVM 이론\n",
    "    * 결정함수, 예측, 목적함수\n",
    "    * 2차 계획법(QP, quadratic programming)\n",
    "    * 쌍대 문제\n",
    "    * 커널 SVM\n",
    "    * 온라인 SVM"
   ]
  },
  {
   "cell_type": "markdown",
   "metadata": {
    "colab_type": "text",
    "id": "JGc-Nyz1gRJg",
    "slideshow": {
     "slide_type": "slide"
    }
   },
   "source": [
    "## 5.1 선형 SVM 분류"
   ]
  },
  {
   "cell_type": "markdown",
   "metadata": {
    "colab_type": "text",
    "id": "tu5GtCghdaqn",
    "slideshow": {
     "slide_type": "slide"
    }
   },
   "source": [
    "* 라지 마진 분류\n",
    "* 하드/소프트 마진 분류"
   ]
  },
  {
   "cell_type": "markdown",
   "metadata": {
    "colab_type": "text",
    "id": "N3xGgvNJeI0x",
    "slideshow": {
     "slide_type": "slide"
    }
   },
   "source": [
    "### 라지 마진 분류"
   ]
  },
  {
   "cell_type": "markdown",
   "metadata": {
    "colab_type": "text",
    "id": "N3xGgvNJeI0x",
    "slideshow": {
     "slide_type": "fragment"
    }
   },
   "source": [
    "* 라지 마진: 클래스를 구분하는 가장 넓은 도로\n",
    "\n",
    "* 분류 대상 클래스들 사이의 가장 큰 도로, 즉 라지 마진을 계산하여 클래스 분류"
   ]
  },
  {
   "cell_type": "markdown",
   "metadata": {
    "colab_type": "text",
    "id": "UGMrjXXhxHRe",
    "slideshow": {
     "slide_type": "slide"
    }
   },
   "source": [
    "* 예제: "
   ]
  },
  {
   "cell_type": "markdown",
   "metadata": {
    "slideshow": {
     "slide_type": ""
    }
   },
   "source": [
    "<img src=\"images/ch05/homl05-01.png\" width=\"600\"/>"
   ]
  },
  {
   "cell_type": "markdown",
   "metadata": {
    "slideshow": {
     "slide_type": "fragment"
    }
   },
   "source": [
    "| | 왼편 그래프      | 오른편 그래프    |\n",
    "| ---: | -------------: | -------------: |\n",
    "| **분류기:** | 선형 분류 | 마진 분류 |\n",
    "| **실선:** | 분류 좋음 | 결정 경계(최대폭 도로 중심선) |\n",
    "| **일반화:** | 일반화 어려움 | 일반화 가능 |"
   ]
  },
  {
   "cell_type": "markdown",
   "metadata": {
    "colab_type": "text",
    "id": "N3xGgvNJeI0x",
    "slideshow": {
     "slide_type": "slide"
    }
   },
   "source": [
    "### 서포트 벡터"
   ]
  },
  {
   "cell_type": "markdown",
   "metadata": {
    "colab_type": "text",
    "id": "JGc-Nyz1gRJg",
    "slideshow": {
     "slide_type": "fragment"
    }
   },
   "source": [
    "* 도로의 양쪽 경계에 위치하는 샘플 (아래 그림에서 동그라미 표시됨)\n",
    "* 서포트 벡터 사이의 간격, 즉 도로의 폭이 최대가 되도록 학습\n",
    "* 특성 스케일을 조정하면 결정경계가 훨씬 좋아짐.\n",
    "    * 특성들의 단위를 통일하기 때문."
   ]
  },
  {
   "cell_type": "markdown",
   "metadata": {
    "slideshow": {
     "slide_type": ""
    }
   },
   "source": [
    "<img src=\"images/ch05/homl05-02.png\" width=\"600\"/>"
   ]
  },
  {
   "cell_type": "markdown",
   "metadata": {
    "colab_type": "text",
    "id": "N3xGgvNJeI0x",
    "slideshow": {
     "slide_type": "slide"
    }
   },
   "source": [
    "### 서포트 벡터 머신(SVM)"
   ]
  },
  {
   "cell_type": "markdown",
   "metadata": {
    "colab_type": "text",
    "id": "JGc-Nyz1gRJg",
    "slideshow": {
     "slide_type": "fragment"
    }
   },
   "source": [
    "* 두 클래스로부터 최대한 멀리 떨어져 있는 결정 경계를 이용한 분류기\n",
    "* 결정 경계 찾기: 클래스 사이를 지나가는 도로 폭(마진)이 특정 조건하에 최대가 되어야 함"
   ]
  },
  {
   "cell_type": "markdown",
   "metadata": {
    "colab_type": "text",
    "id": "kHZMq0ZchbG2",
    "slideshow": {
     "slide_type": "slide"
    }
   },
   "source": [
    "### 하드 마진 분류\n",
    "\n",
    "* 모든 훈련 샘플이 도로 바깥쪽에 올바르게 분류되도록 하는 마진 분류"
   ]
  },
  {
   "cell_type": "markdown",
   "metadata": {
    "colab_type": "text",
    "id": "kHZMq0ZchbG2",
    "slideshow": {
     "slide_type": "fragment"
    }
   },
   "source": [
    "* 훈련 세트가 선형적으로 구분되는 경우에만 가능"
   ]
  },
  {
   "cell_type": "markdown",
   "metadata": {
    "colab_type": "text",
    "id": "ipXN9Jndh8la",
    "slideshow": {
     "slide_type": "slide"
    }
   },
   "source": [
    "#### 하드 마진 분류와 이상치"
   ]
  },
  {
   "cell_type": "markdown",
   "metadata": {
    "slideshow": {
     "slide_type": ""
    }
   },
   "source": [
    "<img src=\"images/ch05/homl05-03.png\" width=\"600\"/>"
   ]
  },
  {
   "cell_type": "markdown",
   "metadata": {
    "slideshow": {
     "slide_type": ""
    }
   },
   "source": [
    "|  | 왼편 그래프      | 오른편 그래프    |\n",
    "| ---: | -------------: | -------------: |\n",
    "| **이상치:** | 타 클래스에 섞임 | 타 클래스에 매우 가까움 |\n",
    "| **하드 마진 분류:** | 불가능  | 가능하지만 일반화 어려움 |"
   ]
  },
  {
   "cell_type": "markdown",
   "metadata": {
    "colab_type": "text",
    "id": "kHZMq0ZchbG2",
    "slideshow": {
     "slide_type": "slide"
    }
   },
   "source": [
    "### 소프트 마진 분류\n",
    "\n",
    "* 마진 위반(margin violation) 사례의 발생 정도를 조절하면서 도로의 폭을 최대로 넓게 유지하는 마진 분류"
   ]
  },
  {
   "cell_type": "markdown",
   "metadata": {
    "colab_type": "text",
    "id": "kHZMq0ZchbG2",
    "slideshow": {
     "slide_type": "fragment"
    }
   },
   "source": [
    "* __마진 위반:__ 훈련 샘플이 도로 상에 위치하거나 결정 경계를 넘어 해당 클래스 반대편에 위치하는 샘플"
   ]
  },
  {
   "cell_type": "markdown",
   "metadata": {
    "colab_type": "text",
    "id": "3J1AIfHsi6x0",
    "slideshow": {
     "slide_type": "slide"
    }
   },
   "source": [
    "#### 예제: 붓꽃 품종 이진 분류\n",
    "\n",
    "* 사이킷런의 SVM 분류기 `LinearSVC` 활용\n",
    "\n",
    "* Iris-Virginica 품종 여부 판단"
   ]
  },
  {
   "cell_type": "markdown",
   "metadata": {
    "slideshow": {
     "slide_type": "fragment"
    }
   },
   "source": [
    "```python\n",
    "svm_clf1 = LinearSVC(C=1, loss=\"hinge\", random_state=42)\n",
    "\n",
    "svm_clf2 = LinearSVC(C=100, loss=\"hinge\", random_state=42)\n",
    "```"
   ]
  },
  {
   "cell_type": "markdown",
   "metadata": {
    "slideshow": {
     "slide_type": "subslide"
    }
   },
   "source": [
    "<img src=\"images/ch05/homl05-04.png\" width=\"600\"/>"
   ]
  },
  {
   "cell_type": "markdown",
   "metadata": {
    "slideshow": {
     "slide_type": ""
    }
   },
   "source": [
    "|  | 왼편 그래프      | 오른편 그래프    |\n",
    "| ---: | -------------: | -------------: |\n",
    "| **C:**       | 작게 | 크게 |\n",
    "| **도로폭:**    | 넓게 | 좁게 |\n",
    "| **마진 위반:** | 많게  | 적게|\n",
    "| **분류:**     | 덜 정교하게 | 보다 정교하게 |"
   ]
  },
  {
   "cell_type": "markdown",
   "metadata": {
    "colab_type": "text",
    "id": "VGdLiYbTk1Xs",
    "slideshow": {
     "slide_type": "slide"
    }
   },
   "source": [
    "### 사이킷런의 선형 SVM 지원 모델 예제"
   ]
  },
  {
   "cell_type": "markdown",
   "metadata": {
    "colab_type": "text",
    "id": "VGdLiYbTk1Xs",
    "slideshow": {
     "slide_type": "fragment"
    }
   },
   "source": [
    "#### LinearSVC\n",
    "    \n",
    "* 앞서 설명됨."
   ]
  },
  {
   "cell_type": "markdown",
   "metadata": {
    "colab_type": "text",
    "id": "VGdLiYbTk1Xs",
    "slideshow": {
     "slide_type": "fragment"
    }
   },
   "source": [
    "#### SVC + 선형 커널\n",
    "\n",
    "* 예제: `SVC(kernel=\"linear\", C=1)`"
   ]
  },
  {
   "cell_type": "markdown",
   "metadata": {
    "colab_type": "text",
    "id": "VGdLiYbTk1Xs",
    "slideshow": {
     "slide_type": "fragment"
    }
   },
   "source": [
    "#### SGDClassifier + hinge 손실함수 활용 + 규제\n",
    "\n",
    "* 예제: `SGDClassifier(loss=\"hinge\", alpha=1/(m*C))`\n",
    "* 규제 강도가 훈련 샘플 수(`m`)에 반비례. 즉, 훈련 샘플 수가 크면 규제 약해짐"
   ]
  },
  {
   "cell_type": "markdown",
   "metadata": {
    "colab_type": "text",
    "id": "pKX4P_7Wll07",
    "slideshow": {
     "slide_type": "slide"
    }
   },
   "source": [
    "## 5.2 비선형 분류"
   ]
  },
  {
   "cell_type": "markdown",
   "metadata": {
    "colab_type": "text",
    "id": "pKX4P_7Wll07",
    "slideshow": {
     "slide_type": "slide"
    }
   },
   "source": [
    "* 방식 1: 선형 SVM 적용\n",
    "    * 다항 특성 활용: 다항 특성을 추가한 후 선형 SVM 적용\n",
    "    * 유사도 특성 활용: 유사도 특성을 추가하거나 유사도 특성만을 활용하여 선형 SVM 적용"
   ]
  },
  {
   "cell_type": "markdown",
   "metadata": {
    "colab_type": "text",
    "id": "pKX4P_7Wll07",
    "slideshow": {
     "slide_type": "fragment"
    }
   },
   "source": [
    "* 방식 2: `SVC` + 커널 트릭\n",
    "    * 새로운 특성을 실제로 추가하지 않지만, 동일한 결과를 유도하는 방식\n",
    "    * 예제 1: 다항 커널  (__주의__: 책에서는 다항식 커널로 불림)\n",
    "    * 예제 2: 가우시안 RBF(방사 기저 함수) 커널"
   ]
  },
  {
   "cell_type": "markdown",
   "metadata": {
    "colab_type": "text",
    "id": "Noa1Kbiil4Y_",
    "slideshow": {
     "slide_type": "slide"
    }
   },
   "source": [
    "### 방식 1: 선형 SVM 활용"
   ]
  },
  {
   "cell_type": "markdown",
   "metadata": {
    "colab_type": "text",
    "id": "Noa1Kbiil4Y_",
    "slideshow": {
     "slide_type": "slide"
    }
   },
   "source": [
    "#### 다항 특성 + 선형 SVM: 예제 1\n",
    "\n",
    "* 특성 $x_1$ 하나만 갖는 모델에 새로운 특성 $x_1^2$을 추가한 후 선형 SVM 분류 적용"
   ]
  },
  {
   "cell_type": "markdown",
   "metadata": {},
   "source": [
    "<div align=\"center\"><img src=\"images/ch05/homl05-05.png\" width=\"600\"/></div>"
   ]
  },
  {
   "cell_type": "markdown",
   "metadata": {
    "colab_type": "text",
    "id": "Noa1Kbiil4Y_",
    "slideshow": {
     "slide_type": "slide"
    }
   },
   "source": [
    "#### 참고: 다항 특성 + 선형 회귀\n",
    "\n",
    "* 4장에서 이미 한 번 살펴 봤음.\n",
    "    * 특성 $x_1$ 하나만 갖는 모델에 새로운 특성 $x_1^2$을 추가한 후 선형회귀 적용\n",
    "    * 2차 다항식 모델: $\\hat y = \\theta_0 + \\theta_1\\, x_1 + \\theta_2\\, x_1^{2}$"
   ]
  },
  {
   "cell_type": "markdown",
   "metadata": {},
   "source": [
    "<div align=\"center\"><img src=\"images/ch04/homl04-07.png\" width=\"500\"/></div>"
   ]
  },
  {
   "cell_type": "markdown",
   "metadata": {
    "colab_type": "text",
    "id": "Noa1Kbiil4Y_",
    "slideshow": {
     "slide_type": "slide"
    }
   },
   "source": [
    "#### 다항 특성 + 선형 SVM: 예제 2\n",
    "\n",
    "* moons 데이터셋: 마주보는 두 개의 반원 모양으로 두 개의 클래스로 구분되는 데이터"
   ]
  },
  {
   "cell_type": "markdown",
   "metadata": {},
   "source": [
    "<div align=\"center\"><img src=\"images/ch05/homl05-06.png\" width=\"500\"/></div>"
   ]
  },
  {
   "cell_type": "markdown",
   "metadata": {
    "slideshow": {
     "slide_type": "slide"
    }
   },
   "source": [
    "```python\n",
    "# 3차 다항까지 추가\n",
    "polynomial_svm_clf = Pipeline([\n",
    "        (\"poly_features\", PolynomialFeatures(degree=3)),\n",
    "        (\"scaler\", StandardScaler()),\n",
    "        (\"svm_clf\", LinearSVC(C=10, loss=\"hinge\", random_state=42))\n",
    "    ])\n",
    "```"
   ]
  },
  {
   "cell_type": "markdown",
   "metadata": {},
   "source": [
    "<div align=\"center\"><img src=\"images/ch05/homl05-07.png\" width=\"500\"/></div>"
   ]
  },
  {
   "cell_type": "markdown",
   "metadata": {
    "colab_type": "text",
    "id": "Noa1Kbiil4Y_",
    "slideshow": {
     "slide_type": "slide"
    }
   },
   "source": [
    "#### 유사도 특성 + 선형 SVM\n",
    "\n",
    "* 유사도 함수: 각 샘플에 대해 특정 랜드마크(landmark)와의 유사도를 측정하는 함수"
   ]
  },
  {
   "cell_type": "markdown",
   "metadata": {
    "colab_type": "text",
    "id": "Noa1Kbiil4Y_",
    "slideshow": {
     "slide_type": ""
    }
   },
   "source": [
    "#### 유사도 함수 예제: 가우시안 방사 기저 함수(RBF, radial basis function)\n",
    "\n",
    "* $\\ell$: 랜드마크\n",
    "* $\\gamma$: 랜드마크에서 멀어질 수록 0에 수렴하는 속도를 조절함\n",
    "    * $\\gamma$ 값이 클수록 가까운 샘플 선호\n",
    "    * 과대적합 위험 커짐\n",
    "    * 0: 랜드마크에서 아주 멀리 떨어진 경우\n",
    "    * 1: 랜드마크와 같은 위치인 경우        \n",
    "\n",
    "    $$\n",
    "    \\phi(\\mathbf x, \\ell) = \\exp(-\\gamma\\, \\lVert \\mathbf x - \\ell \\lVert^2)\n",
    "    $$"
   ]
  },
  {
   "cell_type": "markdown",
   "metadata": {
    "colab_type": "text",
    "id": "ApSHKXvRoimC",
    "slideshow": {
     "slide_type": "slide"
    }
   },
   "source": [
    "#### 유사도 함수 적용 장단점\n",
    "\n",
    "* 각 샘플을 랜드마크로 지정 후 유사도 특성 추가\n",
    "    * ($n$ 개의 특성을 가진 $m$ 개의 샘플) $\\quad\\Longrightarrow\\quad$ ($m$ 개의 특성을 가진 $m$ 개의 샘플)\n",
    "* 장점: 차원이 커지면서 선형적으로 구분될 가능성이 높아짐.\n",
    "\n",
    "* 단점: 훈련 세트가 매우 클 경우 동일한 크기의 아주 많은 특성이 생성됨."
   ]
  },
  {
   "cell_type": "markdown",
   "metadata": {
    "colab_type": "text",
    "id": "Noa1Kbiil4Y_",
    "slideshow": {
     "slide_type": "slide"
    }
   },
   "source": [
    "#### 유사도 특성 + 선형 SVM: 예제\n",
    "\n",
    "* 랜드마크: -2와 1\n",
    "* $x_2$과 $x_3$: 각각 -2와 1에 대한 가우시안 RBF 함수로 계산한 유사도\n",
    "* 아래 이미지: $\\mathbf x = -1$"
   ]
  },
  {
   "cell_type": "markdown",
   "metadata": {},
   "source": [
    "<div align=\"center\"><img src=\"images/ch05/homl05-08.png\" width=\"600\"/></div>"
   ]
  },
  {
   "cell_type": "markdown",
   "metadata": {
    "colab_type": "text",
    "id": "Noa1Kbiil4Y_",
    "slideshow": {
     "slide_type": "slide"
    }
   },
   "source": [
    "### 방식 2: SVC + 커널 트릭"
   ]
  },
  {
   "cell_type": "markdown",
   "metadata": {
    "colab_type": "text",
    "id": "1jwsMMfMnAjW"
   },
   "source": [
    "#### 커널 트릭\n",
    "\n",
    "* 어떠한 특성도 새로 추가하지 않으면서 특성을 추가한 것과 수학적으로 동일한 결과가 나오게 하는 기법\n",
    "\n",
    "* 다항 커널: 다항 특성을 추가하는 효과를 내주는 함수\n",
    "* 가우시안 RBF 커널: 유사도 특성을 추가하는 효과를 내주는 함수"
   ]
  },
  {
   "cell_type": "markdown",
   "metadata": {
    "colab_type": "text",
    "id": "Noa1Kbiil4Y_",
    "slideshow": {
     "slide_type": "slide"
    }
   },
   "source": [
    "#### SVC + 다항 커널: 예제\n",
    "\n",
    "* 다항 특성을 추가해서 모델 학습을 진행하는 방식을 커널 트릭을 이용하여 지원"
   ]
  },
  {
   "cell_type": "markdown",
   "metadata": {},
   "source": [
    "```python\n",
    "# 두 개의 다항 커널 지정\n",
    "\n",
    "from sklearn.svm import SVC\n",
    "\n",
    "poly_kernel_svm_clf = Pipeline([\n",
    "        (\"scaler\", StandardScaler()),\n",
    "        (\"svm_clf\", SVC(kernel=\"poly\", degree=d, coef0=c0, C=C))\n",
    "    ])\n",
    "```"
   ]
  },
  {
   "cell_type": "markdown",
   "metadata": {
    "slideshow": {
     "slide_type": "slide"
    }
   },
   "source": [
    "<div align=\"center\"><img src=\"images/ch05/homl05-09.png\" width=\"600\"/></div>"
   ]
  },
  {
   "cell_type": "markdown",
   "metadata": {
    "slideshow": {
     "slide_type": ""
    }
   },
   "source": [
    "\n",
    "|      | 왼편 그래프      | 오른편 그래프    |\n",
    "| ---: | -------------: | -------------: |\n",
    "| **kernel=\"poly\":** | 다항 커널  | 다항 커널 |\n",
    "| **degree=d:** | d=3: 3차 다항 커널  | d=10: 10차 다항 커널 |\n",
    "| **coef0=r:**     | r=1: 높은 차수 강조 조금 | r=100:높은 차수 강조 많이 |\n",
    "| **C=C:**       | C=5: 마진 약간 크게 | C=5: 마진 약간 크게 |"
   ]
  },
  {
   "cell_type": "markdown",
   "metadata": {
    "colab_type": "text",
    "id": "HLqZKMBNoDLz",
    "slideshow": {
     "slide_type": "slide"
    }
   },
   "source": [
    "#### 적절한 하이퍼파라미터 선택\n",
    "\n",
    "* 모델이 과대적합이면 차수를 줄여야 함\n",
    "* 적절한 하이퍼파라미터는 그리드 탐색 등을 이용하여 찾음\n",
    "* 처음에는 그리드의 폭을 크게, 그 다음에는 좀 더 세밀하게 검색\n",
    "* 하이퍼파라미터의 역할을 잘 알고 있어야 함"
   ]
  },
  {
   "cell_type": "markdown",
   "metadata": {
    "colab_type": "text",
    "id": "Noa1Kbiil4Y_",
    "slideshow": {
     "slide_type": "slide"
    }
   },
   "source": [
    "#### SVC + 가우시안 RBF: 예제\n",
    "\n",
    "* 유사도 특성을 추가해서 모델 학습을 진행하는 방식을 커널 트릭을 이용하여 지원"
   ]
  },
  {
   "cell_type": "markdown",
   "metadata": {},
   "source": [
    "```python\n",
    "rbf_kernel_svm_clf = Pipeline([\n",
    "        (\"scaler\", StandardScaler()),\n",
    "        (\"svm_clf\", SVC(kernel=\"rbf\", gamma=ga, C=C))\n",
    "    ])\n",
    "```"
   ]
  },
  {
   "cell_type": "markdown",
   "metadata": {
    "slideshow": {
     "slide_type": "slide"
    }
   },
   "source": [
    "<div align=\"center\"><img src=\"images/ch05/homl05-10.png\" width=\"600\"/></div>"
   ]
  },
  {
   "cell_type": "markdown",
   "metadata": {
    "slideshow": {
     "slide_type": ""
    }
   },
   "source": [
    "\n",
    "|      | 상단 왼편 그래프      | 상단 오른편 그래프    |\n",
    "| ---: | -------------: | -------------: |\n",
    "| **kernel=\"rbf\":** | 가우시안 RBF 커널  | 가우시안 RBF 커널 |\n",
    "| **gamma=ga:** | ga=0.1: 랜드마크에 조금 집중   | ga=0.1: 랜드마크에 조금 집중 |\n",
    "| **C=C:**       | C=0.001: 가중치 규제 많이 | C=1000: 가중치 규제 적게 |\n",
    "|               | 따라서 마진 도로폭 넓게 | 따라서 마진 도로폭 좁게 |"
   ]
  },
  {
   "cell_type": "markdown",
   "metadata": {
    "slideshow": {
     "slide_type": "slide"
    }
   },
   "source": [
    "<div align=\"center\"><img src=\"images/ch05/homl05-10.png\" width=\"600\"/></div>"
   ]
  },
  {
   "cell_type": "markdown",
   "metadata": {
    "slideshow": {
     "slide_type": ""
    }
   },
   "source": [
    "|      | 하단 왼편 그래프      | 하단 오른편 그래프    |\n",
    "| ---: | -------------: | -------------: |\n",
    "| **kernel=\"rbf\":** | 가우시안 RBF 커널  | 가우시안 RBF 커널 |\n",
    "| **gamma=ga:** | ga=5.0: 랜드마크에 많이 집중   | ga=5.0: 랜드마크에 많이 집중 |\n",
    "| **C=C:**       | C=0.001: 가중치 규제 많이 | C=1000: 가중치 규제 적게 |\n",
    "|                | 결정 경계 덜 민감 | 결졍 경계가 보다 민감 | "
   ]
  },
  {
   "cell_type": "markdown",
   "metadata": {
    "colab_type": "text",
    "id": "IekQoOEprhSY",
    "slideshow": {
     "slide_type": "slide"
    }
   },
   "source": [
    "#### 추천 커널\n",
    "* `SVC`의 `kernel` 기본값은 `\"rbf\"` => 대부분의 경우 이 커널이 잘 맞음"
   ]
  },
  {
   "cell_type": "markdown",
   "metadata": {
    "colab_type": "text",
    "id": "IekQoOEprhSY",
    "slideshow": {
     "slide_type": "fragment"
    }
   },
   "source": [
    "* 선형 모델이 예상되는 경우 `\"linear\"` 커널을 사용할 수 있음\n",
    "  * 훈련 세트가 크거나 특성이 아주 많을 경우 `LinearSVC`가 빠름"
   ]
  },
  {
   "cell_type": "markdown",
   "metadata": {
    "colab_type": "text",
    "id": "IekQoOEprhSY",
    "slideshow": {
     "slide_type": "fragment"
    }
   },
   "source": [
    "* 시간과 컴퓨팅 성능이 허락한다면 교차 검증, 그리드 탐색을 이용하여 적절한 커널을 찾아볼 수 있음 \n",
    "  * 시간과 컴퓨팅 성능이 지원되야함"
   ]
  },
  {
   "cell_type": "markdown",
   "metadata": {
    "colab_type": "text",
    "id": "IekQoOEprhSY",
    "slideshow": {
     "slide_type": "fragment"
    }
   },
   "source": [
    "* 훈련 세트에 특화된 커널이 알려져 있다면 해당 커널을 사용"
   ]
  },
  {
   "cell_type": "markdown",
   "metadata": {
    "colab_type": "text",
    "id": "CiVqbDyGsPPZ",
    "slideshow": {
     "slide_type": "slide"
    }
   },
   "source": [
    "### 계산 복잡도"
   ]
  },
  {
   "cell_type": "markdown",
   "metadata": {
    "colab_type": "text",
    "id": "CiVqbDyGsPPZ"
   },
   "source": [
    "분류기|시간 복잡도(m 샘플 수, n 특성 수)|외부 메모리 학습|스케일 조정|커널 트릭|다중 클래스 분류\n",
    "----|-----|-----|-----|-----|-----\n",
    "LinearSVC | $O(m \\times n)$ | 미지원 | 필요 | 미지원 | OvR 기본\n",
    "SGDClassifier | $O(m \\times n)$ | 지원 | 필요 | 미지원 | 지원\n",
    "SVC | $O(m^2 \\times n) \\sim O(m^3 \\times n)$ | 미지원 | 필요 | 지원 | OvR 기본"
   ]
  },
  {
   "cell_type": "markdown",
   "metadata": {
    "colab_type": "text",
    "id": "P1lYLawkuMlw",
    "slideshow": {
     "slide_type": "slide"
    }
   },
   "source": [
    "## 5.3 SVM 회귀"
   ]
  },
  {
   "cell_type": "markdown",
   "metadata": {
    "colab_type": "text",
    "id": "P1lYLawkuMlw",
    "slideshow": {
     "slide_type": "slide"
    }
   },
   "source": [
    "* SVM 분류 목표: 마진 위반 발생 정도를 조절하면서 두 클래스 사이의 도로폭을 최대한 넓게 하기"
   ]
  },
  {
   "cell_type": "markdown",
   "metadata": {
    "colab_type": "text",
    "id": "P1lYLawkuMlw",
    "slideshow": {
     "slide_type": "fragment"
    }
   },
   "source": [
    "* SVM 회귀 목표: 마진 위반 발생 정도를 조절하면서 도로폭을 최대한 넓혀서 도로 위에 가능한 많은 샘플 포함하기"
   ]
  },
  {
   "cell_type": "markdown",
   "metadata": {
    "colab_type": "text",
    "id": "P1lYLawkuMlw",
    "slideshow": {
     "slide_type": "fragment"
    }
   },
   "source": [
    "* 회귀 모델의 마진 위반 사례: 도로 밖에 위치한 샘플"
   ]
  },
  {
   "cell_type": "markdown",
   "metadata": {
    "colab_type": "text",
    "id": "iU8IiHfouli_",
    "slideshow": {
     "slide_type": "slide"
    }
   },
   "source": [
    "### 선형 SVM 회귀\n",
    "\n",
    "* 선형 회귀 모델을 SVM을 이용하여 구현"
   ]
  },
  {
   "cell_type": "markdown",
   "metadata": {
    "colab_type": "text",
    "id": "iU8IiHfouli_",
    "slideshow": {
     "slide_type": "slide"
    }
   },
   "source": [
    "#### 예제: LinearSVR 활용"
   ]
  },
  {
   "cell_type": "markdown",
   "metadata": {
    "colab": {},
    "colab_type": "code",
    "id": "5tMs4GI8rbZs"
   },
   "source": [
    "```python\n",
    "# LinearSVR 클래스 지정\n",
    "from sklearn.svm import LinearSVR\n",
    "\n",
    "svm_reg = LinearSVR(epsilon=e)\n",
    "```"
   ]
  },
  {
   "cell_type": "markdown",
   "metadata": {
    "slideshow": {
     "slide_type": "slide"
    }
   },
   "source": [
    "<div align=\"center\"><img src=\"images/ch05/homl05-11.png\" width=\"600\"/></div>"
   ]
  },
  {
   "cell_type": "markdown",
   "metadata": {
    "slideshow": {
     "slide_type": ""
    }
   },
   "source": [
    "\n",
    "|      | 왼편 그래프      | 오른편 그래프    |\n",
    "| ---: | -------------: | -------------: |\n",
    "| **epsilon=e:**       | e=1.5: 마진 크게 | e=0.5 마진 작게 |"
   ]
  },
  {
   "cell_type": "markdown",
   "metadata": {
    "colab_type": "text",
    "id": "nVTdpLgOvuGf",
    "slideshow": {
     "slide_type": "slide"
    }
   },
   "source": [
    "### 비선형 SVM 회귀\n",
    "\n",
    "* 커널 트릭을 활용하여 비선형 회귀 모델 구현"
   ]
  },
  {
   "cell_type": "markdown",
   "metadata": {},
   "source": [
    "#### 예제: SVR + 다항 커널"
   ]
  },
  {
   "cell_type": "markdown",
   "metadata": {
    "colab": {},
    "colab_type": "code",
    "id": "5tMs4GI8rbZs"
   },
   "source": [
    "```python\n",
    "# SVR + 다항 커널\n",
    "from sklearn.svm import SVR\n",
    "\n",
    "svm_poly_reg = SVR(kernel=\"poly\", degree=d, C=C, epsilon=e, gamma=\"scale\")\n",
    "```"
   ]
  },
  {
   "cell_type": "markdown",
   "metadata": {
    "slideshow": {
     "slide_type": "slide"
    }
   },
   "source": [
    "<div align=\"center\"><img src=\"images/ch05/homl05-12.png\" width=\"600\"/></div>"
   ]
  },
  {
   "cell_type": "markdown",
   "metadata": {
    "slideshow": {
     "slide_type": ""
    }
   },
   "source": [
    "\n",
    "|      | 왼편 그래프      | 오른편 그래프    |\n",
    "| ---: | -------------: | -------------: |\n",
    "| **degree=d:**       | d=2: 2차 다항 커널 | d=2: 2차 다항 커널 |\n",
    "| **epsilon=e:**       | e=0.1: 마진 작게 | e=0.1 마진 작게 |\n",
    "| **C=C:**            | C=100: 가중치 규제 거의 없음 | C=0.01: 가중치 규제 많음 |\n",
    "|                     | 샘플에 더 민감 | 샘플에 덜 민감 |\n",
    "|                     | 도록폭을 보다 넓게 | 도로폭을 보다 좁게|"
   ]
  },
  {
   "cell_type": "markdown",
   "metadata": {
    "colab_type": "text",
    "id": "1FPyRJPJws_I",
    "slideshow": {
     "slide_type": "slide"
    }
   },
   "source": [
    "### 회귀 모델 시간 복잡도"
   ]
  },
  {
   "cell_type": "markdown",
   "metadata": {
    "colab_type": "text",
    "id": "1FPyRJPJws_I"
   },
   "source": [
    "* `LinearSVR`: `LinearSVC`의 회귀 버전\n",
    "    * 시간 복잡도가 훈련 세트의 크기에 비례해서 선형적으로 증가"
   ]
  },
  {
   "cell_type": "markdown",
   "metadata": {
    "colab_type": "text",
    "id": "1FPyRJPJws_I"
   },
   "source": [
    "* `SVR`: `SVC`의 회귀 버전\n",
    "    * 훈련 세트가 커지면 매우 느려짐"
   ]
  },
  {
   "cell_type": "markdown",
   "metadata": {
    "slideshow": {
     "slide_type": "slide"
    }
   },
   "source": [
    "## 5.4 SVM 이론"
   ]
  },
  {
   "cell_type": "markdown",
   "metadata": {
    "slideshow": {
     "slide_type": "slide"
    }
   },
   "source": [
    "* (선형) SVM 작동 원리\n",
    "    * 결정 함수와 예측\n",
    "    * 목적 함수\n",
    "    * 2차 계획법(QP, quadratic programming)\n",
    "    * 쌍대 문제"
   ]
  },
  {
   "cell_type": "markdown",
   "metadata": {
    "slideshow": {
     "slide_type": "slide"
    }
   },
   "source": [
    "* 커널 SVM 작동원리\n",
    "    * 쌍대 문제를 해결할 때 커널 기법 활용 가능"
   ]
  },
  {
   "cell_type": "markdown",
   "metadata": {
    "slideshow": {
     "slide_type": "slide"
    }
   },
   "source": [
    "* 온라인 SVM\n",
    "    * 온라인 선형 SVM\n",
    "    * 온라인 커널 SVM"
   ]
  },
  {
   "cell_type": "markdown",
   "metadata": {
    "slideshow": {
     "slide_type": "slide"
    }
   },
   "source": [
    "### (선형) SVM 작동 원리: 결정 함수와 예측"
   ]
  },
  {
   "cell_type": "markdown",
   "metadata": {
    "slideshow": {
     "slide_type": "slide"
    }
   },
   "source": [
    "#### 선형 SVM 분류기 모델의 결정 함수"
   ]
  },
  {
   "cell_type": "markdown",
   "metadata": {
    "slideshow": {
     "slide_type": ""
    }
   },
   "source": [
    "\\begin{align*}\n",
    "h(\\mathbf x) &= \\mathbf w^T \\mathbf x + b \\\\\n",
    "             &= w_1 x_1 + \\cdots + w_n x_n + b\n",
    "\\end{align*}"
   ]
  },
  {
   "cell_type": "markdown",
   "metadata": {
    "slideshow": {
     "slide_type": "fragment"
    }
   },
   "source": [
    "#### 선형 SVM 분류기 예측"
   ]
  },
  {
   "cell_type": "markdown",
   "metadata": {
    "slideshow": {
     "slide_type": ""
    }
   },
   "source": [
    "$$\n",
    "\\hat y = \\begin{cases}\n",
    "            0 & \\text{if } h(\\mathbf x) < 0\\\\\n",
    "            1 & \\text{if } h(\\mathbf x) \\ge 0\n",
    "         \\end{cases}\n",
    "$$"
   ]
  },
  {
   "cell_type": "markdown",
   "metadata": {
    "slideshow": {
     "slide_type": "slide"
    }
   },
   "source": [
    "#### 결정 경계\n",
    "\n",
    "* 결정 함수의 값이 0인 점들의 집합\n",
    "\n",
    "    $$\\{\\mathbf x \\mid h(\\mathbf x)=0  \\}$$"
   ]
  },
  {
   "cell_type": "markdown",
   "metadata": {
    "slideshow": {
     "slide_type": "slide"
    }
   },
   "source": [
    "* 결정 경계 예제\n",
    "    * 붓꽃 분류: 꽃잎 길이와 너비를 기준으로 Iris-Virginica(초록색 삼각형) 품종 여부 판단"
   ]
  },
  {
   "cell_type": "markdown",
   "metadata": {
    "slideshow": {
     "slide_type": "fragment"
    }
   },
   "source": [
    "<div align=\"center\"><img src=\"images/ch05/homl05-13.png\" width=\"600\"/></div>"
   ]
  },
  {
   "cell_type": "markdown",
   "metadata": {
    "slideshow": {
     "slide_type": "fragment"
    }
   },
   "source": [
    "* 두 점선에 유의할 것\n",
    "    * $h(\\mathbf x)$가 1 또는 -1인 샘플들의 집합\n",
    "    * 마진과 밀접하게 관련됨."
   ]
  },
  {
   "cell_type": "markdown",
   "metadata": {
    "slideshow": {
     "slide_type": "slide"
    }
   },
   "source": [
    "### (선형) SVM 작동 원리: 목적 함수"
   ]
  },
  {
   "cell_type": "markdown",
   "metadata": {
    "slideshow": {
     "slide_type": "slide"
    }
   },
   "source": [
    "#### 결정 함수의 기울기와 마진 폭\n",
    "\n",
    "* 결정 함수의 기울기가 작아질 수록 마진 폭이 커짐. 아래 그림 참조\n",
    "* 결정 함수의 기울기가 $\\| \\mathbf w \\|$에 비례함."
   ]
  },
  {
   "cell_type": "markdown",
   "metadata": {
    "slideshow": {
     "slide_type": "fragment"
    }
   },
   "source": [
    "<div align=\"center\"><img src=\"images/ch05/homl05-14.png\" width=\"600\"/></div>"
   ]
  },
  {
   "cell_type": "markdown",
   "metadata": {
    "slideshow": {
     "slide_type": "fragment"
    }
   },
   "source": [
    "* 마진을 크게 하기 위해 $\\| \\mathbf w \\|$를 최소화 해야 함.\n",
    "    * 하드 마진: 모든 양성(음성) 샘플에 대한 결정 함수의 값이 1(-1)보다 크다(작다)\n",
    "    * 소프트 마진: 모든 샘플에 대한 결정 함수의 값이 지정된 값 이상 또는 이하 이어야 한다."
   ]
  },
  {
   "cell_type": "markdown",
   "metadata": {
    "slideshow": {
     "slide_type": "slide"
    }
   },
   "source": [
    "#### 하드 마진 선형 SVM 분류기의 목적 함수\n",
    "\n",
    "* 목적 함수: \n",
    "\n",
    "    $$\\frac 1 2 \\mathbf w^T \\mathbf w$$\n",
    "    \n",
    "* 아래 조건 하에서 목적 함수를 최소화 시키는 $\\mathbf w$와 $b$를 구해야 함:\n",
    "\n",
    "    $$t^{(i)} (\\mathbf w^T \\mathbf x^{(i)} + b) \\ge 1$$\n",
    "\n",
    "* 단, 다음이 성립:\n",
    "    * $x^{(i)}$: $i$ 번째 샘플\n",
    "    * $t^{(i)}$: 양성 샘플일 때 1, 음성 샘플일 때 -1"
   ]
  },
  {
   "cell_type": "markdown",
   "metadata": {
    "slideshow": {
     "slide_type": "slide"
    }
   },
   "source": [
    "#### 소프트 마진 선형 SVM 분류기의 목적 함수\n",
    "\n",
    "* 목적 함수: \n",
    "\n",
    "    $$\\frac 1 2 \\mathbf w^T \\mathbf w + C \\sum_{i=0}^{m-1} \\zeta^{(i)}$$\n",
    "    \n",
    "* 아래 조건 하에서 목적 함수를 최소화 시키는 $\\mathbf w$와 $b$를 구해야 함:\n",
    "\n",
    "    $$t^{(i)} (\\mathbf w^T \\mathbf x^{(i)} + b) \\ge 1 - \\zeta^{(i)}$$\n",
    "    "
   ]
  },
  {
   "cell_type": "markdown",
   "metadata": {
    "slideshow": {
     "slide_type": "slide"
    }
   },
   "source": [
    "* 단, 다음이 성립:    \n",
    "    * $x^{(i)}$: $i$ 번째 샘플\n",
    "    * $t^{(i)}$: 양성 샘플일 때 1, 음성 샘플일 때 -1\n",
    "    * $\\zeta^{(i)}\\ge 0$: __슬랙 변수__. $i$ 번째 샘플이 얼마나 마진을 위반할지 정함.\n",
    "\n",
    "* $C$: 아래 두 목표 사이의 트레이드오프를 조절하는 하이퍼파라미터\n",
    "    * 목표 1: 슬랙 변수의 값을 작게 만들기\n",
    "    * 목표 2: 마진을 크게 하기 위해 $\\frac 1 2 \\mathbf w^T \\mathbf w$ 값을 가능하면 작게 만들기"
   ]
  },
  {
   "cell_type": "markdown",
   "metadata": {
    "slideshow": {
     "slide_type": "slide"
    }
   },
   "source": [
    "### (선형) SVM 작동 원리: 2차 계획법(QP)"
   ]
  },
  {
   "cell_type": "markdown",
   "metadata": {
    "slideshow": {
     "slide_type": "slide"
    }
   },
   "source": [
    "* 하드(소프트) 마진 문제: 선형 제약조건이 있는 블록 2차 최적화 문제\n",
    "* 2차 계획법(QP, quadratic programming) 문제로 알려짐.\n",
    "* 해법에 대한 설명은 이 책의 수준을 벗어남."
   ]
  },
  {
   "cell_type": "markdown",
   "metadata": {
    "slideshow": {
     "slide_type": "slide"
    }
   },
   "source": [
    "### (선형) SVM 작동 원리: 쌍대 문제"
   ]
  },
  {
   "cell_type": "markdown",
   "metadata": {
    "slideshow": {
     "slide_type": "slide"
    }
   },
   "source": [
    "* 쌍대 문제(dual problem): 주어진 문제의 답과 동일한 답을 갖는 문제\n",
    "* 하드(소프트) 마진과 관련된 2차 계획법 문제의 답을 보다 쉽게 해결할 수 있는 쌍대 문제를 이용하여 해결 가능"
   ]
  },
  {
   "cell_type": "markdown",
   "metadata": {
    "slideshow": {
     "slide_type": "slide"
    }
   },
   "source": [
    "#### 선형 SVM 목적 함수의 쌍대 문제\n",
    "\n",
    "* 아랙 식을 최소화하는 $\\alpha$ 찾기. 단, $\\alpha^{(i)} > 0$:\n",
    "\n",
    "    $$\n",
    "    \\frac 1 2 \\sum_{i=0}^{m-1} \\sum_{j=0}^{m-1} \\alpha^{(i)} \\alpha^{(j)} t^{(i)} t^{(j)} \\mathbf x^{{(i)}^T} \\mathbf x^{(j)} \n",
    "    - \\sum_{i=0}^{m-1} \\alpha^{(i)}\n",
    "    $$"
   ]
  },
  {
   "cell_type": "markdown",
   "metadata": {
    "slideshow": {
     "slide_type": "slide"
    }
   },
   "source": [
    "* 쌍대 문제의 답 $\\hat \\alpha$를 이용하여 $\\hat{\\mathbf w}$ 와 $\\hat b$를 선형 SVM 모델의 파라미터로 활용\n",
    "    * $n_s$: 서포트 벡터 수, 즉, ${\\hat \\alpha}^{(i)} > 0$ 인 샘플 수\n",
    "\n",
    "    \\begin{align*}\n",
    "    \\hat{\\mathbf w} &= \\sum_{i=0}^{m-1} {\\hat \\alpha}^{(i)} t^{(i)} \\mathbf x^{(i)} \\\\\n",
    "    \\hat b &= \\frac{1}{n_s} \\sum_{i=0, \\; {\\hat \\alpha}^{(i)} > 0}^{m-1} \\big( t^{(i)} - {\\hat{\\mathbf w}^T} \\mathbf x^{(i)} \\big)\n",
    "    \\end{align*}"
   ]
  },
  {
   "cell_type": "markdown",
   "metadata": {
    "slideshow": {
     "slide_type": "slide"
    }
   },
   "source": [
    "### 커널 SVM 작동 원리"
   ]
  },
  {
   "cell_type": "markdown",
   "metadata": {
    "slideshow": {
     "slide_type": "slide"
    }
   },
   "source": [
    "#### 쌍대 문제와 커널 SVM\n",
    "\n",
    "* 커널 SVM이 작동 원리는 원래의 문제가 아닌 쌍대 문제 해결과 관련됨."
   ]
  },
  {
   "cell_type": "markdown",
   "metadata": {
    "slideshow": {
     "slide_type": "slide"
    }
   },
   "source": [
    "* 특히 아래 쌍대 목적 함수에서 사용된 $\\mathbf x^{{(i)}^T} \\mathbf x^{(j)} $에 주의해야 함."
   ]
  },
  {
   "cell_type": "markdown",
   "metadata": {
    "slideshow": {
     "slide_type": ""
    }
   },
   "source": [
    "<div align=\"center\"><img src=\"images/ch05/homl05-15.png\" width=\"300\"/></div>"
   ]
  },
  {
   "cell_type": "markdown",
   "metadata": {
    "slideshow": {
     "slide_type": "fragment"
    }
   },
   "source": [
    "#### 예제: 2차 다항 커널 작동 아이디어\n",
    "\n",
    "* 원래 아래 2차 다항식 함수를 적용한 후에 쌍대 목적 함수의 최적화 문제를 해결해야 함.\n",
    "\n",
    "    $$\n",
    "    \\phi(\\mathbf x) = (x_1^2, \\sqrt{2} x_1 x_2, x_2^2)^T\n",
    "    $$\n",
    "    \n",
    "* 원래 아래 식의 최적화 문제를 해결해야 함.\n",
    "\n",
    "<div align=\"center\"><img src=\"images/ch05/homl05-16.png\" width=\"350\"/></div>"
   ]
  },
  {
   "cell_type": "markdown",
   "metadata": {
    "slideshow": {
     "slide_type": "slide"
    }
   },
   "source": [
    "* 하지만 다음이 성립함\n",
    "\n",
    "$$\n",
    "\\phi(\\mathbf a)^T \\phi(\\mathbf b) = ({\\mathbf a}^T \\mathbf b)^2\n",
    "$$\n"
   ]
  },
  {
   "cell_type": "markdown",
   "metadata": {
    "slideshow": {
     "slide_type": "fragment"
    }
   },
   "source": [
    "* 따라서 2차 다항식 함수 $\\phi$ 전혀 적용할 필요 없이 아래 함수에 대한 최적화 문제를 해결하면 됨.\n",
    "\n",
    "<div align=\"center\"><img src=\"images/ch05/homl05-17.png\" width=\"310\"/></div>"
   ]
  },
  {
   "cell_type": "markdown",
   "metadata": {
    "slideshow": {
     "slide_type": "fragment"
    }
   },
   "source": [
    "*  커널 기법으로 구해진 쌍대문제의 해 $\\hat \\alpha$를 이용하여 예측값 $h(\\phi(\\mathbf x))$ 또한 \n",
    "    $\\phi(\\mathbf x)$ 없이 계산할 수 있음."
   ]
  },
  {
   "cell_type": "markdown",
   "metadata": {
    "slideshow": {
     "slide_type": "slide"
    }
   },
   "source": [
    "#### 예제: 지원되는 커널\n",
    "\n",
    "* 선형: \n",
    "    \n",
    "    $$K(\\mathbf a, \\mathbf b) = \\mathbf a^T  \\mathbf b$$\n",
    "\n",
    "* 다항식: \n",
    "    \n",
    "    $$K(\\mathbf a, \\mathbf b) = \\big( \\gamma \\mathbf a^T  \\mathbf b + r \\big)^d$$\n",
    "\n",
    "* 가우시안 RBF:\n",
    "\n",
    "    $$K(\\mathbf a, \\mathbf b) = \\exp \\big( \\!-\\! \\gamma \\| \\mathbf a -  \\mathbf b \\|^2 \\big )$$\n",
    "\n",
    "* 시그모이드: \n",
    "\n",
    "   $$K(\\mathbf a, \\mathbf b) = \\tanh\\! \\big( \\gamma \\mathbf a^T  \\mathbf b + r \\big)$$"
   ]
  },
  {
   "cell_type": "markdown",
   "metadata": {
    "slideshow": {
     "slide_type": "slide"
    }
   },
   "source": [
    "### 온라인 SVM"
   ]
  },
  {
   "cell_type": "markdown",
   "metadata": {
    "slideshow": {
     "slide_type": "slide"
    }
   },
   "source": [
    "* 온라인 학습: 새로운 샘플에 대해 점진적으로 학습하기"
   ]
  },
  {
   "cell_type": "markdown",
   "metadata": {
    "slideshow": {
     "slide_type": "slide"
    }
   },
   "source": [
    "#### 선형 온라인 SVM\n",
    "\n",
    "* 특정 비용함수를 최소화하기 위한 경사하강법 사용\n",
    "* 예제: 사이킷런의 SGDClassifier\n",
    "    * `loss` 하이퍼파라미터를 `hinge` 로 설정하면 선형 SVM 모델 지정"
   ]
  },
  {
   "cell_type": "markdown",
   "metadata": {
    "slideshow": {
     "slide_type": "slide"
    }
   },
   "source": [
    "#### 비선형 온라인 SVM\n",
    "\n",
    "* 온라인 커널 SVM 구현 가능.\n",
    "* 하지만 신경망 알고리즘 사용 추천"
   ]
  }
 ],
 "metadata": {
  "celltoolbar": "Slideshow",
  "colab": {
   "collapsed_sections": [],
   "name": "핸즈온머신러닝_5장.ipynb",
   "provenance": []
  },
  "kernelspec": {
   "display_name": "Python 3",
   "language": "python",
   "name": "python3"
  },
  "language_info": {
   "codemirror_mode": {
    "name": "ipython",
    "version": 3
   },
   "file_extension": ".py",
   "mimetype": "text/x-python",
   "name": "python",
   "nbconvert_exporter": "python",
   "pygments_lexer": "ipython3",
   "version": "3.8.3"
  }
 },
 "nbformat": 4,
 "nbformat_minor": 1
}
