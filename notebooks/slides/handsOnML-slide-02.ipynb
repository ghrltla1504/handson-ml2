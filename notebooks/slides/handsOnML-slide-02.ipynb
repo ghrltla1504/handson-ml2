{
 "cells": [
  {
   "cell_type": "markdown",
   "metadata": {
    "colab_type": "text",
    "id": "thQWHShjWsXN"
   },
   "source": [
    "# 2장 머신러닝 프로젝트 처음부터 끝까지"
   ]
  },
  {
   "cell_type": "markdown",
   "metadata": {},
   "source": [
    "* 주택 가격을 예측하는 회귀 작업을 살펴보면서 선형 회귀, 결정 트리, 랜덤 포레스트 등 여러 알고리즘 학습"
   ]
  },
  {
   "cell_type": "markdown",
   "metadata": {},
   "source": [
    "<div align=\"center\"><img src=\"images/homl02-01d.png\" width=\"600\"></div>"
   ]
  },
  {
   "cell_type": "markdown",
   "metadata": {
    "colab_type": "text",
    "id": "qwdlFWhDYRaQ"
   },
   "source": [
    "## 2.1 실제 데이터로 작업하기"
   ]
  },
  {
   "cell_type": "markdown",
   "metadata": {},
   "source": [
    "* 유명한 공개 데이터 저장소\n",
    "    * UC 얼바인Irvine 머신러닝 저장소(http://archive.ics.uci.edu/ml)\n",
    "    * 캐글Kaggle 데이터셋(http://www.kaggle.com/datasets)\n",
    "    * 아마존 AWS 데이터셋(https://registry.opendata.aws)\n",
    "* 메타 포털(공개 데이터 저장소가 나열)\n",
    "    * 데이터 포털Data Portals(http://dataportals.org)\n",
    "    * 오픈 데이터 모니터Open Data Monitor(http://opendatamonitor.eu)\n",
    "    * 퀀들Quandl(http://quandl.com)\n",
    "* 인기 있는 공개 데이터 저장소가 나열되어 있는 다른 페이지\n",
    "    * 위키백과 머신러닝 데이터셋 목록(https://goo.gl/SJHN2k)\n",
    "    * Quora.com(https://homl.info/10)\n",
    "    * 데이터셋 서브레딧subreddit(http://www.reddit.com/r/datasets)"
   ]
  },
  {
   "cell_type": "markdown",
   "metadata": {
    "colab_type": "text",
    "id": "qwdlFWhDYRaQ"
   },
   "source": [
    "## 2.2 큰 그림 보기"
   ]
  },
  {
   "cell_type": "markdown",
   "metadata": {},
   "source": [
    "* 실제 데이터로 작업하는 예제 따라하기\n",
    "* 주어진 데이터: 미국 캘리포니아 인구조사 데이터\n",
    "    * 특성: 구역(block)별 인구, 중간 소득, 경도, 위도 등\n",
    "    * 레이블: 중간 주택 가격\n",
    "* 목표: 캘리포니아 주택가격 모델 구현"
   ]
  },
  {
   "cell_type": "markdown",
   "metadata": {},
   "source": [
    "### 문제 정의"
   ]
  },
  {
   "cell_type": "markdown",
   "metadata": {
    "colab_type": "text",
    "id": "qwdlFWhDYRaQ"
   },
   "source": [
    "* 지도 학습(supervised learning): 조사된 주택 가격 레이블을 활용한 훈련\n",
    "* 회귀(regression): 중간 주택 가격 예측\n",
    "  * 다중 회귀(multiple regression): 여러 특성을 활용한 예측\n",
    "  * 단변량 회귀(univariate regression): 구역마다 하나의 가격만 예측\n",
    "* 배치 학습(batch learning): 빠르게 변하는 데이터에 적응할 필요가 없음"
   ]
  },
  {
   "cell_type": "markdown",
   "metadata": {},
   "source": [
    "<p>\n",
    "<table cellspacing=\"20\">\n",
    "<tr>\n",
    "<td>\n",
    "<img src=\"images/homl02-02.png\">\n",
    "</td>\n",
    "<td>\n",
    "<img src=\"images/homl02-03.jpg\">\n",
    "</td>\n",
    "</tr>\n",
    "</table>\n",
    "</p>"
   ]
  },
  {
   "cell_type": "markdown",
   "metadata": {
    "colab_type": "text",
    "id": "m6O1AFGjZUa6"
   },
   "source": [
    "## 2.3 데이터 구하기"
   ]
  },
  {
   "cell_type": "markdown",
   "metadata": {},
   "source": [
    "### 작업환경 만들기\n",
    "\n",
    "* 추천: 구글 코랩, mybinder, Deepnote, Docker 등 활용\n",
    "* 직접 개발환경 설정하기는 교재 2.3.1절 참조"
   ]
  },
  {
   "cell_type": "markdown",
   "metadata": {},
   "source": [
    "### 데이터 다운로드\n",
    "\n",
    "* StaLib 저장소에 있는 데이터 활용\n",
    "* 저자가 교육 목적으로 범주형 특성 추가 및 몇 개 특성 제외\n",
    "* 저자가 지정한 곳으로부터 파이썬 함수를 이용하여 직접 다운로드 가능. 교재 및 주피터 노트북 참조."
   ]
  },
  {
   "cell_type": "markdown",
   "metadata": {},
   "source": [
    "### 데이터 구조 훑어보기"
   ]
  },
  {
   "cell_type": "markdown",
   "metadata": {
    "colab_type": "text",
    "id": "s_h3CHk2auLP"
   },
   "source": [
    "#### pandas의 데이터프레임 활용\n",
    "\n",
    "* `head()`, `info()`, `describe()`, `hist()` 등을 사용하여 데이터 구조 훑어보기"
   ]
  },
  {
   "cell_type": "markdown",
   "metadata": {},
   "source": [
    "#### `head()` 메서드 활용 결과"
   ]
  },
  {
   "cell_type": "markdown",
   "metadata": {},
   "source": [
    "<div align=\"center\"><img src=\"images/homl02-05.png\" width=\"600\"></div>"
   ]
  },
  {
   "cell_type": "markdown",
   "metadata": {},
   "source": [
    "#### `info()` 메서드 활용 결과\n",
    "\n",
    "1. 총 **샘플링 개수**: 20,640\n",
    "    * 캘리포니아를 20,640구역으로 나위어 조사한 인구조사\n",
    "    * 구역 크기:8 600 ~ 3,000명\n",
    "2. 구역별로 경도, 위도, 중간 주택 연도, 해안 근접도 등 총 10개의 조사 항목\n",
    "3. '해안 근접도'는 범주형 데이터이고 나머지는 수치형 데이터.\n",
    "4. '방의 총 개수'의 경우 누락된 데이터인 207개의 null 값 존재"
   ]
  },
  {
   "cell_type": "markdown",
   "metadata": {
    "colab_type": "text",
    "id": "89eR3tIyeWAh"
   },
   "source": [
    "#### 범주형 데이터 탐색\n",
    "\n",
    "* '해안 근접도'는 5개의 범주로 구분\n",
    "    * <1H OCEAN**: 해안에서 1시간 이내\n",
    "    * INLAND: 내륙\n",
    "    * NEAR OCEAN: 해안 근처\n",
    "    * NEAR BAY: Bay Area라 불리는 샌프란시스코 도시 중심 지역\n",
    "    * ISLAND: 섬  "
   ]
  },
  {
   "cell_type": "markdown",
   "metadata": {},
   "source": [
    "### 테스트 세트 만들기"
   ]
  },
  {
   "cell_type": "markdown",
   "metadata": {
    "colab_type": "text",
    "id": "zLanZHeniLbF"
   },
   "source": [
    "* 모델 학습 시작 전 준비된 데이터 셋을 훈련 셋과 테스트 셋으로 나누어야 함\n",
    "\n",
    "* 테스트 세트에 포함된 데이터는 미리 분석하지 말 것.\n",
    "  * 미리 분석 시 **데이터 스누핑 편향**을 범할 가능성이 높아짐\n",
    "  * 미리 보면서 알아낸 직관이 학습 모델 설정에 영향을 미칠 수 있음 \n",
    "  * 테스트 세트 크기: 전체 데이터 셋의 20%\n",
    "\n",
    "* 훈련 셋과 데이터 셋을 구분하는 방식에 따라 결과가 조금씩 달라짐 \n",
    "    * 무작위 샘플링 vs. 계층적 샘플링\n",
    "\n",
    "* 여기서는 계층적 샘플링을 사용해 훈련 세트와 테스트 세트를 분류하여 모델 학습에 사용"
   ]
  },
  {
   "cell_type": "markdown",
   "metadata": {
    "colab_type": "text",
    "id": "MAdy7ViRn95b"
   },
   "source": [
    "#### 계층적 샘플링\n",
    "\n",
    "* 계층: 동질 그룹\n",
    "\n",
    "* 테스트 세트 전체 계층을 대표하도록 각 계층별로 적절하게 샘플을 추출해야함\n",
    "  * 계층 기준 예제: 소득\n",
    "\n",
    "* 소득의 범주를 지정해야 하며, 각 계층별로 충분한 크기의 샘플이 포함되어야함\n",
    "  * 학습 과정에서 편향이 발생하지 않도록 하기 위해\n",
    "  * 특정 소득 구간에 포함된 샘플이 과하게 적거나 많으면 해당 계층의 중요도가 과대 혹은 과소 평가될 것"
   ]
  },
  {
   "cell_type": "markdown",
   "metadata": {
    "colab_type": "text",
    "id": "WHN6FOXGpFME"
   },
   "source": [
    "* 전체 데이터셋의 중간 소득 히스토그램 확인"
   ]
  },
  {
   "cell_type": "markdown",
   "metadata": {},
   "source": [
    "<div align=\"center\"><img src=\"images/homl02-08.png\" width=\"500\"></div>"
   ]
  },
  {
   "cell_type": "markdown",
   "metadata": {
    "colab_type": "text",
    "id": "twFkV-27pQDD"
   },
   "source": [
    "* 대부분 구역의 중간 소득이 **1.5~6.0**(15,000~60,000$) 사이\n",
    "\n",
    "* 소득 구간을 아래 숫자를 기준으로 5개로 구분\n",
    "\n",
    "    ```\n",
    "    [0, 1.5, 3.0, 4.6, 6.0, np,inf]\n",
    "    ```"
   ]
  },
  {
   "cell_type": "markdown",
   "metadata": {},
   "source": [
    "#### 계층 샘플링과 무작위 샘플링 비교"
   ]
  },
  {
   "cell_type": "markdown",
   "metadata": {},
   "source": [
    "<div align=\"center\"><img src=\"images/homl02-07.png\" width=\"500\"></div>"
   ]
  },
  {
   "cell_type": "markdown",
   "metadata": {
    "colab_type": "text",
    "id": "0pNv1s-Fte3j"
   },
   "source": [
    "## 2.4 데이터 이해를 위한 탐색과 시각화"
   ]
  },
  {
   "cell_type": "markdown",
   "metadata": {
    "colab_type": "text",
    "id": "0pNv1s-Fte3j"
   },
   "source": [
    "* 테스트 세트를 제외한 훈련 세트에 대해서만 시각화를 이용하여 탐색"
   ]
  },
  {
   "cell_type": "markdown",
   "metadata": {
    "colab_type": "text",
    "id": "fzqr7BiZubTI"
   },
   "source": [
    "### 지리적 데이터 시각화"
   ]
  },
  {
   "cell_type": "markdown",
   "metadata": {
    "colab_type": "text",
    "id": "H5_DZPtpvBzP"
   },
   "source": [
    "* 구역이 집결된 지역과 그렇지 않은 지역의 구분을 명확하게 표현할 수 있음.\n",
    "\n",
    "* 샌프란시스코의 베이 에어리어, LA, 샌디에고 등 밀집된 지역 확인 가능"
   ]
  },
  {
   "cell_type": "markdown",
   "metadata": {},
   "source": [
    "<div align=\"center\"><img src=\"images/homl02-09.png\" width=\"500\"></div>"
   ]
  },
  {
   "cell_type": "markdown",
   "metadata": {
    "colab_type": "text",
    "id": "oWFcBTK1wYR8"
   },
   "source": [
    "* 주택 가격이 해안 근접도, 인구 밀도와 관련이 큼\n",
    "* 해안 근접도: 위치에 따라 다르게 작용\n",
    "  * 대도시 근처: 해안 근처 주택 가격이 상대적 높음\n",
    "  * 북부 캘리포니아 지역: 높지 않음"
   ]
  },
  {
   "cell_type": "markdown",
   "metadata": {},
   "source": [
    "<div align=\"center\"><img src=\"images/homl02-11.png\" width=\"500\"></div>"
   ]
  },
  {
   "cell_type": "markdown",
   "metadata": {
    "colab_type": "text",
    "id": "SJQ5zEF15bPF"
   },
   "source": [
    "### 상관관계 조사"
   ]
  },
  {
   "cell_type": "markdown",
   "metadata": {
    "colab_type": "text",
    "id": "SJQ5zEF15bPF"
   },
   "source": [
    "* 중간 주택 가격 특성과 다른 특성 사이의 상관관계: 상관계수 활용"
   ]
  },
  {
   "cell_type": "markdown",
   "metadata": {},
   "source": [
    "<div align=\"center\"><img src=\"images/homl02-12.png\" width=\"600\"></div>"
   ]
  },
  {
   "cell_type": "markdown",
   "metadata": {
    "colab_type": "text",
    "id": "kfkSawGw5-PI"
   },
   "source": [
    "#### 상관계수의 특징\n",
    "\n",
    "* 상관계수: $[-1, 1]$ 구간의 값\n",
    "* 1에 가까울 수록: 강한 양의 선형 상관관계\n",
    "* -1에 가까울 수록: 강한 음의 선형 상관관계\n",
    "* 0에 가까울 수록: 매우 약한 선형 상관관계"
   ]
  },
  {
   "cell_type": "markdown",
   "metadata": {},
   "source": [
    "<div align=\"center\"><img src=\"images/homl02-14.png\" width=\"500\"></div>"
   ]
  },
  {
   "cell_type": "markdown",
   "metadata": {
    "colab_type": "text",
    "id": "9eWuYEE46kjc"
   },
   "source": [
    "#### 주의사항\n",
    "* 상관계수가 0에 가까울 때: 선형 관계가 거의 없다는 의미이지, 아무런 관계가 없다는 의미는 아님\n",
    "* 상관계수는 기울기와 아무 연관 없음"
   ]
  },
  {
   "cell_type": "markdown",
   "metadata": {
    "colab_type": "text",
    "id": "kfkSawGw5-PI"
   },
   "source": [
    "#### 상관계수를 통해 확인할 수 있는 정보\n",
    "\n",
    "* 중간 주택 가격과 중간 소득의 상관계수가 0.68로 가장 높음\n",
    "    * 중간 소득이 올라가면 중간 주택 가격도 상승하는 경향이 있음\n",
    "\n",
    "* 산점도 활용\n",
    "    * 점들이 너무 넓게 퍼져 있음. 완벽한 선형관계와 거리 멂.\n",
    "    * 50만 달러 수평선: 가격 제한\n",
    "        * 35만, 28만, 그 아래 정도에서도 수평선 존재\n",
    "        * 이상한 형태를 학습하지 않도록 해당 구역을 제거하는 것이 좋음."
   ]
  },
  {
   "cell_type": "markdown",
   "metadata": {},
   "source": [
    "<div align=\"center\"><img src=\"images/homl02-13.png\" width=\"500\"></div>"
   ]
  },
  {
   "cell_type": "markdown",
   "metadata": {
    "colab_type": "text",
    "id": "mgRfhpKT8sD_"
   },
   "source": [
    "### 특성 조합 실험\n",
    "\n",
    "* 구역별 방의 총 개수와 침실의 총 개수 대신 아래 특성이 보다 유용함\n",
    "    * '가구당 방 수'(rooms for household)\n",
    "    * '방 하나당 침실 수'(bedrooms for room)\n",
    "    * '가구당 인원'(population per household)"
   ]
  },
  {
   "cell_type": "markdown",
   "metadata": {
    "colab_type": "text",
    "id": "rwfilFmG9TBn"
   },
   "source": [
    "* 특성별 상관계수 다시 확인\n",
    "  * 중간 주택 가격과 방 하나당 침실 개수: -0.26\n",
    "  * 방 하나당 침실 개수가 적을 수록 주택 가격이 상승하는 경향이 있음\n",
    "   "
   ]
  },
  {
   "cell_type": "markdown",
   "metadata": {},
   "source": [
    "## 2.5 머신러닝 알고리즘을 위한 데이터 준비"
   ]
  },
  {
   "cell_type": "markdown",
   "metadata": {
    "colab_type": "text",
    "id": "6YLe2AOC9t6i"
   },
   "source": [
    "### 데이터 전치리와 변환 파이프라인"
   ]
  },
  {
   "cell_type": "markdown",
   "metadata": {
    "colab_type": "text",
    "id": "5o4PEgxH-Ili"
   },
   "source": [
    "* 데이터 전처리(data preprocessing): 모델 학습을 효율적으로 진행하기 위해 주어진 데이터를 변환시키는 것\n",
    "*  수치형 데이터와 범주형 데이터에 대해 다른 변환과정을 사용\n",
    "* 수치형 데이터 전처리 과정\n",
    "  * 데이터 정제\n",
    "  * 조합 특성 추가\n",
    "  * 특성 스케일링\n",
    "* 범주형 데이터 전처리 과정\n",
    "  * 원-핫-인코딩(one-hot-encoding)\n",
    "\n",
    "* 수치형 데이터 전처리 과정에 사용된 세 가지 변환과정은 파이프라인을 이용하여 자동화\n",
    "* 이후 원-핫-인코딩 변화과정으로 변환된 범주형 데이터와 결합하면서 전처리 과정이 완료됨"
   ]
  },
  {
   "cell_type": "markdown",
   "metadata": {
    "colab_type": "text",
    "id": "a2qn8NG0-sze"
   },
   "source": [
    "### 사이킷런 API 활용"
   ]
  },
  {
   "cell_type": "markdown",
   "metadata": {
    "colab_type": "text",
    "id": "a2qn8NG0-sze"
   },
   "source": [
    "* 변환과정 중에서 '조합 특성 추가' 과정을 제외한 나머지 과정은 사이킷런에서 제공하는 관련 API를 활용\n",
    "* '조합 특성 추가' 과정도 다른 사이킷런 API와 호환이 되는 방식으로 사용자가 직접 구현하는 방법을 설명\n",
    "\n",
    "* 사이킷런에서 제공하는 API는 일관되고 단순한 인터페이스를 제공\n",
    "* 이 성질을 이용하여 '조합 특성 추가' 과정을 지원하는 API를 구현하면 사이킷런의 다른 API와 자동으로 호환"
   ]
  },
  {
   "cell_type": "markdown",
   "metadata": {
    "colab_type": "text",
    "id": "hOUq-E_U_gFh"
   },
   "source": [
    "#### 일관성"
   ]
  },
  {
   "cell_type": "markdown",
   "metadata": {
    "colab_type": "text",
    "id": "hOUq-E_U_gFh"
   },
   "source": [
    "* 모든 사이킷런의 API는 일관되고 단순한 인터페이스를 제공\n",
    "* 대표적인 API는 세 가지\n",
    "  * 추정기(estimator)\n",
    "    * 데이터셋을 기반으로 특정 모델 파라미터들을 추정하는 클래스의 객체이며, fit() 메서드가 이 기능을 수행\n",
    "    * fit()메서드의 리턴값: 생성된 모델 파라미터를 인스턴스 속성으로 갖는 self\n",
    "      * 특정 속성이 업데이트된 객체 자신이 리턴값\n",
    "  * 변환기(transformer):\n",
    "    * 데이터셋을 변환하는 추정기이며, transform()이 이 기능을 수행\n",
    "      * 변환기는 fit()과 transform() 모두 포함되어 있어야 함\n",
    "    * fit() 메서드에 의해 학습된 파라미터를 이용하여 데이터셋을 변환한다.\n",
    "    * 모든 변화기는 fit() 메서드와 transform() 메서드를 연속해서 호출하는 fit_transform() 메서드를 함께 제공\n",
    "  * 예측기(predictor): 데이터셋의 특정 특성에 대한 예측을 하는 추정기\n",
    "    * 주어진 데이터셋과 관련된 값을 예측하는 기능을 제공하는 추정기이며, predict() 메서드가 이 기능을 수행\n",
    "      * fit()과 predict() 메서드가 포함되어 있어야 함\n",
    "    * predict() 메서드가 추정한 값의 성능을 측정하는 score() 메서드도 포함\n",
    "    * 일부 예측기는 추정치의 신뢰도를 평가하는 기능도 제공"
   ]
  },
  {
   "cell_type": "markdown",
   "metadata": {
    "colab_type": "text",
    "id": "tR-dt08Z7-Kf"
   },
   "source": [
    "### 수치형 데이터 전치러 과정 1: 데이터 정제\n",
    "* 누락된 특성값이 있으면 해당 값 또는 특성을 먼저 처리하고 모델 학습을 진행\n",
    "\n",
    "* `total_bedrooms` 특성에 207개 구역에 대한 값이 null로 채워져 있음, 즉, 일부 구역에 대한 정보가 누락됨."
   ]
  },
  {
   "cell_type": "markdown",
   "metadata": {
    "colab_type": "text",
    "id": "C03wVWDj8suH"
   },
   "source": [
    "* null 값 처리 방법\n",
    "  * 해당 구역 제거\n",
    "  * 전체 특성 삭제\n",
    "  * 특정 값으로 채우기\n",
    "    * 0, 평균값, 중앙값 등\n",
    "    * 책에서는 중앙값으로 채움."
   ]
  },
  {
   "cell_type": "markdown",
   "metadata": {
    "colab_type": "text",
    "id": "txtgeSRw_FzC"
   },
   "source": [
    "### 텍스트와 범주형 특성 다루기: 원-핫 인코딩"
   ]
  },
  {
   "cell_type": "markdown",
   "metadata": {
    "colab_type": "text",
    "id": "kVDCwdKe_Nuz"
   },
   "source": [
    "* 범주형 입력 특성인 해안 근접도(ocean_proximity)를 수치형 데이터로 변환"
   ]
  },
  {
   "cell_type": "markdown",
   "metadata": {},
   "source": [
    "<div align=\"center\"><img src=\"images/homl02-15.png\" width=\"600\"></div>"
   ]
  },
  {
   "cell_type": "markdown",
   "metadata": {
    "colab_type": "text",
    "id": "aG3S2IZbAAIm"
   },
   "source": [
    "#### 단순 수치화의 문제점\n",
    "  * 해안 근접도는 단순히 구분을 위해 사용\n",
    "  * 해안에 근접하고 있다 해서 주택 가격이 기본적으로 더 비싼 것은 아니라는 의미\n",
    "  * 반면에 수치화된 값들은 크기를 비교할 수 있는 숫자\n",
    "  * 따라서 모델 학습 과정에서 숫자들의 크기 때문에 잘못된 학습이 이루어질 수 있다."
   ]
  },
  {
   "cell_type": "markdown",
   "metadata": {
    "colab_type": "text",
    "id": "4M-BUMQJATPs"
   },
   "source": [
    "#### 원-핫 인코딩(one-hot encoding)\n",
    "\n",
    "* 수치화된 범주들 사이의 크기 비교를 피하기 위해 더미(dummy) 특성을 추가하여 활용\n",
    "* 생성되는 더미 특성은 사용된 범주를 사용\n",
    "\n",
    "* 예를 들어, 해안 근접도 특성 대신에 다섯 개의 범주 전부를 새로운 특성으로 추가 -> 각각의 특성값을 아래와 같이 정함\n",
    "  * 해당 카테고리의 특성값: 1\n",
    "  * 나머지 카테고리의 특성값: 0"
   ]
  },
  {
   "cell_type": "markdown",
   "metadata": {},
   "source": [
    "<div align=\"center\"><img src=\"images/homl02-16.png\" width=\"600\"></div>"
   ]
  },
  {
   "cell_type": "markdown",
   "metadata": {
    "colab_type": "text",
    "id": "3FObJHRyB-98"
   },
   "source": [
    "### 수치형 데이터 전처리 과정 2: 조합 특성 추가\n",
    "\n",
    "* 특성 추가를 위해 변환기 클래스를 __직접 정의__\n",
    "* 앞서 살펴본 다음 세 가지 특성을 자동으로 추가하는 변환기 클래스를 정의\n",
    "  * 가구당 방 개수(rooms for household)\n",
    "  * 방 하나당 침실 개수(bedrooms for room)\n",
    "  * 가구당 인원(population per household)\n",
    "\n",
    "* 변환기 클래스를 선언하기 위해서는 fit() 메서드와 transform() 메서드만 정의하면 됨\n",
    "\n",
    "* 주의: fit() 메서드의 리턴값은 self"
   ]
  },
  {
   "cell_type": "markdown",
   "metadata": {
    "colab_type": "text",
    "id": "cSZdCtcOC7Ou"
   },
   "source": [
    "#### CombinedAttributesAdder 변환기 클래스 선언\n",
    "* **__init__() 메서드**: 방 하나당 침실 개수 속성을 추가할지 여부를 확인\n",
    "* **fit() 메서드**: 계산해야 하는 파라미터가 없음\n",
    "  * 아무 일도 할 필요 없이 **바로 self를 리턴**\n",
    "* **transform() 메서드**: 넘파이 어레이를 입력받아 **속성을 추가한 어레이**를 반환"
   ]
  },
  {
   "cell_type": "markdown",
   "metadata": {
    "colab": {},
    "colab_type": "code",
    "id": "RuxyfKv6BxV7"
   },
   "source": [
    "```python\n",
    "class CombinedAttributesAdder(BaseEstimator, TransformerMixin):\n",
    "    def __init__(self, add_bedrooms_per_room = True):\n",
    "        ...\n",
    "\n",
    "    def fit(self, X, y=None):\n",
    "        return self\n",
    "\n",
    "    def transform(self, X):\n",
    "        ...\n",
    "```"
   ]
  },
  {
   "cell_type": "markdown",
   "metadata": {
    "colab_type": "text",
    "id": "wdVX2n-KD5-D"
   },
   "source": [
    "### 수치형 데이터 전처리 과정 3: 특성 스케일링\n",
    "\n",
    "* 머신러닝 알고리즘은 입력 데이터셋의 특성값들의 스케일(범위)이 다르면 제대로 작동하지 않음\n",
    "* 특성에 따라 다루는 숫자의 크기가 다를 때 통일된 스케일링이 필요\n",
    "* __주의__: 타깃(레이블)에 대한 스케일링은 하지 않음"
   ]
  },
  {
   "cell_type": "markdown",
   "metadata": {
    "colab_type": "text",
    "id": "mvfRl6nCEZNz"
   },
   "source": [
    "#### **min-max 스케일링**\n",
    "* **정규화**(normalization)라고도 불림\n",
    "\n",
    "* 특성값 $x$를 **$\\frac{x-min}{max-min}$**로 변환\n",
    "\n",
    "* 변환 결과: **0에서 1** 사이\n",
    "* 이상치에 매우 민감\n",
    "  * 이상치가 매우 **크면 분모가 매우 커져서** 변환된 값이 **0 근처**에 몰림"
   ]
  },
  {
   "cell_type": "markdown",
   "metadata": {
    "colab_type": "text",
    "id": "pPknbi7wFB2M"
   },
   "source": [
    "#### **표준화(standardization)**\n",
    "* 특성값 $x$ 를 **$\\frac{x-\\mu}{\\sigma}$**로 변환\n",
    "  * $\\mu$: 특성값들의 **평균**값\n",
    "  * $\\sigma$: 특성값들의 **표준편차**\n",
    "\n",
    "* 결과: 변환된 데이터들이 **표준정규분포**를 이룸\n",
    "  * 이상치에 상대적으로 영향을 덜 받음."
   ]
  },
  {
   "cell_type": "markdown",
   "metadata": {
    "colab_type": "text",
    "id": "INKZNHOuFqGR"
   },
   "source": [
    "#### 주의사항\n",
    "\n",
    "* 모든 변환기의 fit() 메서드는 훈련 데이터에 대해서만 적용\n",
    "* transform() 메서드는 모든 데이터에 대해 적용 \n",
    "  * 훈련 세트를 이용하여 필요한 파라미터를 확인한 후 그 값들을 이용하여 전체 데이터셋트를 변환\n",
    "  * 예를 들어, 따로 떼어놓은 테스트 데이터들은 훈련 데이터를 이용하여 확인된 값들을 이용하여 특성 스케일링을 진행"
   ]
  },
  {
   "cell_type": "markdown",
   "metadata": {
    "colab_type": "text",
    "id": "mJTDmsZWGS06"
   },
   "source": [
    "### 변환 파이프라인\n",
    "\n",
    "* 모든 전처리 단계를 정확한 순서대로 연속적으로 진행되어야 함\n",
    "* 사이킷런의 Pipeline 클래스가 이 기능을 지원\n",
    "\n",
    "* 수치형 데이터 전처리 과정을 파이프라인으로 묶은 방법"
   ]
  },
  {
   "cell_type": "markdown",
   "metadata": {},
   "source": [
    "#### `pipeline` 클래스 활용"
   ]
  },
  {
   "cell_type": "markdown",
   "metadata": {
    "colab": {},
    "colab_type": "code",
    "id": "1xhKkUW8D2Xi"
   },
   "source": [
    "```python\n",
    "num_pipeline = Pipeline([\n",
    "        ('imputer', SimpleImputer(strategy=\"median\")),\n",
    "        ('attribs_adder', CombinedAttributesAdder()),\n",
    "        ('std_scaler', StandardScaler()),\n",
    "    ])\n",
    "```"
   ]
  },
  {
   "cell_type": "markdown",
   "metadata": {
    "colab_type": "text",
    "id": "xmTxjvpEHHB1"
   },
   "source": [
    "* Pipeline의 인스턴스 생성에 필요한 인자는 추정기의 이름과 추정기의 쌍으로 이루어진 튜플들의 리스트\n",
    "* 마지막 추정기를 제외하면 모두 변환기 즉, fit_transform() 메서드를 포함하고 있어야 함\n",
    "\n",
    "* 생성된 파이프라인 객체의 fit() 메서드를 호출하면, 마지막 단계 이전까지는 해당 변환기의 fit_transform() 메소드가 연속해서 호출되며, 최종적으로 마지막 추정기의 fit() 메서드가 호출"
   ]
  },
  {
   "cell_type": "markdown",
   "metadata": {
    "colab_type": "text",
    "id": "ie47k23QIAU-"
   },
   "source": [
    "#### ColumnTransformer 클래스\n",
    "\n",
    "* 사이킷런의 `ColumnTransformer` 클래스를 이용하여 특성별로 지정된 전처리를 처리할 수 있도록 지정 가능\n",
    "\n",
    "    * 수치형 특성: `num_pipeline` 변환기\n",
    "    * 범주형 특성: `OneHotEncoder` 변환기"
   ]
  },
  {
   "cell_type": "markdown",
   "metadata": {
    "colab": {},
    "colab_type": "code",
    "id": "L_kO0ditH8-D"
   },
   "source": [
    "```python\n",
    "full_pipeline = ColumnTransformer([\n",
    "        (\"num\", num_pipeline, num_attribs),\n",
    "        (\"cat\", OneHotEncoder(), cat_attribs),\n",
    "    ])\n",
    "\n",
    "housing_prepared = full_pipeline.fit_transform(housing)\n",
    "```"
   ]
  },
  {
   "cell_type": "markdown",
   "metadata": {
    "colab_type": "text",
    "id": "QbFHKNvDMVvD"
   },
   "source": [
    "## 2.6 모델 선택과 훈련"
   ]
  },
  {
   "cell_type": "markdown",
   "metadata": {
    "colab_type": "text",
    "id": "QbFHKNvDMVvD"
   },
   "source": [
    "* 전처리 후 두 요소를 결정해야함\n",
    "  * 학습 모델\n",
    "  * 회귀 모델 성능 측정 지표\n",
    "\n",
    "* 목표: 구역별 중간 주택 가격 예측 모델\n",
    "* 학습 모델: 회귀 모델\n",
    "* 회귀 모델 성능 측정 지표: 평균 제곱근 오차(RMSE)"
   ]
  },
  {
   "cell_type": "markdown",
   "metadata": {
    "colab_type": "text",
    "id": "U1A-tAM3MuB8"
   },
   "source": [
    "### 회귀 모델 성능 측정 지표"
   ]
  },
  {
   "cell_type": "markdown",
   "metadata": {
    "colab_type": "text",
    "id": "U1A-tAM3MuB8"
   },
   "source": [
    "#### 평균 제곱근 오차(root mean square error, RMSE): "
   ]
  },
  {
   "cell_type": "markdown",
   "metadata": {
    "colab_type": "text",
    "id": "U1A-tAM3MuB8"
   },
   "source": [
    "* RMSE는 유클리디안 노름 또는 $\\ell_2$ 노름으로도 불림\n",
    "\n",
    "$$\n",
    "\\text{RMSE}(\\mathbf X, h) \n",
    "= \\sqrt{\\frac 1 m \\sum_{i=0}^{m-1} (h(\\mathbf x^{(i)}) - y^{(i)})^2}\n",
    "$$\n",
    "\n",
    "* $\\mathbf X$: (평가대상) 데이터셋 전체 샘플들의 특성값들로 구성된 행렬, 레이블(타겟) 제외\n",
    "    * $m$: 데이터셋 $\\mathbf X$의 크기\n",
    "    * $\\mathbf x^{(i)}$: $i$ 번째 샘플의 전체 특성값 벡터. 레이블(타겟) 제외\n",
    "    * $y^{(i)}$: $i$ 번째 샘플의 레이블\n",
    "    * $h$: 예측 함수\n",
    "    * $\\hat y^{(i)} = h(\\mathbf x^{(i)})$: $i$번째 샘플에 대한 예측 값\n",
    "\n",
    "* __주의__\n",
    "    * 인덱스 $i$가 책에서와는 달리 0부터 시작함.\n",
    "    * 이유는 파이썬 넘파이 어레이, 데이터프레임에 사용되는 인덱스 개념과 통일시키기 위해서임."
   ]
  },
  {
   "cell_type": "markdown",
   "metadata": {
    "colab_type": "text",
    "id": "U1A-tAM3MuB8"
   },
   "source": [
    "#### 평균 절대 오차(mean absolute error, MAE): "
   ]
  },
  {
   "cell_type": "markdown",
   "metadata": {
    "colab_type": "text",
    "id": "U1A-tAM3MuB8"
   },
   "source": [
    "* MAE는 맨해튼 노름 또는 $\\ell_1$ 노름으로도 불림\n",
    "\n",
    "* 이상치가 많은 경우 활용\n",
    "\n",
    "$$\n",
    "\\text{MAE}(\\mathbf X, h) \n",
    "= \\frac 1 m \\sum_{i=0}^{m-1} \\mid h(\\mathbf x^{(i)}) - y^{(i)} \\mid\n",
    "$$"
   ]
  },
  {
   "cell_type": "markdown",
   "metadata": {},
   "source": [
    "### 훈련 세트에서 훈련하고 평가하기"
   ]
  },
  {
   "cell_type": "markdown",
   "metadata": {},
   "source": [
    "* 지금까지 한 일\n",
    "    * 훈련 세트와 테스트 세트로 분류\n",
    "    * 머신러닝 알고리즘에 주입할 데이터를 자동으로 정제하고 준비하기 위해 변환 파이프라인 작성\n",
    "* 이제 할 일\n",
    "    * 모델 선택 후 훈련시키기\n",
    "    * 예제: 선형 회귀, 결정트리 회귀"
   ]
  },
  {
   "cell_type": "markdown",
   "metadata": {
    "colab_type": "text",
    "id": "rcUgKOFKNvYL"
   },
   "source": [
    "#### 선형 회귀 모델(4장)\n",
    "\n",
    "* 사이킷런의 선형 회귀 모델은 **`LinearRegression`** 예측기 클래스가 제공\n",
    "\n",
    "* 훈련:"
   ]
  },
  {
   "cell_type": "markdown",
   "metadata": {
    "colab": {},
    "colab_type": "code",
    "id": "x8H2iLVEMPFq"
   },
   "source": [
    "```python\n",
    "from sklearn.linear_model import LinearRegression\n",
    "\n",
    "lin_reg = LinearRegression()\n",
    "lin_reg.fit(housing_prepared, housing_labels)\n",
    "```"
   ]
  },
  {
   "cell_type": "markdown",
   "metadata": {},
   "source": [
    "* 예측"
   ]
  },
  {
   "cell_type": "markdown",
   "metadata": {
    "colab": {},
    "colab_type": "code",
    "id": "x8H2iLVEMPFq"
   },
   "source": [
    "```python\n",
    "lin_reg.predict(housing_prepared))\n",
    "```"
   ]
  },
  {
   "cell_type": "markdown",
   "metadata": {
    "colab_type": "text",
    "id": "FUGT-mPmPfE3"
   },
   "source": [
    "#### 결정트리 회귀 모델(6장)\n",
    "\n",
    "* 결정 트리 모델은 데이터에서 복잡한 비선형 관계를 학습할 때 사용\n",
    "* 사이킷런의 **`DecisionTreeRegressor`** 예측기가 결정 트리 회귀 모델을 생성\n",
    "\n",
    "* 훈련:"
   ]
  },
  {
   "cell_type": "markdown",
   "metadata": {
    "colab": {},
    "colab_type": "code",
    "id": "1Fqd77-PO-Fl"
   },
   "source": [
    "```python\n",
    "from sklearn.tree import DecisionTreeRegressor\n",
    "\n",
    "tree_reg = DecisionTreeRegressor(random_state=42)\n",
    "tree_reg.fit(housing_prepared, housing_labels)\n",
    "```"
   ]
  },
  {
   "cell_type": "markdown",
   "metadata": {
    "colab_type": "text",
    "id": "8qQTHsUeP6sd"
   },
   "source": [
    "* 예측:"
   ]
  },
  {
   "cell_type": "markdown",
   "metadata": {
    "colab": {
     "base_uri": "https://localhost:8080/",
     "height": 34
    },
    "colab_type": "code",
    "id": "P5hrY-EgP35d",
    "outputId": "18597cae-7ceb-4e9d-a441-f6b49c04917d"
   },
   "source": [
    "```python\n",
    "housing_predictions = tree_reg.predict(housing_prepared)\n",
    "```"
   ]
  },
  {
   "cell_type": "markdown",
   "metadata": {},
   "source": [
    "### 교차 검증을 사용한 평가"
   ]
  },
  {
   "cell_type": "markdown",
   "metadata": {},
   "source": [
    "#### k-겹 교차 검증"
   ]
  },
  {
   "cell_type": "markdown",
   "metadata": {
    "colab_type": "text",
    "id": "J_8ieC0pRNL5"
   },
   "source": [
    "* 훈련 세트를 __폴드__(fold)라 불리는 k-개의 부분 집합으로 무작위로 분할\n",
    "* 총 k 번 지정된 모델을 훈련\n",
    "    * 훈련할 때마다 매번 다른 하나의 폴드를 평가에 사용\n",
    "    * 다른 (k-1) 개의 폴드를 이용해 훈련\n",
    "* 최종적으로 k 번의 평가 결과가 담긴 배열 생성"
   ]
  },
  {
   "cell_type": "markdown",
   "metadata": {
    "colab_type": "text",
    "id": "j33mMeoDQWc6"
   },
   "source": [
    "#### 예제: 결정 트리 모델 교차 검증\n",
    "\n",
    "* k = 10으로 설정"
   ]
  },
  {
   "cell_type": "markdown",
   "metadata": {
    "colab": {},
    "colab_type": "code",
    "id": "Ao-Fu66jQBFI"
   },
   "source": [
    "```python\n",
    "from sklearn.model_selection import cross_val_score\n",
    "\n",
    "scores = cross_val_score(tree_reg, housing_prepared, housing_labels,\n",
    "                         scoring=\"neg_mean_squared_error\", cv=10)\n",
    "tree_rmse_scores = np.sqrt(-scores)\n",
    "```"
   ]
  },
  {
   "cell_type": "markdown",
   "metadata": {
    "colab_type": "text",
    "id": "VrQwS5F9RhiM"
   },
   "source": [
    "* __주의__\n",
    "\n",
    "    * 효용함수: k-겹 교차 검증의 모델 학습 과정에서 성능을 측정할 때 높을 수록 좋은 효용함수 활용\n",
    "\n",
    "    * RMSE의 음숫값을 이용하여 훈련되는 모델 평가\n",
    "        * `scoring=\"neg_mean_squared_error\"`\n",
    "\n",
    "    * 교차 검증 결과 평가를 위해 다시 음숫값(`-scores`)을 사용해야 함.\n"
   ]
  },
  {
   "cell_type": "markdown",
   "metadata": {
    "colab_type": "text",
    "id": "wShglSqRSm8I"
   },
   "source": [
    "#### 예제: 선형 회귀 모델 교차 검증\n",
    "\n",
    "* k = 10으로 설정"
   ]
  },
  {
   "cell_type": "markdown",
   "metadata": {
    "colab": {
     "base_uri": "https://localhost:8080/",
     "height": 105
    },
    "colab_type": "code",
    "id": "e_Mxb4gjSRSJ",
    "outputId": "2b7d8dfc-73a1-4d13-b2cd-d381ffdc056f"
   },
   "source": [
    "```python\n",
    "lin_scores = cross_val_score(lin_reg, housing_prepared, housing_labels,\n",
    "                             scoring=\"neg_mean_squared_error\", cv=10)\n",
    "lin_rmse_scores = np.sqrt(-lin_scores)\n",
    "display_scores(lin_rmse_scores)\n",
    "```"
   ]
  },
  {
   "cell_type": "markdown",
   "metadata": {},
   "source": [
    "### 앙상블 학습(7장)"
   ]
  },
  {
   "cell_type": "markdown",
   "metadata": {},
   "source": [
    "* 여러 다른 모델을 모아서 하나의 모델을 만드는 기법\n",
    "* 즉, 교차 검증을 일반화 시킨 모델 학습법임.\n",
    "* 머신러닝 알고리즘의 성능을 극대화는 방법 중 하나"
   ]
  },
  {
   "cell_type": "markdown",
   "metadata": {},
   "source": [
    "* 앙상블 학습 예제: 랜덤 포레스트\n",
    "    * 특성을 무작위로 선택해서 많은 결정 트리를 만들고 그 예측을 평균 내는 모델\n",
    "    * 사이킷런의 `RandomForestRegressor` 사용법은 기본적으로 동일함."
   ]
  },
  {
   "cell_type": "markdown",
   "metadata": {},
   "source": [
    "* 훈련"
   ]
  },
  {
   "cell_type": "markdown",
   "metadata": {
    "colab": {
     "base_uri": "https://localhost:8080/",
     "height": 140
    },
    "colab_type": "code",
    "id": "g1UEal_vS1hh",
    "outputId": "3aa14899-6699-4644-cfbd-82b95639a169"
   },
   "source": [
    "```python\n",
    "from sklearn.ensemble import RandomForestRegressor\n",
    "\n",
    "forest_reg = RandomForestRegressor(n_estimators=100, random_state=42)\n",
    "forest_reg.fit(housing_prepared, housing_labels)\n",
    "```"
   ]
  },
  {
   "cell_type": "markdown",
   "metadata": {
    "colab_type": "text",
    "id": "22f-Z6ZPTj81"
   },
   "source": [
    "* 예측"
   ]
  },
  {
   "cell_type": "markdown",
   "metadata": {
    "colab": {
     "base_uri": "https://localhost:8080/",
     "height": 34
    },
    "colab_type": "code",
    "id": "03JOVBn1ThLH",
    "outputId": "3114d819-0856-4cfa-a7b7-a53a09b651da"
   },
   "source": [
    "```python\n",
    "housing_predictions = forest_reg.predict(housing_prepared)\n",
    "```"
   ]
  },
  {
   "cell_type": "markdown",
   "metadata": {
    "colab_type": "text",
    "id": "NvymKM5gVYcN"
   },
   "source": [
    "## 2.7 모델 세부 튜닝"
   ]
  },
  {
   "cell_type": "markdown",
   "metadata": {
    "colab_type": "text",
    "id": "NvymKM5gVYcN"
   },
   "source": [
    "* 살펴 본 모델 중에서 **랜덤 포레스트** 모델의 성능이 가장 좋았음\n",
    "* 가능성이 높은 모델을 선정한 후에 **모델 세부 설정을 튜닝**해야함\n",
    "* 튜닝을 위한 세 가지 방식\n",
    "  * **그리드 탐색**\n",
    "  * **랜덤 탐색**\n",
    "  * **앙상블 방법**"
   ]
  },
  {
   "cell_type": "markdown",
   "metadata": {
    "colab_type": "text",
    "id": "gq27apRGVttK"
   },
   "source": [
    "## 8.1 그리드 탐색\n",
    "* **가장 만족할 만한 하이퍼파라미터 조합을 찾을 때까지** **수동**으로 시도하는 것은 매우 비효율적이며 시간이 오래 걸림\n",
    "* 사이킷런의 **GridSearchCV**는 **지정된 조건 내에서 최적의 하이퍼파라미터 조합을 시도**하면서 각각의 조합에 대해 **교차 검증**을 실행하여 해당 조합을 활용한 모델의 성능을 평가"
   ]
  },
  {
   "cell_type": "markdown",
   "metadata": {
    "colab_type": "text",
    "id": "yeUooJ3-WAff"
   },
   "source": [
    "* 예를 들어, 아래 코드는 **랜덤 포레스트 모델에 대한 최적 조합**을 찾아줌\n",
    "\n",
    "* **param_grid** 변수\n",
    "  * 랜던 포레스트 **변환기**를 생성할 때 사용되는 **옵션 변수값들의 후보**를 담은 사전 값들의 리스트\n",
    "  * 리스트 첫째 항목: 총 3x4 = 12 가지의 조합을 실행\n",
    "    * **n_estimators** 옵션 변수값 후보 3개\n",
    "    * **max_features** 옵션 변수값 후보 4개\n",
    "  * 리스트 둘째 항목: 총 1x2x3 = 6 가지의 조합을 실행\n",
    "    * **bootstrap=False** 옵션 변수값 후보 1개\n",
    "    * **n_estimators** 옵션 변수값 후보 2개\n",
    "    * **max_features** 옵션 변수값 후보 3개\n",
    "  * 총 조합 경우의 수: 12 + 6 = 18가지\n",
    "* **cv=5**\n",
    "  * **5-겹 교차 검증** 실행\n",
    "  * 총 5x18 = 90번 훈련"
   ]
  },
  {
   "cell_type": "code",
   "execution_count": null,
   "metadata": {
    "colab": {
     "base_uri": "https://localhost:8080/",
     "height": 386
    },
    "colab_type": "code",
    "id": "ifogOw83VT3Y",
    "outputId": "8cce903f-83cc-45f8-b720-4ee44f3c2a16"
   },
   "outputs": [
    {
     "data": {
      "text/plain": [
       "GridSearchCV(cv=5, error_score=nan,\n",
       "             estimator=RandomForestRegressor(bootstrap=True, ccp_alpha=0.0,\n",
       "                                             criterion='mse', max_depth=None,\n",
       "                                             max_features='auto',\n",
       "                                             max_leaf_nodes=None,\n",
       "                                             max_samples=None,\n",
       "                                             min_impurity_decrease=0.0,\n",
       "                                             min_impurity_split=None,\n",
       "                                             min_samples_leaf=1,\n",
       "                                             min_samples_split=2,\n",
       "                                             min_weight_fraction_leaf=0.0,\n",
       "                                             n_estimators=100, n_jobs=None,\n",
       "                                             oob_score=False, random_state=42,\n",
       "                                             verbose=0, warm_start=False),\n",
       "             iid='deprecated', n_jobs=None,\n",
       "             param_grid=[{'max_features': [2, 4, 6, 8],\n",
       "                          'n_estimators': [3, 10, 30]},\n",
       "                         {'bootstrap': [False], 'max_features': [2, 3, 4],\n",
       "                          'n_estimators': [3, 10]}],\n",
       "             pre_dispatch='2*n_jobs', refit=True, return_train_score=True,\n",
       "             scoring='neg_mean_squared_error', verbose=0)"
      ]
     },
     "execution_count": 104,
     "metadata": {
      "tags": []
     },
     "output_type": "execute_result"
    }
   ],
   "source": [
    "from sklearn.model_selection import GridSearchCV\n",
    "\n",
    "param_grid = [\n",
    "    {'n_estimators': [3, 10, 30], 'max_features': [2, 4, 6, 8]},\n",
    "    {'bootstrap': [False], 'n_estimators': [3, 10], 'max_features': [2, 3, 4]},\n",
    "  ]\n",
    "\n",
    "forest_reg = RandomForestRegressor(random_state=42)\n",
    "grid_search = GridSearchCV(forest_reg, param_grid, cv=5,\n",
    "                           scoring='neg_mean_squared_error',\n",
    "                           return_train_score=True)\n",
    "grid_search.fit(housing_prepared, housing_labels)"
   ]
  },
  {
   "cell_type": "markdown",
   "metadata": {
    "colab_type": "text",
    "id": "bZAya3Kqd-Cx"
   },
   "source": [
    "* 최상의 파라미터 조합은 **best_parsms_**인스턴스 속성에 저장"
   ]
  },
  {
   "cell_type": "code",
   "execution_count": null,
   "metadata": {
    "colab": {
     "base_uri": "https://localhost:8080/",
     "height": 34
    },
    "colab_type": "code",
    "id": "jtdnafn6eGZj",
    "outputId": "f974ba96-e251-4456-d869-c7eacb75f702"
   },
   "outputs": [
    {
     "data": {
      "text/plain": [
       "{'max_features': 8, 'n_estimators': 30}"
      ]
     },
     "execution_count": 105,
     "metadata": {
      "tags": []
     },
     "output_type": "execute_result"
    }
   ],
   "source": [
    "grid_search.best_params_"
   ]
  },
  {
   "cell_type": "markdown",
   "metadata": {
    "colab_type": "text",
    "id": "DyDtxW5SeFVb"
   },
   "source": [
    "* **8과 30**은 각 옵션 변수가 취할 수 있었던 **최댓값**\n",
    "* 따라서 **숫자를 좀 더 키워서** 그리드 탐색을 시도\n",
    "  * 숫자를 키우면 좀 오래 걸림\n",
    "\n",
    "```\n",
    "from sklearn.model_selection import GridSearchCV\n",
    "\n",
    "param_grid = [\n",
    "    {'n_estimators': [30, 50, 100], 'max_features': [8, 10, 12]},\n",
    "  ]\n",
    "\n",
    "forest_reg = RandomForestRegressor(random_state=42)\n",
    "grid_search = GridSearchCV(forest_reg, param_grid, cv=5,\n",
    "                           scoring='neg_mean_squared_error',\n",
    "                           return_train_score=True)\n",
    "grid_search.fit(housing_prepared, housing_labels)\n",
    "```\n",
    "\n"
   ]
  },
  {
   "cell_type": "markdown",
   "metadata": {
    "colab_type": "text",
    "id": "ONmC43IIesj4"
   },
   "source": [
    "* **최적의 조합**을 갖춘 **랜덤 포레스트** 추정기는 **best_estimator_** 인스턴스 속성에 저장"
   ]
  },
  {
   "cell_type": "code",
   "execution_count": null,
   "metadata": {
    "colab": {
     "base_uri": "https://localhost:8080/",
     "height": 140
    },
    "colab_type": "code",
    "id": "uJYrtDf-eeC2",
    "outputId": "b718fa05-91d2-4905-d6c0-4dfd97fe3569"
   },
   "outputs": [
    {
     "data": {
      "text/plain": [
       "RandomForestRegressor(bootstrap=True, ccp_alpha=0.0, criterion='mse',\n",
       "                      max_depth=None, max_features=8, max_leaf_nodes=None,\n",
       "                      max_samples=None, min_impurity_decrease=0.0,\n",
       "                      min_impurity_split=None, min_samples_leaf=1,\n",
       "                      min_samples_split=2, min_weight_fraction_leaf=0.0,\n",
       "                      n_estimators=30, n_jobs=None, oob_score=False,\n",
       "                      random_state=42, verbose=0, warm_start=False)"
      ]
     },
     "execution_count": 106,
     "metadata": {
      "tags": []
     },
     "output_type": "execute_result"
    }
   ],
   "source": [
    "grid_search.best_estimator_"
   ]
  },
  {
   "cell_type": "markdown",
   "metadata": {
    "colab_type": "text",
    "id": "FFN8Ihvje6FA"
   },
   "source": [
    "* 그리드 탐색 **결과 전체**를 확인하려면 **cv_results_** 인스턴스 속성에 저장된 값들을 확인하면 됨\n",
    "  * **cv_results_**는 모든 조합을 이용한 **교차 검증 결과**를 사전 자료형으로 기록\n",
    "  * 예를 들어, 각 조합 별로 **평균 제곱 오차**와 **조합 내용**은 **mean_test_score와 params** 지정자를 이용\n",
    "\n",
    "* **!참고!**\n",
    "  * 랜덤 포레스트는 **결정 트리 모델**을 이용\n",
    "  * 비용을 **크게** 하는 방향으로 학습\n",
    "  * 따라서 **평균 제곱근 오차**를 확인하려면 **부호를 변경한 뒤**에 제곱근 값을 계산"
   ]
  },
  {
   "cell_type": "code",
   "execution_count": null,
   "metadata": {
    "colab": {
     "base_uri": "https://localhost:8080/",
     "height": 334
    },
    "colab_type": "code",
    "id": "BOg7vNIWe2MX",
    "outputId": "ef1643f3-f239-4a45-da4c-4cd0d32c3686"
   },
   "outputs": [
    {
     "name": "stdout",
     "output_type": "stream",
     "text": [
      "63669.11631261028 {'max_features': 2, 'n_estimators': 3}\n",
      "55627.099719926795 {'max_features': 2, 'n_estimators': 10}\n",
      "53384.57275149205 {'max_features': 2, 'n_estimators': 30}\n",
      "60965.950449450494 {'max_features': 4, 'n_estimators': 3}\n",
      "52741.04704299915 {'max_features': 4, 'n_estimators': 10}\n",
      "50377.40461678399 {'max_features': 4, 'n_estimators': 30}\n",
      "58663.93866579625 {'max_features': 6, 'n_estimators': 3}\n",
      "52006.19873526564 {'max_features': 6, 'n_estimators': 10}\n",
      "50146.51167415009 {'max_features': 6, 'n_estimators': 30}\n",
      "57869.25276169646 {'max_features': 8, 'n_estimators': 3}\n",
      "51711.127883959234 {'max_features': 8, 'n_estimators': 10}\n",
      "49682.273345071546 {'max_features': 8, 'n_estimators': 30}\n",
      "62895.06951262424 {'bootstrap': False, 'max_features': 2, 'n_estimators': 3}\n",
      "54658.176157539405 {'bootstrap': False, 'max_features': 2, 'n_estimators': 10}\n",
      "59470.40652318466 {'bootstrap': False, 'max_features': 3, 'n_estimators': 3}\n",
      "52724.9822587892 {'bootstrap': False, 'max_features': 3, 'n_estimators': 10}\n",
      "57490.5691951261 {'bootstrap': False, 'max_features': 4, 'n_estimators': 3}\n",
      "51009.495668875716 {'bootstrap': False, 'max_features': 4, 'n_estimators': 10}\n"
     ]
    }
   ],
   "source": [
    "cvres = grid_search.cv_results_\n",
    "for mean_score, params in zip(cvres[\"mean_test_score\"], cvres[\"params\"]):\n",
    "    print(np.sqrt(-mean_score), params)"
   ]
  },
  {
   "cell_type": "markdown",
   "metadata": {
    "colab_type": "text",
    "id": "W7FNXCtsfpEa"
   },
   "source": [
    "* `max_features=8`과 `n_estimators=30`일 때 RMSE가 49,682 정도\n",
    "  * 랜덤 포레스트 교차 검증을 기본으로 실행했을 때의 RMSE인 50,182 보다 조금 더 좋음"
   ]
  },
  {
   "cell_type": "markdown",
   "metadata": {
    "colab_type": "text",
    "id": "Jiq4wxL5f1qG"
   },
   "source": [
    "* **cv_results**를 **데이터프레임**으로 변환하면 보다 **쉽게 내용** 확인 가능"
   ]
  },
  {
   "cell_type": "code",
   "execution_count": null,
   "metadata": {
    "colab": {
     "base_uri": "https://localhost:8080/",
     "height": 1000
    },
    "colab_type": "code",
    "id": "VGxrhrUQfkAb",
    "outputId": "09e075ea-e995-4e3c-faea-e34b61e06949"
   },
   "outputs": [
    {
     "data": {
      "text/html": [
       "<div>\n",
       "<style scoped>\n",
       "    .dataframe tbody tr th:only-of-type {\n",
       "        vertical-align: middle;\n",
       "    }\n",
       "\n",
       "    .dataframe tbody tr th {\n",
       "        vertical-align: top;\n",
       "    }\n",
       "\n",
       "    .dataframe thead th {\n",
       "        text-align: right;\n",
       "    }\n",
       "</style>\n",
       "<table border=\"1\" class=\"dataframe\">\n",
       "  <thead>\n",
       "    <tr style=\"text-align: right;\">\n",
       "      <th></th>\n",
       "      <th>mean_fit_time</th>\n",
       "      <th>std_fit_time</th>\n",
       "      <th>mean_score_time</th>\n",
       "      <th>std_score_time</th>\n",
       "      <th>param_max_features</th>\n",
       "      <th>param_n_estimators</th>\n",
       "      <th>param_bootstrap</th>\n",
       "      <th>params</th>\n",
       "      <th>split0_test_score</th>\n",
       "      <th>split1_test_score</th>\n",
       "      <th>split2_test_score</th>\n",
       "      <th>split3_test_score</th>\n",
       "      <th>split4_test_score</th>\n",
       "      <th>mean_test_score</th>\n",
       "      <th>std_test_score</th>\n",
       "      <th>rank_test_score</th>\n",
       "      <th>split0_train_score</th>\n",
       "      <th>split1_train_score</th>\n",
       "      <th>split2_train_score</th>\n",
       "      <th>split3_train_score</th>\n",
       "      <th>split4_train_score</th>\n",
       "      <th>mean_train_score</th>\n",
       "      <th>std_train_score</th>\n",
       "    </tr>\n",
       "  </thead>\n",
       "  <tbody>\n",
       "    <tr>\n",
       "      <th>0</th>\n",
       "      <td>0.076034</td>\n",
       "      <td>0.003029</td>\n",
       "      <td>0.004437</td>\n",
       "      <td>0.000133</td>\n",
       "      <td>2</td>\n",
       "      <td>3</td>\n",
       "      <td>NaN</td>\n",
       "      <td>{'max_features': 2, 'n_estimators': 3}</td>\n",
       "      <td>-3.837622e+09</td>\n",
       "      <td>-4.147108e+09</td>\n",
       "      <td>-4.196408e+09</td>\n",
       "      <td>-3.903319e+09</td>\n",
       "      <td>-4.184325e+09</td>\n",
       "      <td>-4.053756e+09</td>\n",
       "      <td>1.519591e+08</td>\n",
       "      <td>18</td>\n",
       "      <td>-1.064113e+09</td>\n",
       "      <td>-1.105142e+09</td>\n",
       "      <td>-1.116550e+09</td>\n",
       "      <td>-1.112342e+09</td>\n",
       "      <td>-1.129650e+09</td>\n",
       "      <td>-1.105559e+09</td>\n",
       "      <td>2.220402e+07</td>\n",
       "    </tr>\n",
       "    <tr>\n",
       "      <th>1</th>\n",
       "      <td>0.241481</td>\n",
       "      <td>0.004937</td>\n",
       "      <td>0.011911</td>\n",
       "      <td>0.000226</td>\n",
       "      <td>2</td>\n",
       "      <td>10</td>\n",
       "      <td>NaN</td>\n",
       "      <td>{'max_features': 2, 'n_estimators': 10}</td>\n",
       "      <td>-3.047771e+09</td>\n",
       "      <td>-3.254861e+09</td>\n",
       "      <td>-3.130196e+09</td>\n",
       "      <td>-2.865188e+09</td>\n",
       "      <td>-3.173856e+09</td>\n",
       "      <td>-3.094374e+09</td>\n",
       "      <td>1.327062e+08</td>\n",
       "      <td>11</td>\n",
       "      <td>-5.927175e+08</td>\n",
       "      <td>-5.870952e+08</td>\n",
       "      <td>-5.776964e+08</td>\n",
       "      <td>-5.716332e+08</td>\n",
       "      <td>-5.802501e+08</td>\n",
       "      <td>-5.818785e+08</td>\n",
       "      <td>7.345821e+06</td>\n",
       "    </tr>\n",
       "    <tr>\n",
       "      <th>2</th>\n",
       "      <td>0.726396</td>\n",
       "      <td>0.007167</td>\n",
       "      <td>0.034936</td>\n",
       "      <td>0.000887</td>\n",
       "      <td>2</td>\n",
       "      <td>30</td>\n",
       "      <td>NaN</td>\n",
       "      <td>{'max_features': 2, 'n_estimators': 30}</td>\n",
       "      <td>-2.689185e+09</td>\n",
       "      <td>-3.021086e+09</td>\n",
       "      <td>-2.948330e+09</td>\n",
       "      <td>-2.619995e+09</td>\n",
       "      <td>-2.970968e+09</td>\n",
       "      <td>-2.849913e+09</td>\n",
       "      <td>1.626875e+08</td>\n",
       "      <td>9</td>\n",
       "      <td>-4.381089e+08</td>\n",
       "      <td>-4.391272e+08</td>\n",
       "      <td>-4.371702e+08</td>\n",
       "      <td>-4.376955e+08</td>\n",
       "      <td>-4.452654e+08</td>\n",
       "      <td>-4.394734e+08</td>\n",
       "      <td>2.966320e+06</td>\n",
       "    </tr>\n",
       "    <tr>\n",
       "      <th>3</th>\n",
       "      <td>0.124774</td>\n",
       "      <td>0.006038</td>\n",
       "      <td>0.004584</td>\n",
       "      <td>0.000099</td>\n",
       "      <td>4</td>\n",
       "      <td>3</td>\n",
       "      <td>NaN</td>\n",
       "      <td>{'max_features': 4, 'n_estimators': 3}</td>\n",
       "      <td>-3.730181e+09</td>\n",
       "      <td>-3.786886e+09</td>\n",
       "      <td>-3.734515e+09</td>\n",
       "      <td>-3.418747e+09</td>\n",
       "      <td>-3.913907e+09</td>\n",
       "      <td>-3.716847e+09</td>\n",
       "      <td>1.631510e+08</td>\n",
       "      <td>16</td>\n",
       "      <td>-9.865163e+08</td>\n",
       "      <td>-1.012565e+09</td>\n",
       "      <td>-9.169425e+08</td>\n",
       "      <td>-1.037400e+09</td>\n",
       "      <td>-9.707739e+08</td>\n",
       "      <td>-9.848396e+08</td>\n",
       "      <td>4.084607e+07</td>\n",
       "    </tr>\n",
       "    <tr>\n",
       "      <th>4</th>\n",
       "      <td>0.397409</td>\n",
       "      <td>0.002995</td>\n",
       "      <td>0.012818</td>\n",
       "      <td>0.000073</td>\n",
       "      <td>4</td>\n",
       "      <td>10</td>\n",
       "      <td>NaN</td>\n",
       "      <td>{'max_features': 4, 'n_estimators': 10}</td>\n",
       "      <td>-2.666283e+09</td>\n",
       "      <td>-2.784511e+09</td>\n",
       "      <td>-2.892276e+09</td>\n",
       "      <td>-2.616813e+09</td>\n",
       "      <td>-2.948207e+09</td>\n",
       "      <td>-2.781618e+09</td>\n",
       "      <td>1.268607e+08</td>\n",
       "      <td>8</td>\n",
       "      <td>-5.097115e+08</td>\n",
       "      <td>-5.162820e+08</td>\n",
       "      <td>-4.962893e+08</td>\n",
       "      <td>-5.436192e+08</td>\n",
       "      <td>-5.160297e+08</td>\n",
       "      <td>-5.163863e+08</td>\n",
       "      <td>1.542862e+07</td>\n",
       "    </tr>\n",
       "    <tr>\n",
       "      <th>5</th>\n",
       "      <td>1.184312</td>\n",
       "      <td>0.003788</td>\n",
       "      <td>0.035424</td>\n",
       "      <td>0.000140</td>\n",
       "      <td>4</td>\n",
       "      <td>30</td>\n",
       "      <td>NaN</td>\n",
       "      <td>{'max_features': 4, 'n_estimators': 30}</td>\n",
       "      <td>-2.387153e+09</td>\n",
       "      <td>-2.588448e+09</td>\n",
       "      <td>-2.666426e+09</td>\n",
       "      <td>-2.398071e+09</td>\n",
       "      <td>-2.649316e+09</td>\n",
       "      <td>-2.537883e+09</td>\n",
       "      <td>1.214614e+08</td>\n",
       "      <td>3</td>\n",
       "      <td>-3.838835e+08</td>\n",
       "      <td>-3.880268e+08</td>\n",
       "      <td>-3.790867e+08</td>\n",
       "      <td>-4.040957e+08</td>\n",
       "      <td>-3.845520e+08</td>\n",
       "      <td>-3.879289e+08</td>\n",
       "      <td>8.571233e+06</td>\n",
       "    </tr>\n",
       "    <tr>\n",
       "      <th>6</th>\n",
       "      <td>0.163131</td>\n",
       "      <td>0.003786</td>\n",
       "      <td>0.004563</td>\n",
       "      <td>0.000038</td>\n",
       "      <td>6</td>\n",
       "      <td>3</td>\n",
       "      <td>NaN</td>\n",
       "      <td>{'max_features': 6, 'n_estimators': 3}</td>\n",
       "      <td>-3.119657e+09</td>\n",
       "      <td>-3.586319e+09</td>\n",
       "      <td>-3.592772e+09</td>\n",
       "      <td>-3.328934e+09</td>\n",
       "      <td>-3.579607e+09</td>\n",
       "      <td>-3.441458e+09</td>\n",
       "      <td>1.893056e+08</td>\n",
       "      <td>14</td>\n",
       "      <td>-9.245343e+08</td>\n",
       "      <td>-8.886939e+08</td>\n",
       "      <td>-9.353135e+08</td>\n",
       "      <td>-9.009801e+08</td>\n",
       "      <td>-8.624664e+08</td>\n",
       "      <td>-9.023976e+08</td>\n",
       "      <td>2.591445e+07</td>\n",
       "    </tr>\n",
       "    <tr>\n",
       "      <th>7</th>\n",
       "      <td>0.547390</td>\n",
       "      <td>0.006560</td>\n",
       "      <td>0.012824</td>\n",
       "      <td>0.000052</td>\n",
       "      <td>6</td>\n",
       "      <td>10</td>\n",
       "      <td>NaN</td>\n",
       "      <td>{'max_features': 6, 'n_estimators': 10}</td>\n",
       "      <td>-2.549663e+09</td>\n",
       "      <td>-2.782039e+09</td>\n",
       "      <td>-2.762720e+09</td>\n",
       "      <td>-2.521134e+09</td>\n",
       "      <td>-2.907667e+09</td>\n",
       "      <td>-2.704645e+09</td>\n",
       "      <td>1.471569e+08</td>\n",
       "      <td>6</td>\n",
       "      <td>-4.980344e+08</td>\n",
       "      <td>-5.045869e+08</td>\n",
       "      <td>-4.994664e+08</td>\n",
       "      <td>-4.990325e+08</td>\n",
       "      <td>-5.055542e+08</td>\n",
       "      <td>-5.013349e+08</td>\n",
       "      <td>3.100456e+06</td>\n",
       "    </tr>\n",
       "    <tr>\n",
       "      <th>8</th>\n",
       "      <td>1.651508</td>\n",
       "      <td>0.010412</td>\n",
       "      <td>0.035748</td>\n",
       "      <td>0.000641</td>\n",
       "      <td>6</td>\n",
       "      <td>30</td>\n",
       "      <td>NaN</td>\n",
       "      <td>{'max_features': 6, 'n_estimators': 30}</td>\n",
       "      <td>-2.370010e+09</td>\n",
       "      <td>-2.583638e+09</td>\n",
       "      <td>-2.607703e+09</td>\n",
       "      <td>-2.350953e+09</td>\n",
       "      <td>-2.661059e+09</td>\n",
       "      <td>-2.514673e+09</td>\n",
       "      <td>1.285080e+08</td>\n",
       "      <td>2</td>\n",
       "      <td>-3.838538e+08</td>\n",
       "      <td>-3.804711e+08</td>\n",
       "      <td>-3.805218e+08</td>\n",
       "      <td>-3.856095e+08</td>\n",
       "      <td>-3.901917e+08</td>\n",
       "      <td>-3.841296e+08</td>\n",
       "      <td>3.617057e+06</td>\n",
       "    </tr>\n",
       "    <tr>\n",
       "      <th>9</th>\n",
       "      <td>0.209101</td>\n",
       "      <td>0.003064</td>\n",
       "      <td>0.004581</td>\n",
       "      <td>0.000206</td>\n",
       "      <td>8</td>\n",
       "      <td>3</td>\n",
       "      <td>NaN</td>\n",
       "      <td>{'max_features': 8, 'n_estimators': 3}</td>\n",
       "      <td>-3.353504e+09</td>\n",
       "      <td>-3.348552e+09</td>\n",
       "      <td>-3.402843e+09</td>\n",
       "      <td>-3.129307e+09</td>\n",
       "      <td>-3.510047e+09</td>\n",
       "      <td>-3.348850e+09</td>\n",
       "      <td>1.241939e+08</td>\n",
       "      <td>13</td>\n",
       "      <td>-9.228123e+08</td>\n",
       "      <td>-8.553031e+08</td>\n",
       "      <td>-8.603321e+08</td>\n",
       "      <td>-8.881964e+08</td>\n",
       "      <td>-9.151287e+08</td>\n",
       "      <td>-8.883545e+08</td>\n",
       "      <td>2.750227e+07</td>\n",
       "    </tr>\n",
       "    <tr>\n",
       "      <th>10</th>\n",
       "      <td>0.698370</td>\n",
       "      <td>0.004419</td>\n",
       "      <td>0.013567</td>\n",
       "      <td>0.001464</td>\n",
       "      <td>8</td>\n",
       "      <td>10</td>\n",
       "      <td>NaN</td>\n",
       "      <td>{'max_features': 8, 'n_estimators': 10}</td>\n",
       "      <td>-2.571970e+09</td>\n",
       "      <td>-2.718994e+09</td>\n",
       "      <td>-2.842317e+09</td>\n",
       "      <td>-2.460258e+09</td>\n",
       "      <td>-2.776666e+09</td>\n",
       "      <td>-2.674041e+09</td>\n",
       "      <td>1.392777e+08</td>\n",
       "      <td>5</td>\n",
       "      <td>-4.932416e+08</td>\n",
       "      <td>-4.815238e+08</td>\n",
       "      <td>-4.730979e+08</td>\n",
       "      <td>-5.155367e+08</td>\n",
       "      <td>-4.985555e+08</td>\n",
       "      <td>-4.923911e+08</td>\n",
       "      <td>1.459294e+07</td>\n",
       "    </tr>\n",
       "    <tr>\n",
       "      <th>11</th>\n",
       "      <td>2.111314</td>\n",
       "      <td>0.009383</td>\n",
       "      <td>0.035340</td>\n",
       "      <td>0.000413</td>\n",
       "      <td>8</td>\n",
       "      <td>30</td>\n",
       "      <td>NaN</td>\n",
       "      <td>{'max_features': 8, 'n_estimators': 30}</td>\n",
       "      <td>-2.357390e+09</td>\n",
       "      <td>-2.546640e+09</td>\n",
       "      <td>-2.591972e+09</td>\n",
       "      <td>-2.318617e+09</td>\n",
       "      <td>-2.527022e+09</td>\n",
       "      <td>-2.468328e+09</td>\n",
       "      <td>1.091662e+08</td>\n",
       "      <td>1</td>\n",
       "      <td>-3.841658e+08</td>\n",
       "      <td>-3.744500e+08</td>\n",
       "      <td>-3.773239e+08</td>\n",
       "      <td>-3.882250e+08</td>\n",
       "      <td>-3.810005e+08</td>\n",
       "      <td>-3.810330e+08</td>\n",
       "      <td>4.871017e+06</td>\n",
       "    </tr>\n",
       "    <tr>\n",
       "      <th>12</th>\n",
       "      <td>0.115370</td>\n",
       "      <td>0.002249</td>\n",
       "      <td>0.005839</td>\n",
       "      <td>0.000071</td>\n",
       "      <td>2</td>\n",
       "      <td>3</td>\n",
       "      <td>False</td>\n",
       "      <td>{'bootstrap': False, 'max_features': 2, 'n_est...</td>\n",
       "      <td>-3.785816e+09</td>\n",
       "      <td>-4.166012e+09</td>\n",
       "      <td>-4.061751e+09</td>\n",
       "      <td>-3.675704e+09</td>\n",
       "      <td>-4.089667e+09</td>\n",
       "      <td>-3.955790e+09</td>\n",
       "      <td>1.900964e+08</td>\n",
       "      <td>17</td>\n",
       "      <td>-0.000000e+00</td>\n",
       "      <td>-0.000000e+00</td>\n",
       "      <td>-0.000000e+00</td>\n",
       "      <td>-0.000000e+00</td>\n",
       "      <td>-0.000000e+00</td>\n",
       "      <td>0.000000e+00</td>\n",
       "      <td>0.000000e+00</td>\n",
       "    </tr>\n",
       "    <tr>\n",
       "      <th>13</th>\n",
       "      <td>0.380880</td>\n",
       "      <td>0.003806</td>\n",
       "      <td>0.015326</td>\n",
       "      <td>0.000220</td>\n",
       "      <td>2</td>\n",
       "      <td>10</td>\n",
       "      <td>False</td>\n",
       "      <td>{'bootstrap': False, 'max_features': 2, 'n_est...</td>\n",
       "      <td>-2.810721e+09</td>\n",
       "      <td>-3.107789e+09</td>\n",
       "      <td>-3.131187e+09</td>\n",
       "      <td>-2.788537e+09</td>\n",
       "      <td>-3.099347e+09</td>\n",
       "      <td>-2.987516e+09</td>\n",
       "      <td>1.539234e+08</td>\n",
       "      <td>10</td>\n",
       "      <td>-6.056477e-02</td>\n",
       "      <td>-0.000000e+00</td>\n",
       "      <td>-0.000000e+00</td>\n",
       "      <td>-0.000000e+00</td>\n",
       "      <td>-2.967449e+00</td>\n",
       "      <td>-6.056027e-01</td>\n",
       "      <td>1.181156e+00</td>\n",
       "    </tr>\n",
       "    <tr>\n",
       "      <th>14</th>\n",
       "      <td>0.153443</td>\n",
       "      <td>0.003487</td>\n",
       "      <td>0.005757</td>\n",
       "      <td>0.000065</td>\n",
       "      <td>3</td>\n",
       "      <td>3</td>\n",
       "      <td>False</td>\n",
       "      <td>{'bootstrap': False, 'max_features': 3, 'n_est...</td>\n",
       "      <td>-3.618324e+09</td>\n",
       "      <td>-3.441527e+09</td>\n",
       "      <td>-3.554815e+09</td>\n",
       "      <td>-3.619116e+09</td>\n",
       "      <td>-3.449864e+09</td>\n",
       "      <td>-3.536729e+09</td>\n",
       "      <td>7.795057e+07</td>\n",
       "      <td>15</td>\n",
       "      <td>-0.000000e+00</td>\n",
       "      <td>-0.000000e+00</td>\n",
       "      <td>-0.000000e+00</td>\n",
       "      <td>-0.000000e+00</td>\n",
       "      <td>-6.072840e+01</td>\n",
       "      <td>-1.214568e+01</td>\n",
       "      <td>2.429136e+01</td>\n",
       "    </tr>\n",
       "    <tr>\n",
       "      <th>15</th>\n",
       "      <td>0.508112</td>\n",
       "      <td>0.009363</td>\n",
       "      <td>0.015496</td>\n",
       "      <td>0.000257</td>\n",
       "      <td>3</td>\n",
       "      <td>10</td>\n",
       "      <td>False</td>\n",
       "      <td>{'bootstrap': False, 'max_features': 3, 'n_est...</td>\n",
       "      <td>-2.757999e+09</td>\n",
       "      <td>-2.851737e+09</td>\n",
       "      <td>-2.830927e+09</td>\n",
       "      <td>-2.672765e+09</td>\n",
       "      <td>-2.786190e+09</td>\n",
       "      <td>-2.779924e+09</td>\n",
       "      <td>6.286720e+07</td>\n",
       "      <td>7</td>\n",
       "      <td>-2.089484e+01</td>\n",
       "      <td>-0.000000e+00</td>\n",
       "      <td>-0.000000e+00</td>\n",
       "      <td>-0.000000e+00</td>\n",
       "      <td>-5.465556e+00</td>\n",
       "      <td>-5.272080e+00</td>\n",
       "      <td>8.093117e+00</td>\n",
       "    </tr>\n",
       "    <tr>\n",
       "      <th>16</th>\n",
       "      <td>0.191560</td>\n",
       "      <td>0.003577</td>\n",
       "      <td>0.005878</td>\n",
       "      <td>0.000085</td>\n",
       "      <td>4</td>\n",
       "      <td>3</td>\n",
       "      <td>False</td>\n",
       "      <td>{'bootstrap': False, 'max_features': 4, 'n_est...</td>\n",
       "      <td>-3.134040e+09</td>\n",
       "      <td>-3.559375e+09</td>\n",
       "      <td>-3.440422e+09</td>\n",
       "      <td>-3.053647e+09</td>\n",
       "      <td>-3.338344e+09</td>\n",
       "      <td>-3.305166e+09</td>\n",
       "      <td>1.879165e+08</td>\n",
       "      <td>12</td>\n",
       "      <td>-0.000000e+00</td>\n",
       "      <td>-0.000000e+00</td>\n",
       "      <td>-0.000000e+00</td>\n",
       "      <td>-0.000000e+00</td>\n",
       "      <td>-0.000000e+00</td>\n",
       "      <td>0.000000e+00</td>\n",
       "      <td>0.000000e+00</td>\n",
       "    </tr>\n",
       "    <tr>\n",
       "      <th>17</th>\n",
       "      <td>0.628905</td>\n",
       "      <td>0.002110</td>\n",
       "      <td>0.015217</td>\n",
       "      <td>0.000091</td>\n",
       "      <td>4</td>\n",
       "      <td>10</td>\n",
       "      <td>False</td>\n",
       "      <td>{'bootstrap': False, 'max_features': 4, 'n_est...</td>\n",
       "      <td>-2.525578e+09</td>\n",
       "      <td>-2.710011e+09</td>\n",
       "      <td>-2.609100e+09</td>\n",
       "      <td>-2.439607e+09</td>\n",
       "      <td>-2.725548e+09</td>\n",
       "      <td>-2.601969e+09</td>\n",
       "      <td>1.088048e+08</td>\n",
       "      <td>4</td>\n",
       "      <td>-0.000000e+00</td>\n",
       "      <td>-1.514119e-02</td>\n",
       "      <td>-0.000000e+00</td>\n",
       "      <td>-0.000000e+00</td>\n",
       "      <td>-0.000000e+00</td>\n",
       "      <td>-3.028238e-03</td>\n",
       "      <td>6.056477e-03</td>\n",
       "    </tr>\n",
       "  </tbody>\n",
       "</table>\n",
       "</div>"
      ],
      "text/plain": [
       "    mean_fit_time  std_fit_time  ...  mean_train_score  std_train_score\n",
       "0        0.076034      0.003029  ...     -1.105559e+09     2.220402e+07\n",
       "1        0.241481      0.004937  ...     -5.818785e+08     7.345821e+06\n",
       "2        0.726396      0.007167  ...     -4.394734e+08     2.966320e+06\n",
       "3        0.124774      0.006038  ...     -9.848396e+08     4.084607e+07\n",
       "4        0.397409      0.002995  ...     -5.163863e+08     1.542862e+07\n",
       "5        1.184312      0.003788  ...     -3.879289e+08     8.571233e+06\n",
       "6        0.163131      0.003786  ...     -9.023976e+08     2.591445e+07\n",
       "7        0.547390      0.006560  ...     -5.013349e+08     3.100456e+06\n",
       "8        1.651508      0.010412  ...     -3.841296e+08     3.617057e+06\n",
       "9        0.209101      0.003064  ...     -8.883545e+08     2.750227e+07\n",
       "10       0.698370      0.004419  ...     -4.923911e+08     1.459294e+07\n",
       "11       2.111314      0.009383  ...     -3.810330e+08     4.871017e+06\n",
       "12       0.115370      0.002249  ...      0.000000e+00     0.000000e+00\n",
       "13       0.380880      0.003806  ...     -6.056027e-01     1.181156e+00\n",
       "14       0.153443      0.003487  ...     -1.214568e+01     2.429136e+01\n",
       "15       0.508112      0.009363  ...     -5.272080e+00     8.093117e+00\n",
       "16       0.191560      0.003577  ...      0.000000e+00     0.000000e+00\n",
       "17       0.628905      0.002110  ...     -3.028238e-03     6.056477e-03\n",
       "\n",
       "[18 rows x 23 columns]"
      ]
     },
     "execution_count": 108,
     "metadata": {
      "tags": []
     },
     "output_type": "execute_result"
    }
   ],
   "source": [
    "cvresDF = pd.DataFrame(grid_search.cv_results_)\n",
    "cvresDF"
   ]
  },
  {
   "cell_type": "markdown",
   "metadata": {
    "colab_type": "text",
    "id": "KvtKMZVtgD8V"
   },
   "source": [
    "* 총 18 가지 조합을 확인하였기 때문에 생성된 데이터프레임의 **행의 수가 18**"
   ]
  },
  {
   "cell_type": "code",
   "execution_count": null,
   "metadata": {
    "colab": {
     "base_uri": "https://localhost:8080/",
     "height": 422
    },
    "colab_type": "code",
    "id": "Ay0wCyBMf_Ap",
    "outputId": "2f7c2a0d-d343-48d3-fbee-34868b4ecec6"
   },
   "outputs": [
    {
     "data": {
      "text/plain": [
       "['mean_fit_time',\n",
       " 'std_fit_time',\n",
       " 'mean_score_time',\n",
       " 'std_score_time',\n",
       " 'param_max_features',\n",
       " 'param_n_estimators',\n",
       " 'param_bootstrap',\n",
       " 'params',\n",
       " 'split0_test_score',\n",
       " 'split1_test_score',\n",
       " 'split2_test_score',\n",
       " 'split3_test_score',\n",
       " 'split4_test_score',\n",
       " 'mean_test_score',\n",
       " 'std_test_score',\n",
       " 'rank_test_score',\n",
       " 'split0_train_score',\n",
       " 'split1_train_score',\n",
       " 'split2_train_score',\n",
       " 'split3_train_score',\n",
       " 'split4_train_score',\n",
       " 'mean_train_score',\n",
       " 'std_train_score']"
      ]
     },
     "execution_count": 109,
     "metadata": {
      "tags": []
     },
     "output_type": "execute_result"
    }
   ],
   "source": [
    "list(cvresDF)"
   ]
  },
  {
   "cell_type": "markdown",
   "metadata": {
    "colab_type": "text",
    "id": "UGdxaex9gQFM"
   },
   "source": [
    "* 각 조합에 대해 **23가지** 정보를 기록"
   ]
  },
  {
   "cell_type": "code",
   "execution_count": null,
   "metadata": {
    "colab": {
     "base_uri": "https://localhost:8080/",
     "height": 34
    },
    "colab_type": "code",
    "id": "iL0sd45IgNeg",
    "outputId": "3eb1605e-581b-4492-a75b-1b67ed472321"
   },
   "outputs": [
    {
     "data": {
      "text/plain": [
       "23"
      ]
     },
     "execution_count": 110,
     "metadata": {
      "tags": []
     },
     "output_type": "execute_result"
    }
   ],
   "source": [
    "len(list(cvresDF))"
   ]
  },
  {
   "cell_type": "markdown",
   "metadata": {
    "colab_type": "text",
    "id": "6COZUfZrgak1"
   },
   "source": [
    "#### 그리드 탐색과 파이프라인\n",
    "* 데이터 **전처리**와 **그리드 탐색을 연결한 파이프라인**을 이용하면 전처리 단계에서 설정해야 하는 값들을 **하이퍼파라미터**로 다룰 수 있음\n",
    "* 예를 들어 아래 내용에 대해 어떻게 설정하는 것이 좋은지도 함께 찾아줌\n",
    "  * `CombinedAttributesAdder` 클래스의 객체를 생성할 때 지정하는 `add_bedrooms_per_room` 옵션 변수 값 지정하기\n",
    "  * **이상치** 처리하기\n",
    "  * **누락**된 값 처리하기\n",
    "  * **특성** 선택하기\n"
   ]
  },
  {
   "cell_type": "markdown",
   "metadata": {
    "colab_type": "text",
    "id": "ckdk6v7ahB_F"
   },
   "source": [
    "## 8.2 랜덤 탐색\n",
    "* **그리드 탐색**은 **적은 수의 조합**을 실험해볼 때 유용\n",
    "* 조합의 수가 커지거나, 설정된 탐색 공간이 커지면 **랜덤 탐색**이 효율적\n",
    "  * 설정값이 **연속적인 값**을 다루는 경우 랜덤 탐색이 유용\n",
    "\n",
    "* 사이킷런의 `RandomizedSearchCV` 추정기가 랜덤 탐색을 지원\n",
    "\n",
    "* 랜덤 탐색이 총 10회 진행될 때마다 n_estimators와 max_features 값이 **무작위로 지정된 구간에서 선택**\n",
    "* 랜덤 포레스트 학습이 10x5=50번 이루어짐\n",
    "\n"
   ]
  },
  {
   "cell_type": "code",
   "execution_count": null,
   "metadata": {
    "colab": {
     "base_uri": "https://localhost:8080/",
     "height": 424
    },
    "colab_type": "code",
    "id": "KQPt6b-qgShU",
    "outputId": "e10b41a8-ec3b-4df0-8c50-4cbc0631fc09"
   },
   "outputs": [
    {
     "data": {
      "text/plain": [
       "RandomizedSearchCV(cv=5, error_score=nan,\n",
       "                   estimator=RandomForestRegressor(bootstrap=True,\n",
       "                                                   ccp_alpha=0.0,\n",
       "                                                   criterion='mse',\n",
       "                                                   max_depth=None,\n",
       "                                                   max_features='auto',\n",
       "                                                   max_leaf_nodes=None,\n",
       "                                                   max_samples=None,\n",
       "                                                   min_impurity_decrease=0.0,\n",
       "                                                   min_impurity_split=None,\n",
       "                                                   min_samples_leaf=1,\n",
       "                                                   min_samples_split=2,\n",
       "                                                   min_weight_fraction_leaf=0.0,\n",
       "                                                   n_estimators=100,\n",
       "                                                   n_jobs=None, oob_score=Fals...\n",
       "                                                   warm_start=False),\n",
       "                   iid='deprecated', n_iter=10, n_jobs=None,\n",
       "                   param_distributions={'max_features': <scipy.stats._distn_infrastructure.rv_frozen object at 0x7fc066d0e198>,\n",
       "                                        'n_estimators': <scipy.stats._distn_infrastructure.rv_frozen object at 0x7fc066d0e128>},\n",
       "                   pre_dispatch='2*n_jobs', random_state=42, refit=True,\n",
       "                   return_train_score=False, scoring='neg_mean_squared_error',\n",
       "                   verbose=0)"
      ]
     },
     "execution_count": 111,
     "metadata": {
      "tags": []
     },
     "output_type": "execute_result"
    }
   ],
   "source": [
    "from sklearn.model_selection import RandomizedSearchCV\n",
    "from scipy.stats import randint\n",
    "\n",
    "param_distribs = {\n",
    "        'n_estimators': randint(low=1, high=200),\n",
    "        'max_features': randint(low=1, high=8),\n",
    "    }\n",
    "\n",
    "forest_reg = RandomForestRegressor(random_state=42)\n",
    "rnd_search = RandomizedSearchCV(forest_reg, param_distributions=param_distribs,\n",
    "                                n_iter=10, cv=5, scoring='neg_mean_squared_error', random_state=42)\n",
    "rnd_search.fit(housing_prepared, housing_labels)"
   ]
  },
  {
   "cell_type": "markdown",
   "metadata": {
    "colab_type": "text",
    "id": "5mn2ZAhii9lw"
   },
   "source": [
    "* **param_distribs** 변수\n",
    "  * 랜덤 포레스트 변환기를 생성할 때 사용되는 옵션 변수값들의 후보를 **무작위로 선택**해주는 확률분포 함수 지정\n",
    "    * **n_estimators**: 1에서 200 사이의 숫자를 임의로 선택해주는 randint 함수 사용\n",
    "    * **max_features**: 1에서 8사이의 숫자를 임의로 선택해주는 randint 함수 사용\n",
    "* **cv=5** 옵션 변수: 5-겹 교차 검증 실행.\n",
    "* **n_iter=10** 옵션 변수: 랜덤 탐색 10회 진행"
   ]
  },
  {
   "cell_type": "markdown",
   "metadata": {
    "colab_type": "text",
    "id": "Y-lKEz5Njd6h"
   },
   "source": [
    "* 최상의 파라미터 조합은 **best_parsms_** 인스턴스 속성에 저장"
   ]
  },
  {
   "cell_type": "code",
   "execution_count": null,
   "metadata": {
    "colab": {
     "base_uri": "https://localhost:8080/",
     "height": 140
    },
    "colab_type": "code",
    "id": "R7sRAOqZi8Ce",
    "outputId": "7c873514-6c48-48d8-8a8e-bb63dbe05d44"
   },
   "outputs": [
    {
     "data": {
      "text/plain": [
       "RandomForestRegressor(bootstrap=True, ccp_alpha=0.0, criterion='mse',\n",
       "                      max_depth=None, max_features=7, max_leaf_nodes=None,\n",
       "                      max_samples=None, min_impurity_decrease=0.0,\n",
       "                      min_impurity_split=None, min_samples_leaf=1,\n",
       "                      min_samples_split=2, min_weight_fraction_leaf=0.0,\n",
       "                      n_estimators=180, n_jobs=None, oob_score=False,\n",
       "                      random_state=42, verbose=0, warm_start=False)"
      ]
     },
     "execution_count": 112,
     "metadata": {
      "tags": []
     },
     "output_type": "execute_result"
    }
   ],
   "source": [
    "rnd_search.best_estimator_"
   ]
  },
  {
   "cell_type": "markdown",
   "metadata": {
    "colab_type": "text",
    "id": "UOvSdqIxjpuI"
   },
   "source": [
    "* 최상의 조합은 **max_features=7와n_estimators=180**\n",
    "* 각 조합 별로 평균 제곱 오차와 조합 내용은 **mean_test_score와 params** 지정자를 이용"
   ]
  },
  {
   "cell_type": "code",
   "execution_count": null,
   "metadata": {
    "colab": {
     "base_uri": "https://localhost:8080/",
     "height": 193
    },
    "colab_type": "code",
    "id": "1CGTGK50jmtB",
    "outputId": "690a0e16-dc29-48d7-fce5-a228a9cd2326"
   },
   "outputs": [
    {
     "name": "stdout",
     "output_type": "stream",
     "text": [
      "49150.70756927707 {'max_features': 7, 'n_estimators': 180}\n",
      "51389.889203389284 {'max_features': 5, 'n_estimators': 15}\n",
      "50796.155224308866 {'max_features': 3, 'n_estimators': 72}\n",
      "50835.13360315349 {'max_features': 5, 'n_estimators': 21}\n",
      "49280.9449827171 {'max_features': 7, 'n_estimators': 122}\n",
      "50774.90662363929 {'max_features': 3, 'n_estimators': 75}\n",
      "50682.78888164288 {'max_features': 3, 'n_estimators': 88}\n",
      "49608.99608105296 {'max_features': 5, 'n_estimators': 100}\n",
      "50473.61930350219 {'max_features': 3, 'n_estimators': 150}\n",
      "64429.84143294435 {'max_features': 5, 'n_estimators': 2}\n"
     ]
    }
   ],
   "source": [
    "cvres = rnd_search.cv_results_\n",
    "for mean_score, params in zip(cvres[\"mean_test_score\"], cvres[\"params\"]):\n",
    "    print(np.sqrt(-mean_score), params)"
   ]
  },
  {
   "cell_type": "markdown",
   "metadata": {
    "colab_type": "text",
    "id": "yC1Mq1dZj8Nh"
   },
   "source": [
    "## 8.3 `RandomizedSearchCV`를 위한 Scipy 분포 함수\n",
    "* 랜덤 탐색을 하려면 특정 옵션 변수갈들을 무작위로 선택해주는 **확률분포함수**를 지정\n",
    "* 랜덤 탐색을 이용하여 캘리포니아 인구조사 데이터셋 분석을 위한 최상의 랜덤 포레스트 모델을 찾았을 때 사용한 옵션 변수와 확률분포는 아래와 같음\n",
    "  * **'n_estimators': randint(low=1, high=200)**\n",
    "  * **'max_features': randint(low=1, high=8)**\n",
    "\n",
    "* 기타 확률분포는 Scipy 패키지의 **stats 모듈**에 정의\n",
    "* 그 중에서 기하분포 **geom**, 지수분포 **expon**, 균등분포 **uniform**, 정규분포 **norm** 등을 이용하여 **무작위로 생성된 샘플들의 분포**를 히스토그램으로 보여줌\n",
    "\n",
    "**!참고!**\n",
    "* 히스토그램의 y축은 도수를 가리킴\n",
    "* 도수를 **10,00으로 나눈 값**으로 대체하면 히스토그램에서 해당 확률분포의 그래프가 그려지게 됨\n",
    "* 확률밀도함수의 그래프로 감싸인 영역이 표시\n",
    "\n"
   ]
  },
  {
   "cell_type": "code",
   "execution_count": null,
   "metadata": {
    "colab": {
     "base_uri": "https://localhost:8080/",
     "height": 1000
    },
    "colab_type": "code",
    "id": "UbEwa3skj3UW",
    "outputId": "d284942d-87e0-41da-f95c-27f983e33b8d"
   },
   "outputs": [
    {
     "data": {
      "image/png": "[encoded data removed]",
      "text/plain": [
       "<Figure size 432x288 with 1 Axes>"
      ]
     },
     "metadata": {
      "needs_background": "light",
      "tags": []
     },
     "output_type": "display_data"
    },
    {
     "data": {
      "image/png": "[encoded data removed]",
      "text/plain": [
       "<Figure size 432x288 with 1 Axes>"
      ]
     },
     "metadata": {
      "needs_background": "light",
      "tags": []
     },
     "output_type": "display_data"
    },
    {
     "data": {
      "image/png": "[encoded data removed]",
      "text/plain": [
       "<Figure size 432x288 with 1 Axes>"
      ]
     },
     "metadata": {
      "needs_background": "light",
      "tags": []
     },
     "output_type": "display_data"
    },
    {
     "data": {
      "image/png": "[encoded data removed]",
      "text/plain": [
       "<Figure size 432x288 with 1 Axes>"
      ]
     },
     "metadata": {
      "needs_background": "light",
      "tags": []
     },
     "output_type": "display_data"
    }
   ],
   "source": [
    "from scipy.stats import geom, expon, norm, uniform\n",
    "\n",
    "# 기하분포\n",
    "geom_distrib=geom(0.5).rvs(10000, random_state=42)\n",
    "# 지수분포\n",
    "expon_distrib=expon().rvs(10000, random_state=42)\n",
    "# 균등분포\n",
    "uniform_distrib=uniform().rvs(10000)\n",
    "# 정규분포\n",
    "norm_distrib=norm().rvs(size=10000, random_state=42)\n",
    "\n",
    "# 발생할 확률이 0.5인 사건이 몇 번 시도하면 발생하는가를 10,000번 실험한 결과\n",
    "plt.hist(geom_distrib, bins=50)\n",
    "plt.show()\n",
    "# 특정 사건이 발생할 때까지 걸리는 시간을 10,000번 실험한 결과\n",
    "plt.hist(expon_distrib, bins=50)\n",
    "plt.show()\n",
    "# 0과 1사의 실수를 임의로, 하지만 균등하게 10,000번 선택한 결과\n",
    "plt.hist(uniform_distrib, bins=50)\n",
    "plt.show()\n",
    "# 무작위로 10,000개의 숫자를 선택한 결과. 단, 표준정규분포를 따라야 함. \n",
    "plt.hist(norm_distrib, bins=50)\n",
    "plt.show()"
   ]
  },
  {
   "cell_type": "markdown",
   "metadata": {
    "colab_type": "text",
    "id": "8LYDui0ElCLL"
   },
   "source": [
    "## 8.4 앙상블 방법\n",
    "* 결정 트리 모델 하나보다 **랜덤 포레스트와 결정 트리 모델을 함께 사용**하면 보다 좋은 성능을 얻을 수 있음\n",
    "* **최고 성능을 보이는 개별 모델을 조합**하면 보다 좋은 성능을 얻을 수 있음\n",
    "* 특히, 각각의 모델이 **많이 다른 종류의 오차를 만들 때** 더욱 효과를 볼 수 있음"
   ]
  },
  {
   "cell_type": "markdown",
   "metadata": {
    "colab_type": "text",
    "id": "35rznSX-lVzd"
   },
   "source": [
    "## 8.5 최상의 모델과 오차 분석\n",
    "* 그리드 탐색과 랜덤 탐색 등을 통해 얻어진 **최상의 모델을 분석**해서 문제에 대한 좋은 통창을 얻을 수 있음\n",
    "\n",
    "* 예를 들어, 앞서 그리드 탐색을 통해 얻어진 최상의 **랜덤 포레스트 모델**에서 사용된 특성들 각각의 **중요도**를 **feature_importances_** 인스턴스 속성에 저장되어 있다."
   ]
  },
  {
   "cell_type": "code",
   "execution_count": null,
   "metadata": {
    "colab": {
     "base_uri": "https://localhost:8080/",
     "height": 87
    },
    "colab_type": "code",
    "id": "BnX7reWAk9ln",
    "outputId": "3ab9c27f-cb7a-4f8d-f3a9-f35d85c3e6aa"
   },
   "outputs": [
    {
     "data": {
      "text/plain": [
       "array([7.33442355e-02, 6.29090705e-02, 4.11437985e-02, 1.46726854e-02,\n",
       "       1.41064835e-02, 1.48742809e-02, 1.42575993e-02, 3.66158981e-01,\n",
       "       5.64191792e-02, 1.08792957e-01, 5.33510773e-02, 1.03114883e-02,\n",
       "       1.64780994e-01, 6.02803867e-05, 1.96041560e-03, 2.85647464e-03])"
      ]
     },
     "execution_count": 115,
     "metadata": {
      "tags": []
     },
     "output_type": "execute_result"
    }
   ],
   "source": [
    "feature_importances = grid_search.best_estimator_.feature_importances_\n",
    "feature_importances"
   ]
  },
  {
   "cell_type": "markdown",
   "metadata": {
    "colab_type": "text",
    "id": "kFaAT9H3lzmn"
   },
   "source": [
    "* 중요도와 특성 **이름**을 함께 표시"
   ]
  },
  {
   "cell_type": "code",
   "execution_count": null,
   "metadata": {
    "colab": {
     "base_uri": "https://localhost:8080/",
     "height": 298
    },
    "colab_type": "code",
    "id": "HKMZqBH6lw8l",
    "outputId": "2c4b1d00-c33a-4b89-87ef-4a0625cbfdce"
   },
   "outputs": [
    {
     "data": {
      "text/plain": [
       "[(0.36615898061813423, 'median_income'),\n",
       " (0.16478099356159054, 'INLAND'),\n",
       " (0.10879295677551575, 'pop_per_hhold'),\n",
       " (0.07334423551601243, 'longitude'),\n",
       " (0.06290907048262032, 'latitude'),\n",
       " (0.056419179181954014, 'rooms_per_hhold'),\n",
       " (0.053351077347675815, 'bedrooms_per_room'),\n",
       " (0.04114379847872964, 'housing_median_age'),\n",
       " (0.014874280890402769, 'population'),\n",
       " (0.014672685420543239, 'total_rooms'),\n",
       " (0.014257599323407808, 'households'),\n",
       " (0.014106483453584104, 'total_bedrooms'),\n",
       " (0.010311488326303788, '<1H OCEAN'),\n",
       " (0.0028564746373201584, 'NEAR OCEAN'),\n",
       " (0.0019604155994780706, 'NEAR BAY'),\n",
       " (6.0280386727366e-05, 'ISLAND')]"
      ]
     },
     "execution_count": 116,
     "metadata": {
      "tags": []
     },
     "output_type": "execute_result"
    }
   ],
   "source": [
    "extra_attribs = [\"rooms_per_hhold\", \"pop_per_hhold\", \"bedrooms_per_room\"]\n",
    "#cat_encoder = cat_pipeline.named_steps[\"cat_encoder\"] # 예전 방식\n",
    "cat_encoder = full_pipeline.named_transformers_[\"cat\"]\n",
    "cat_one_hot_attribs = list(cat_encoder.categories_[0])\n",
    "attributes = num_attribs + extra_attribs + cat_one_hot_attribs\n",
    "sorted(zip(feature_importances, attributes), reverse=True)"
   ]
  },
  {
   "cell_type": "markdown",
   "metadata": {
    "colab_type": "text",
    "id": "4-hsao27SKZA"
   },
   "source": [
    "* 위 정보를 특성들의 중요도를 확인할 수 있으며, **중요 특성과 그렇지 않은 특성**을 구분할 수 있음\n",
    "* 예를 들어, **중간 소득**(median income)과 **INLAND**(내륙, 해안 근접도)가 가장 중요한 특성으로 확인됨\n",
    "* 하지만 **해안 근접도**의 다른 네 가지 특성은 별로 중요하지 않음\n",
    "\n",
    "* 이것을 이용해 **특성을 추가하거나 삭제**하고, **이상치를 제거**하는 등의 방식을 이용하여 **좋은 성능의 학습 모델**을 생성"
   ]
  },
  {
   "cell_type": "markdown",
   "metadata": {
    "colab_type": "text",
    "id": "Pj9Gf8jfSj1j"
   },
   "source": [
    "## 8.6 테스트 셋으로 최상의 모델 평가하기\n",
    "1. **최상의 모델 확인**"
   ]
  },
  {
   "cell_type": "code",
   "execution_count": null,
   "metadata": {
    "colab": {},
    "colab_type": "code",
    "id": "_YwlDJ57l7OX"
   },
   "outputs": [],
   "source": [
    "final_model = grid_search.best_estimator_"
   ]
  },
  {
   "cell_type": "markdown",
   "metadata": {
    "colab_type": "text",
    "id": "QffDkVr4Srab"
   },
   "source": [
    "2. **테스트 세트 전처리**\n",
    "  * 과정은 **훈련 세트의 경우와 동일**\n",
    "  * **full_pipeline** 변환기의 **transform() **메서드를 직접 활용\n",
    "  * **fit()** 메서드는 전혀 **사용하지 않는 것**에 주의\n",
    "  * 훈련 세트의 전처리에서는 **fit_transform()** 메서드를 사용하였음"
   ]
  },
  {
   "cell_type": "code",
   "execution_count": null,
   "metadata": {
    "colab": {},
    "colab_type": "code",
    "id": "DGVWBAcgTE7y"
   },
   "outputs": [],
   "source": [
    "X_test = strat_test_set.drop(\"median_house_value\", axis=1)\n",
    "y_test = strat_test_set[\"median_house_value\"].copy()\n",
    "\n",
    "X_test_prepared = full_pipeline.transform(X_test)"
   ]
  },
  {
   "cell_type": "markdown",
   "metadata": {
    "colab_type": "text",
    "id": "miiaQAruTEV_"
   },
   "source": [
    "3. **최상의 모델을 이용하여 예측하기**"
   ]
  },
  {
   "cell_type": "code",
   "execution_count": null,
   "metadata": {
    "colab": {},
    "colab_type": "code",
    "id": "Ti9J6asNTP3w"
   },
   "outputs": [],
   "source": [
    "final_predictions = final_model.predict(X_test_prepared)"
   ]
  },
  {
   "cell_type": "markdown",
   "metadata": {
    "colab_type": "text",
    "id": "kszOCxbuTPVW"
   },
   "source": [
    "4. **예측 결과의 오차 계산**"
   ]
  },
  {
   "cell_type": "code",
   "execution_count": null,
   "metadata": {
    "colab": {
     "base_uri": "https://localhost:8080/",
     "height": 34
    },
    "colab_type": "code",
    "id": "2QGjghF0TU3M",
    "outputId": "5971c551-81f2-49c8-8b3c-4faf48b63858"
   },
   "outputs": [
    {
     "data": {
      "text/plain": [
       "47730.22690385927"
      ]
     },
     "execution_count": 120,
     "metadata": {
      "tags": []
     },
     "output_type": "execute_result"
    }
   ],
   "source": [
    "final_mse = mean_squared_error(y_test, final_predictions)\n",
    "final_rmse = np.sqrt(final_mse)\n",
    "\n",
    "final_rmse"
   ]
  },
  {
   "cell_type": "markdown",
   "metadata": {
    "colab_type": "text",
    "id": "cHTLtQzbTUbU"
   },
   "source": [
    "* 테스트 셋에 대한 **평균 제곱근 오차**가 이전에 교차 검증을 통해 얻은 결과보다 좋음\n",
    "* 하지만 이것이 **그리드 탐색** 통해 다양한 **하이퍼파라미터 조합**을 실험하여 얻은 결과가 **항상 좋다라는 결론을 의미 X**\n",
    "* 일반적으론 **반대의 결과**가 나오기 때문\n",
    "* 따라서 테스트 세트에 대한 **성능을 높이기** 위해 하이퍼파라미터를 **일부러 튜닝하는 것은 피해야함** \n",
    "  * 일부러 튜닝할 경우 **과대적합된 모델**을 얻게될 가능성이 높아지기 때문"
   ]
  },
  {
   "cell_type": "markdown",
   "metadata": {
    "colab_type": "text",
    "id": "8oo7knu1T4tF"
   },
   "source": [
    "#### 평균 제곱근 오차의 t-분포 신뢰구간 확인하기\n",
    "* 테스트 세트에 대한 RMSE를 어느 정도 믿을 수 있을지 **t-분포 95% 신뢰 구간**을 계산\n",
    "* scipy 패키지의 **`stats`** 모듈을 활용"
   ]
  },
  {
   "cell_type": "code",
   "execution_count": null,
   "metadata": {
    "colab": {
     "base_uri": "https://localhost:8080/",
     "height": 34
    },
    "colab_type": "code",
    "id": "JYwTgD0PUIkz",
    "outputId": "a5e62dcd-4877-4bc0-b7e9-5f4e3cc0cfde"
   },
   "outputs": [
    {
     "data": {
      "text/plain": [
       "array([45685.10470776, 49691.25001878])"
      ]
     },
     "execution_count": 121,
     "metadata": {
      "tags": []
     },
     "output_type": "execute_result"
    }
   ],
   "source": [
    "from scipy import stats\n",
    "\n",
    "confidence = 0.95\n",
    "squared_errors = (final_predictions - y_test) ** 2\n",
    "np.sqrt(stats.t.interval(confidence, len(squared_errors) - 1,\n",
    "                         loc=squared_errors.mean(),\n",
    "                         scale=stats.sem(squared_errors)))"
   ]
  },
  {
   "cell_type": "markdown",
   "metadata": {
    "colab_type": "text",
    "id": "lGswbIIfUJ3B"
   },
   "source": [
    "* 결과에 따르면 임의의 캘리포니아 구역에 대해 예측된 중간 주택 가격과 실제 중간 주택 가격의 차이는 **95%의 확률로 45,685달러에서 49,691 달러** 정도로 확인됨"
   ]
  },
  {
   "cell_type": "markdown",
   "metadata": {
    "colab_type": "text",
    "id": "npAhnUwaUQX9"
   },
   "source": [
    "#### 수동으로 t-분포 신뢰구간 계산하기\n"
   ]
  },
  {
   "cell_type": "code",
   "execution_count": null,
   "metadata": {
    "colab": {
     "base_uri": "https://localhost:8080/",
     "height": 34
    },
    "colab_type": "code",
    "id": "k4mmLR-YUWGQ",
    "outputId": "b40dc133-84e9-4821-fed7-48d64a1f66c9"
   },
   "outputs": [
    {
     "data": {
      "text/plain": [
       "(45685.10470776, 49691.25001877858)"
      ]
     },
     "execution_count": 122,
     "metadata": {
      "tags": []
     },
     "output_type": "execute_result"
    }
   ],
   "source": [
    "m = len(squared_errors)\n",
    "mean = squared_errors.mean()\n",
    "tscore = stats.t.ppf((1 + confidence) / 2, df=m - 1)\n",
    "tmargin = tscore * squared_errors.std(ddof=1) / np.sqrt(m)\n",
    "np.sqrt(mean - tmargin), np.sqrt(mean + tmargin)"
   ]
  },
  {
   "cell_type": "markdown",
   "metadata": {
    "colab_type": "text",
    "id": "Emhr5-3-UW_s"
   },
   "source": [
    "* t-점수 대신 z-점수를 사용 가능"
   ]
  },
  {
   "cell_type": "code",
   "execution_count": null,
   "metadata": {
    "colab": {
     "base_uri": "https://localhost:8080/",
     "height": 34
    },
    "colab_type": "code",
    "id": "5Jby_D-qUbuy",
    "outputId": "e5d72d14-de8a-491e-b9b2-0140343e3d86"
   },
   "outputs": [
    {
     "data": {
      "text/plain": [
       "(45685.717918136455, 49690.68623889413)"
      ]
     },
     "execution_count": 125,
     "metadata": {
      "tags": []
     },
     "output_type": "execute_result"
    }
   ],
   "source": [
    "zscore = stats.norm.ppf((1 + confidence) / 2)\n",
    "zmargin = zscore * squared_errors.std(ddof=1) / np.sqrt(m)\n",
    "np.sqrt(mean - zmargin), np.sqrt(mean + zmargin)"
   ]
  },
  {
   "cell_type": "code",
   "execution_count": null,
   "metadata": {
    "colab": {},
    "colab_type": "code",
    "id": "_Er7oicqSq7A"
   },
   "outputs": [],
   "source": []
  }
 ],
 "metadata": {
  "colab": {
   "collapsed_sections": [],
   "name": "핸즈온머신러닝_2장.ipynb",
   "provenance": []
  },
  "kernelspec": {
   "display_name": "Python 3",
   "language": "python",
   "name": "python3"
  },
  "language_info": {
   "codemirror_mode": {
    "name": "ipython",
    "version": 3
   },
   "file_extension": ".py",
   "mimetype": "text/x-python",
   "name": "python",
   "nbconvert_exporter": "python",
   "pygments_lexer": "ipython3",
   "version": "3.7.6"
  }
 },
 "nbformat": 4,
 "nbformat_minor": 1
}
